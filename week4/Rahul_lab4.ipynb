{
  "cells": [
    {
      "cell_type": "markdown",
      "metadata": {
        "id": "JhY6FAw2Nix7"
      },
      "source": [
        "# CIS024C -  Fall 2024 - Lab 4\n",
        "\n",
        "## Lab 4\n",
        "\n",
        "**Lab 4 consists the below topics**\n",
        "\n",
        "* Structured Data\n",
        "\n",
        "- Lists\n",
        "\n",
        "- Tuples\n",
        "\n",
        "- Dictionary\n",
        "\n",
        "Feel free to search the web for how you can solve these exercises.\n",
        "\n",
        "We will review them during class.\n",
        "\n",
        "**Students will be given partial credit for attemping to solve the exercises. You will be given the solutions during class and are required to use the solution to update your lab with the correct solutions**\n",
        "\n",
        "You will need to download this notebook and use this as a starting point for your homework. You will just need to fill in the content of each code-block (cell) and execute. Once you have completed all the exercises, you will need to save this notebook and upload it into Canvas.\n",
        "\n",
        "Note also the exercises build on top of one another so you might be able to do the next exercise if you have not completed the previous exercise.\n",
        "\n",
        "Post any questions you have on our Slack discussions channel"
      ]
    },
    {
      "cell_type": "markdown",
      "metadata": {
        "id": "WC7HbTwgNix9"
      },
      "source": [
        "#### Exercise 1 (20 points)\n",
        "\n",
        "Write a Python script to accept a list of integers from the user, sort a list of integers in descending order, and display the result"
      ]
    },
    {
      "cell_type": "code",
      "execution_count": null,
      "metadata": {
        "id": "XShGnSnFNix9",
        "colab": {
          "base_uri": "https://localhost:8080/"
        },
        "outputId": "584e97d0-8be1-4611-b650-9b07c3bf5add"
      },
      "outputs": [
        {
          "output_type": "stream",
          "name": "stdout",
          "text": [
            "Enter a list of numbers separated by commas: 1,2,3,4,5,6,7,8,9\n",
            "['9', '8', '7', '6', '5', '4', '3', '2', '1']\n"
          ]
        }
      ],
      "source": [
        "### YOUR CODE GOES BELOW\n",
        "\n",
        "numList = input(\"Enter a list of numbers separated by commas: \").split(',')\n",
        "\n",
        "numList.sort(reverse=True)\n",
        "print(numList)\n",
        "\n",
        "### END CODE"
      ]
    },
    {
      "cell_type": "markdown",
      "metadata": {
        "id": "dI2AEdVWNix-"
      },
      "source": [
        "#### Exercise 2 (20 points)\n",
        "\n",
        "1. Prompt the user to enter five key:value pairs. This could be employee_id and employee_name. For example:\n",
        "\n",
        "{1:'Bob',23:'Joe',3:'Sam'}\n",
        "\n",
        "2. Display the employees in ascending order of their names."
      ]
    },
    {
      "cell_type": "code",
      "execution_count": null,
      "metadata": {
        "id": "OT3-wSBmNix-",
        "colab": {
          "base_uri": "https://localhost:8080/"
        },
        "outputId": "1670f61e-5946-4c20-cb9b-8ebcec0b8999"
      },
      "outputs": [
        {
          "output_type": "stream",
          "name": "stdout",
          "text": [
            "Enter employee #1 (ID:Name): 1:Jake\n",
            "Enter employee #2 (ID:Name): 2:Tim\n",
            "Enter employee #3 (ID:Name): 3:Sam\n",
            "Enter employee #4 (ID:Name): 4:Dan\n",
            "Enter employee #5 (ID:Name): 5:Alan\n",
            "{1: 'Jake', 2: 'Tim', 3: 'Sam', 4: 'Dan', 5: 'Alan'}\n",
            "\n",
            "Employees sorted in ascending order:\n",
            "5: Alan\n",
            "4: Dan\n",
            "1: Jake\n",
            "3: Sam\n",
            "2: Tim\n"
          ]
        }
      ],
      "source": [
        "### YOUR CODE GOES BELOW\n",
        "\n",
        "# initialize empty dictionary to store employee data\n",
        "employee_data = {}\n",
        "\n",
        "for i in range(5):\n",
        "  user_input = input(f\"Enter employee #{i+1} (ID:Name): \")\n",
        "\n",
        "  parts = user_input.split(':')\n",
        " # print(type(parts))\n",
        " # print(parts[0])\n",
        "\n",
        "  if len(parts) != 2:\n",
        "    print(\"Invalid input format. Please enter ID:Name (separated by a colon).\")\n",
        "    continue\n",
        "\n",
        "  if not parts[0].isdigit():\n",
        "    print(\"Invalid ID. Please enter a number for the employee ID.\")\n",
        "    continue\n",
        "\n",
        "  employee_name = parts[1]\n",
        "\n",
        "  employee_data[int(parts[0])] = employee_name\n",
        "\n",
        "#print employee dictionary unsorted\n",
        "print(employee_data)\n",
        "\n",
        "#sort the employees\n",
        "sorted_employees = dict(sorted(employee_data.items(), key=lambda x: x[1]))\n",
        "#printing employees in ascending order\n",
        "print(\"\\nEmployees sorted in ascending order:\")\n",
        "for key, value in sorted_employees.items():\n",
        "  print(f\"{key}: {value}\")\n",
        "\n",
        "### END CODE"
      ]
    },
    {
      "cell_type": "markdown",
      "metadata": {
        "id": "R7PYSIo0Nix-"
      },
      "source": [
        "#### Exercise 3 (20 points)\n",
        "\n",
        "1. Accept two separate lists of integers from the user.\n",
        "\n",
        "2. Write a Python script to concatenate two lists to create a new one\n",
        "\n",
        "3. Display the resulting list\n"
      ]
    },
    {
      "cell_type": "code",
      "execution_count": null,
      "metadata": {
        "id": "3kvrmoCHNix_",
        "colab": {
          "base_uri": "https://localhost:8080/"
        },
        "outputId": "9c1e0450-f16f-4fc5-9a42-ef9e0bd098bf"
      },
      "outputs": [
        {
          "output_type": "stream",
          "name": "stdout",
          "text": [
            "Enter integers for list 1 separated by spaces: 1 3 5 7 9\n",
            "Enter integers for list 2 separated by spaces: 2 4 6 8 10\n",
            "Resulting list is:  ['1', '3', '5', '7', '9', '2', '4', '6', '8', '10']\n"
          ]
        }
      ],
      "source": [
        "### YOUR CODE GOES BELOW\n",
        "list1 = input(\"Enter integers for list 1 separated by spaces: \").split()\n",
        "list2 = input(\"Enter integers for list 2 separated by spaces: \").split()\n",
        "\n",
        "total_list = list1 + list2\n",
        "\n",
        "print(\"Resulting list is: \", total_list)\n",
        "\n",
        "### END CODE"
      ]
    },
    {
      "cell_type": "markdown",
      "metadata": {
        "id": "Dqb4CSxcNix_"
      },
      "source": [
        "#### Exercise 4 (20 points)\n",
        "\n",
        "1. Accept two separate dictionaries of integers from the user. It could be the same employee id: employee_name dictionary from Exercise 2.\n",
        "\n",
        "2. Write a Python script to concatenate the two dictionaries to create a new one\n",
        "\n",
        "3. Display the resulting dictionary\n"
      ]
    },
    {
      "cell_type": "code",
      "execution_count": null,
      "metadata": {
        "id": "zPHBqXvLNix_",
        "colab": {
          "base_uri": "https://localhost:8080/"
        },
        "outputId": "8cb46fc2-08d2-4810-c3e1-a62d4864573a"
      },
      "outputs": [
        {
          "output_type": "stream",
          "name": "stdout",
          "text": [
            "Enter employee #1 (ID:Name): 1:Max\n",
            "Enter employee #2 (ID:Name): 2:Eric\n",
            "Enter employee #3 (ID:Name): 3:Ray\n",
            "{1: 'Max', 2: 'Eric', 3: 'Ray'}\n",
            "Enter car #1 (Make:Model): Tesla:Y\n",
            "Enter car #2 (Make:Model): BMW:M3\n",
            "Enter car #3 (Make:Model): Ford:Mustang\n",
            "{'Tesla': 'Y', 'BMW': 'M3', 'Ford': 'Mustang'}\n",
            "Combined dictionary is {1: 'Max', 2: 'Eric', 3: 'Ray', 'Tesla': 'Y', 'BMW': 'M3', 'Ford': 'Mustang'}\n"
          ]
        }
      ],
      "source": [
        "### YOUR CODE GOES BELOW\n",
        "\n",
        "# from exercise 2\n",
        "employee_data = {}\n",
        "\n",
        "for i in range(3):\n",
        "  user_input = input(f\"Enter employee #{i+1} (ID:Name): \")\n",
        "\n",
        "  parts = user_input.split(':')\n",
        "\n",
        "  if len(parts) != 2:\n",
        "    print(\"Invalid input format. Please enter ID:Name (separated by a colon).\")\n",
        "    continue\n",
        "\n",
        "  if not parts[0].isdigit():\n",
        "    print(\"Invalid ID. Please enter a number for the employee ID.\")\n",
        "    continue\n",
        "\n",
        "  employee_name = parts[1]\n",
        "\n",
        "  employee_data[int(parts[0])] = employee_name\n",
        "\n",
        "#print employee dictionary\n",
        "print(employee_data)\n",
        "\n",
        "#2nd dictionary\n",
        "car_data = {}\n",
        "\n",
        "for i in range(3):\n",
        "  car_info = input(f\"Enter car #{i+1} (Make:Model): \")\n",
        "\n",
        "  parts = car_info.split(':')\n",
        "\n",
        "  # checking if the make is alphanumeric\n",
        "  if not parts[0].isalpha():\n",
        "    print(\"Invalid input. Please enter a make/model for a car.\")\n",
        "    continue\n",
        "\n",
        "  key = parts[0]\n",
        "  value = parts[1]\n",
        "  car_data[key] = value\n",
        "\n",
        "# print car info dictionary\n",
        "print(car_data)\n",
        "\n",
        "#concatenate both dictionaries into one\n",
        "combined_dict = {**employee_data, **car_data}\n",
        "print(f\"Combined dictionary is {combined_dict}\")\n",
        "\n",
        "### END CODE"
      ]
    },
    {
      "cell_type": "markdown",
      "metadata": {
        "id": "6gvwEt4SNix_"
      },
      "source": [
        "#### Exercise 5 (20 points)\n",
        "\n",
        "\n",
        "1. Prompt the user to enter five key:value pairs. This could be employee_id and employee_name. For example:\n",
        "\n",
        "{1:'Bob',23,'Joe',3:'Sam'}\n",
        "\n",
        "2. Display the employees in ascending order of their names.\n",
        "\n",
        "(note above steps are from problem 2)\n",
        "\n",
        "3. Start a While loop and ask the user to enter a new key and employee name, to add to the dictionary. From within the While loop, check if the key already exists and if it exists, display a message indicating the Key already exists; otherwise, proceed to add the new id and key to the dictionary. If the user enters an id of -1 break from the While loop\n"
      ]
    },
    {
      "cell_type": "code",
      "execution_count": null,
      "metadata": {
        "id": "aaY_4dwfNix_",
        "colab": {
          "base_uri": "https://localhost:8080/"
        },
        "outputId": "0766d36f-dbcf-4598-da20-4e3f7962c511"
      },
      "outputs": [
        {
          "output_type": "stream",
          "name": "stdout",
          "text": [
            "Enter employee #1 (ID:Name): 1:Joe\n",
            "Enter employee #2 (ID:Name): 2:Charlie\n",
            "Enter employee #3 (ID:Name): 3:Matt\n",
            "Enter employee #4 (ID:Name): 4:Steve\n",
            "Enter employee #5 (ID:Name): 5:Finn\n",
            "{1: 'Joe', 2: 'Charlie', 3: 'Matt', 4: 'Steve', 5: 'Finn'}\n",
            "\n",
            "Employees sorted in ascending order:\n",
            "2: Charlie\n",
            "5: Finn\n",
            "1: Joe\n",
            "3: Matt\n",
            "4: Steve\n",
            "Enter new employee ID (-1 to stop): 6\n",
            "Enter new employee name: Brian\n",
            "Enter new employee ID (-1 to stop): 7\n",
            "Enter new employee name: Luke\n",
            "Enter new employee ID (-1 to stop): -1\n",
            "Updated employee dictionary: {1: 'Joe', 2: 'Charlie', 3: 'Matt', 4: 'Steve', 5: 'Finn', 6: 'Brian', 7: 'Luke'}\n"
          ]
        }
      ],
      "source": [
        "### YOUR CODE GOES BELOW\n",
        "# initialize empty dictionary to store employee data\n",
        "employee_data = {}\n",
        "\n",
        "#from exercise 2\n",
        "for i in range(5):\n",
        "  user_input = input(f\"Enter employee #{i+1} (ID:Name): \")\n",
        "\n",
        "  parts = user_input.split(':')\n",
        " # print(type(parts))\n",
        " # print(parts[0])\n",
        "\n",
        "  if len(parts) != 2:\n",
        "    print(\"Invalid input format. Please enter ID:Name (separated by a colon).\")\n",
        "    continue\n",
        "\n",
        "  if not parts[0].isdigit():\n",
        "    print(\"Invalid ID. Please enter a number for the employee ID.\")\n",
        "    continue\n",
        "\n",
        "  employee_name = parts[1]\n",
        "\n",
        "  employee_data[int(parts[0])] = employee_name\n",
        "\n",
        "#print dictionary\n",
        "print(employee_data)\n",
        "\n",
        "#sort the employees\n",
        "sorted_employees = dict(sorted(employee_data.items(), key=lambda x: x[1]))\n",
        "\n",
        "#printing employees in ascending order\n",
        "print(\"\\nEmployees sorted in ascending order:\")\n",
        "\n",
        "for key, value in sorted_employees.items():\n",
        "  print(f\"{key}: {value}\")\n",
        "\n",
        "while True:\n",
        "    new_key = input(\"Enter new employee ID (-1 to stop): \")\n",
        "    #exits the loop\n",
        "    if new_key == '-1':\n",
        "        break\n",
        "\n",
        "    if not new_key.isdigit():\n",
        "        print(\"Invalid ID. Please enter a number for the employee ID.\")\n",
        "        continue\n",
        "\n",
        "    new_key = int(new_key)\n",
        "    # checking whether the entered key preexists in the dictionary\n",
        "    if new_key in employee_data:\n",
        "        print(\"Employee ID already exists.\")\n",
        "        continue\n",
        "\n",
        "    new_name = input(\"Enter new employee name: \")\n",
        "    employee_data[new_key] = new_name\n",
        "\n",
        "#print dictionary with new entered key:value pairs\n",
        "print(f\"Updated employee dictionary: {employee_data}\")\n",
        "\n",
        "### END CODE"
      ]
    },
    {
      "cell_type": "markdown",
      "metadata": {
        "id": "S_d2sJ73Nix_"
      },
      "source": [
        "## When completed, Save, download the notebook and upload into Canvas"
      ]
    },
    {
      "cell_type": "code",
      "execution_count": null,
      "metadata": {
        "id": "Z92Iri7ANix_"
      },
      "outputs": [],
      "source": []
    }
  ],
  "metadata": {
    "kernelspec": {
      "display_name": "Python 3",
      "language": "python",
      "name": "python3"
    },
    "language_info": {
      "codemirror_mode": {
        "name": "ipython",
        "version": 3
      },
      "file_extension": ".py",
      "mimetype": "text/x-python",
      "name": "python",
      "nbconvert_exporter": "python",
      "pygments_lexer": "ipython3",
      "version": "3.8.5"
    },
    "colab": {
      "provenance": []
    }
  },
  "nbformat": 4,
  "nbformat_minor": 0
}