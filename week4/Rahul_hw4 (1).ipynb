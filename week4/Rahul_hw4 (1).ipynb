{
  "cells": [
    {
      "cell_type": "markdown",
      "metadata": {
        "id": "O4xBTO_aOjFP"
      },
      "source": [
        "\n",
        "# CIS024C -  Fall 2024 - HW4\n",
        "\n",
        "## Homework 4\n",
        "\n",
        "Homework 4 covers exercises in basic collection objects in Python - lists, tuples and dictionaries.\n",
        "\n",
        "The below sites have some interesting and useful information on these objects.\n",
        "\n",
        "http://sthurlow.com/python/lesson06/\n",
        "https://docs.python.org/2/tutorial/datastructures.html\n",
        "\n",
        "You will need to download this notebook and use this as a starting point for your homework. You will just need to fill in the content of each code-block (cell) and execute. Once you have completed all the exercises, you will need to save and upload this to your Canvas\n",
        "\n",
        "Note also the exercises build on top of one another so you might be able to do the next exercise if you have not completed the previous exercise."
      ]
    },
    {
      "cell_type": "markdown",
      "metadata": {
        "id": "m_JzN1chOjFR"
      },
      "source": [
        "### Helpful Jupyter Commands\n",
        "\n",
        "Below are some useful commands to know when using Jupyter\n",
        "\n",
        "1. You can add a new cell by clicking on the \"+\" icon on top.\n",
        "2. You can delete a cell by selecting that cell and clicking on the \"scissors\" icon on top.\n",
        "3. You can execute a cell by either pressing shift+enter or selecting the \"play\" button on top.\n",
        "4. You can create a new file in Jupyter via the File menu->New Notebook option. Make sure to select Python 2 when creating your notebook.\n",
        "5. Also, for your code blocks make sure that Code is selected instead of another option like Markdown.\n",
        "6. Use the Enter key to go to the next line in a cell to enter the next statement.\n",
        "7. You can clear results by clicking on the Cell menu item and selecting Current Output->Clear or All Output->Clear depending on whether you are trying to just clear the output for one cell or for all cells.\n",
        "8. In case your program has crashed for some reason (infinite loop, for example), you can restart your Python session by select Kernel in the menu and selecting Restart.\n"
      ]
    },
    {
      "cell_type": "markdown",
      "metadata": {
        "id": "gupAjuWyOjFR"
      },
      "source": [
        "#### Check Python Version"
      ]
    },
    {
      "cell_type": "code",
      "execution_count": null,
      "metadata": {
        "id": "W39LBhNfOjFS",
        "outputId": "6ad46750-6a4e-44a3-8c76-5a791b300cd8"
      },
      "outputs": [
        {
          "name": "stdout",
          "output_type": "stream",
          "text": [
            "Python 3.8.5\r\n"
          ]
        }
      ],
      "source": [
        "!python --version"
      ]
    },
    {
      "cell_type": "markdown",
      "metadata": {
        "id": "xqHm_V35OjFS"
      },
      "source": [
        "#### Sample Exercises with conditionals and repetitions\n",
        "\n",
        "Refer to Week 4 classwork for sample exercises - https://github.com/cis024c/spring2018classwork/tree/master/week4"
      ]
    },
    {
      "cell_type": "markdown",
      "metadata": {
        "id": "xuLEy5MNOjFT"
      },
      "source": [
        "**Exercise 1 - Testing your knowledge of lists, tuples and dictionaries**\n",
        "\n",
        "Answer the below questions\n",
        "\n",
        "1. Are lists mutable? Yes or No\n",
        "2. Are tuples mutable? Yes or No\n",
        "3. A dictionary is initialized using square brackets? True or False\n",
        "4. If x is a tuple of the form ```x=(1,2,3)```, the operation ```x[0]=1``` is a valid operation? True or False\n",
        "\n",
        "Your answer should be of the form\n",
        "1. your response\n",
        "2. your response\n",
        "3. your response\n",
        "4. your response\n"
      ]
    },
    {
      "cell_type": "markdown",
      "metadata": {
        "id": "Wvgtp9NiOjFT"
      },
      "source": [
        "<< Double click this cell and enter your result >>\n",
        "1. yes\n",
        "2. no\n",
        "3. False\n",
        "4. False"
      ]
    },
    {
      "cell_type": "markdown",
      "metadata": {
        "id": "v29iA5UGOjFT"
      },
      "source": [
        "#### Exercise 2 -  Initializing a list, tuple and dictionary\n",
        "\n",
        "1. Initialize a list variable **myList** using square brackets with the number 10,20,30. Display the list\n",
        "2. Initialize a tuple variable **myTuple** using parenthesis with the names John, Adams, Christopher. Display the tuple.\n",
        "3. Initialize a dictionary variable **myDictionary**. The key values should be following. Note that the key is an integer variable, but the value is a string variable\n",
        "```\n",
        "1:Red\n",
        "2:Blue\n",
        "3:Green\n",
        "```"
      ]
    },
    {
      "cell_type": "code",
      "execution_count": null,
      "metadata": {
        "id": "ozj5gowVOjFT",
        "colab": {
          "base_uri": "https://localhost:8080/"
        },
        "outputId": "eca117ba-3163-4c48-ed92-a8bb114a43ae"
      },
      "outputs": [
        {
          "output_type": "stream",
          "name": "stdout",
          "text": [
            "[10, 20, 30]\n",
            "('John', 'Adams', 'Christopher')\n",
            "{1: 'Red', 2: 'Blue', 3: 'Green'}\n"
          ]
        }
      ],
      "source": [
        "### YOUR CODE GOES\n",
        "\n",
        "myList = [10,20,30]\n",
        "myTuple = ('John', 'Adams', 'Christopher')\n",
        "myDictionary = {1:'Red', 2:'Blue', 3:'Green'}\n",
        "\n",
        "print(myList)\n",
        "print(myTuple)\n",
        "print(myDictionary)\n",
        "### END CODE"
      ]
    },
    {
      "cell_type": "markdown",
      "metadata": {
        "id": "vZ8G-tQHOjFT"
      },
      "source": [
        "#### Exercise 3 - Displaying values in a list object\n",
        "\n",
        "Create a list object with 10 arbitrary numbers. Use a **for loop** to display only the odd numbers in the list.\n",
        "\n",
        "**Example:**\n",
        "\n",
        "If your list has ```[2,3,4,5,6]```, then you will need to display ```[3,5]```\n"
      ]
    },
    {
      "cell_type": "code",
      "execution_count": null,
      "metadata": {
        "id": "4GFhLqnyOjFT",
        "colab": {
          "base_uri": "https://localhost:8080/"
        },
        "outputId": "6622289f-014f-4987-e247-81625791032c"
      },
      "outputs": [
        {
          "output_type": "stream",
          "name": "stdout",
          "text": [
            "[1, 11, 21, 17, 33, 101]\n"
          ]
        }
      ],
      "source": [
        "### YOUR CODE GOES BELOW\n",
        "\n",
        "myList = [1,6,11,18,20,21,17,33,101,200]\n",
        "oddList = []\n",
        "\n",
        "for i in myList:\n",
        "  if i % 2 != 0:\n",
        "    oddList.append(i)\n",
        "\n",
        "print(oddList)\n",
        "\n",
        "### END CODE"
      ]
    },
    {
      "cell_type": "markdown",
      "metadata": {
        "id": "Ypado3ohOjFT"
      },
      "source": [
        "#### Exercise 4 - Sorting a list of strings\n",
        "\n",
        "Ask the user to enter a list of names. Sort the names in descending order.\n",
        "\n",
        "Use the list's **sort** function\n",
        "\n",
        "https://www.w3schools.com/python/ref_list_sort.asp"
      ]
    },
    {
      "cell_type": "code",
      "execution_count": null,
      "metadata": {
        "id": "0BNhoHPVOjFU",
        "colab": {
          "base_uri": "https://localhost:8080/"
        },
        "outputId": "c4645711-b236-44de-e8cd-0134eab39658"
      },
      "outputs": [
        {
          "output_type": "stream",
          "name": "stdout",
          "text": [
            "Enter a list of names separated by commas: Nick, Jim, Ken, Cole\n",
            "['Nick', ' Ken', ' Jim', ' Cole']\n"
          ]
        }
      ],
      "source": [
        "### YOUR CODE GOES BELOW\n",
        "nameList = input(\"Enter a list of names separated by commas: \").split(',')\n",
        "\n",
        "nameList.sort(reverse=True)\n",
        "print(nameList)\n",
        "\n",
        "### END CODE"
      ]
    },
    {
      "cell_type": "markdown",
      "metadata": {
        "id": "9qqW1PPKOjFU"
      },
      "source": [
        "#### Exercise 5 - Accessing values in a dictionary object\n",
        "\n",
        "Initialize a dictionary object with the below key, value pairs\n",
        "\n",
        " Key  | Value\n",
        " -----|------\n",
        "'Harry'|'Teacher'\n",
        "'Sally'|'Scientist'\n",
        "'Joe'|'Farmer'\n",
        "'Mathew'|'Detective'\n",
        "\n",
        "Use a while loop to ask the user to enter a name, and display the corresponding value. If the name is not found, display \"Could not find user\"\n",
        "\n",
        "At the end of each iteration, ask the user if they want to continue. If the user wants to continue, repeat the question, otherwise, terminate the while loop and display the message \"Program ended\"\n",
        "\n",
        "**Example**\n",
        "```\n",
        "Enter a name: Harry\n",
        "Occupation is Teacher\n",
        "\n",
        "Do you want to continue(y/n): y\n",
        "\n",
        "Enter a name: Joe\n",
        "Occupation is Farmer\n",
        "\n",
        "Enter a name: Mark\n",
        "Could not find user\n",
        "\n",
        "Do you want to continue(y/n): n\n",
        "Program ended\n",
        "```"
      ]
    },
    {
      "cell_type": "code",
      "execution_count": null,
      "metadata": {
        "id": "U0aZEtABOjFU",
        "colab": {
          "base_uri": "https://localhost:8080/"
        },
        "outputId": "78d54b0a-c1e1-465a-91bc-ad980f958eb2"
      },
      "outputs": [
        {
          "output_type": "stream",
          "name": "stdout",
          "text": [
            "Enter a name: Sally\n",
            "Value: Scientist\n",
            "Do you want to continue? (y/n): y\n",
            "Enter a name: joe\n",
            "Could not find user\n",
            "Do you want to continue? (y/n): Joe\n",
            "Program ended\n"
          ]
        }
      ],
      "source": [
        "### YOUR CODE GOES BELOW\n",
        "\n",
        "my_dict = {\n",
        "    'Harry': 'Teacher',\n",
        "    'Sally': 'Scientist',\n",
        "    'Joe': 'Farmer',\n",
        "    'Mathew': 'Detective'\n",
        "}\n",
        "\n",
        "while True:\n",
        "    name = input(\"Enter a name: \")\n",
        "\n",
        "    if name in my_dict:\n",
        "        print(\"Value:\", my_dict[name])\n",
        "    else:\n",
        "        print(\"Could not find user\")\n",
        "\n",
        "    choice = input(\"Do you want to continue? (y/n): \")\n",
        "\n",
        "    if choice.lower() != 'y':\n",
        "        print(\"Program ended\")\n",
        "        break\n",
        "\n",
        "\n",
        "\n",
        "### END CODE"
      ]
    },
    {
      "cell_type": "markdown",
      "metadata": {
        "id": "HOtsZVtHOjFU"
      },
      "source": [
        "## OPTIONAL EXERCISES\n",
        "\n",
        "Below is a set of optional exercises. These will not be graded but the solutions will be posted. I would strongly encourage you to try these out if you are done with the mandatory homework exercises to improve your understanding of python."
      ]
    },
    {
      "cell_type": "markdown",
      "metadata": {
        "id": "rP7el_fYOjFU"
      },
      "source": [
        "#### Exercise 6\n",
        "\n",
        "Write a Python script to check if a given key already exists in a dictionary\n",
        "\n",
        "**Hint**: Use the **get** method to determine if a key exists"
      ]
    },
    {
      "cell_type": "code",
      "execution_count": null,
      "metadata": {
        "collapsed": true,
        "id": "d5in-fCIOjFU",
        "colab": {
          "base_uri": "https://localhost:8080/"
        },
        "outputId": "639a43ed-4857-42bd-fc92-9c9075b10cbb"
      },
      "outputs": [
        {
          "output_type": "stream",
          "name": "stdout",
          "text": [
            "San Jose\n"
          ]
        }
      ],
      "source": [
        "### YOUR CODE GOES BELOW\n",
        "info = {\n",
        "    \"Country\": \"USA\",\n",
        "    \"State\" : \"California\",\n",
        "    \"County\": \"Santa Clara County\",\n",
        "    \"City\" : \"San Jose\"\n",
        "}\n",
        "\n",
        "a = info.get(\"City\")\n",
        "print(a)\n",
        "\n",
        "### END CODE"
      ]
    },
    {
      "cell_type": "markdown",
      "metadata": {
        "id": "rWzbwQFsOjFU"
      },
      "source": [
        "#### Exercise 7\n",
        "\n",
        "Write a Python script to create a dictionary that contains a sequence of numbers from 1 to n and their squares. Ask the user to enter n. Display the resulting dictionary.\n",
        "\n",
        "**Example**\n",
        "If user enters 5, then your dictionary will look like\n",
        "\n",
        "{1:1,2:4,3:9:4:16,5:25}\n",
        "\n",
        "**Hint** You will need to assign new values to the dictionary to create the dictionary object"
      ]
    },
    {
      "cell_type": "code",
      "execution_count": null,
      "metadata": {
        "collapsed": true,
        "id": "ikWArOizOjFU"
      },
      "outputs": [],
      "source": [
        "### YOUR CODE GOES BELOW\n",
        "\n",
        "\n",
        "### END CODE"
      ]
    },
    {
      "cell_type": "markdown",
      "metadata": {
        "id": "mvJvceniOjFU"
      },
      "source": [
        "#### Exercise 8\n",
        "\n",
        "Refer to Exercise 7 for this problem.\n",
        "\n",
        "Write a python program to sum all the values in the above dictionary (n:n^2). Display the resulting sum\n"
      ]
    },
    {
      "cell_type": "code",
      "execution_count": null,
      "metadata": {
        "collapsed": true,
        "id": "QY9M73TVOjFU"
      },
      "outputs": [],
      "source": [
        "### YOUR CODE GOES BELOW\n",
        "\n",
        "\n",
        "### END CODE"
      ]
    },
    {
      "cell_type": "markdown",
      "metadata": {
        "id": "X2FuFFEeOjFU"
      },
      "source": [
        "#### Exercise 9\n",
        "\n",
        "Write a Python program to sort the below dictionary by key in descending order.\n",
        "\n",
        " {2:\"Mary\",1:\"Sally\",5:\"Harry\",4:\"Joe\"}\n",
        "\n",
        "**Hint:** Refer to the class example"
      ]
    },
    {
      "cell_type": "code",
      "execution_count": null,
      "metadata": {
        "collapsed": true,
        "id": "0-fPDEgpOjFU"
      },
      "outputs": [],
      "source": [
        "### YOUR CODE GOES BELOW\n",
        "\n",
        "\n",
        "### END CODE"
      ]
    },
    {
      "cell_type": "markdown",
      "metadata": {
        "id": "3-RMJf6lOjFU"
      },
      "source": [
        "#### Exercise 10\n",
        "\n",
        "Write a python program to combine the below two dictionaries and display the resulting dictionary\n",
        "\n",
        "* Dictionary 1:  {2:\"Mary\",1:\"Sally\",5:\"Harry\",4:\"Joe\"}\n",
        "* Dictionary 2:  {6:\"John\",9:\"Nancy\",12:\"Peter\",8:\"Alice\"}\n"
      ]
    },
    {
      "cell_type": "code",
      "execution_count": null,
      "metadata": {
        "collapsed": true,
        "id": "oqPQi_u3OjFU"
      },
      "outputs": [],
      "source": [
        "### YOUR CODE GOES BELOW\n",
        "\n",
        "\n",
        "### END CODE"
      ]
    }
  ],
  "metadata": {
    "kernelspec": {
      "display_name": "Python 3",
      "language": "python",
      "name": "python3"
    },
    "language_info": {
      "codemirror_mode": {
        "name": "ipython",
        "version": 3
      },
      "file_extension": ".py",
      "mimetype": "text/x-python",
      "name": "python",
      "nbconvert_exporter": "python",
      "pygments_lexer": "ipython3",
      "version": "3.8.5"
    },
    "colab": {
      "provenance": []
    }
  },
  "nbformat": 4,
  "nbformat_minor": 0
}