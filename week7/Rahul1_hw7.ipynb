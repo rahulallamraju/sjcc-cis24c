{
  "cells": [
    {
      "cell_type": "markdown",
      "metadata": {
        "id": "bt003oWqZbzE"
      },
      "source": [
        "\n",
        "# CIS024C -  Fall 2024\n",
        "\n",
        "## Homework 7\n",
        "\n",
        "Homework 7 covers exercises that involve Exception Handling\n",
        "\n",
        "The below sites have some interesting and useful information on working with files\n",
        "\n",
        "* Errors and Exceptions: https://docs.python.org/2/tutorial/errors.html\n",
        "* Built-in Exceptions: https://docs.python.org/2/library/exceptions.html\n"
      ]
    },
    {
      "cell_type": "markdown",
      "metadata": {
        "id": "z4WTPwCSZbzI"
      },
      "source": [
        "#### Check Python Version"
      ]
    },
    {
      "cell_type": "code",
      "execution_count": null,
      "metadata": {
        "id": "4wcwD4VfZbzI",
        "outputId": "a1a1ee73-1ee4-434c-a696-b74a5bedf915"
      },
      "outputs": [
        {
          "name": "stdout",
          "output_type": "stream",
          "text": [
            "Python 3.8.5\r\n"
          ]
        }
      ],
      "source": [
        "!python --version"
      ]
    },
    {
      "cell_type": "markdown",
      "metadata": {
        "id": "5fdh9j7_ZbzK"
      },
      "source": [
        "#### Exercise 1 - Testing your knowledge of Exceptions **\n",
        "\n",
        "Answer the below questions\n",
        "\n",
        "1. What is the difference between a Syntax Error and a Runtime Error?\n",
        "2. Are exceptions Syntax Errors or Runtime Errors?\n",
        "3. How do exceptions help a programmer?\n",
        "4. Which exception is raised when the user tries to use a variable that has not been defined?"
      ]
    },
    {
      "cell_type": "markdown",
      "metadata": {
        "id": "38ZQPSEcZbzK"
      },
      "source": [
        "#### Exercise 2 -  Raising Exceptions\n",
        "\n",
        "Write python programs that raise the following exceptions.\n",
        "\n",
        "1. ValueError\n",
        "2. TypeError\n",
        "3. IndexError\n",
        "4. KeyError"
      ]
    },
    {
      "cell_type": "markdown",
      "metadata": {
        "id": "clB8Sr9vZbzK"
      },
      "source": [
        "<< Double click this cell and enter your result >>\n",
        "\n",
        "1. The difference between a syntax error and a runtime error is that syntax errors are detected by the program before it's run and runtime errors are detected while the program is being run.\n",
        "\n",
        "2. Exceptions are runtime errors.\n",
        "\n",
        "3. Exceptions help programmers by letting them know what the problem is in their code, allowing them to easily fix it.\n",
        "\n",
        "4. NameError"
      ]
    },
    {
      "cell_type": "markdown",
      "metadata": {
        "id": "ndjha7VKZbzK"
      },
      "source": [
        "#### Exercise 3 - Handling Exceptions\n",
        "\n",
        "Write a Python program that asks the user to enter a GPA (integer values - 0,1,2,3 or 4). Convert the input from the user into an integer. Write an exception handler to handle the ValueError exception and display the message \"ValueError occurred. Please try again\". If the value entered by the user is not compatible with integer values the program will raise a ValueError exception and display the message from within the exception handler."
      ]
    },
    {
      "cell_type": "code",
      "execution_count": null,
      "metadata": {
        "id": "G7YFn36fZbzK",
        "colab": {
          "base_uri": "https://localhost:8080/"
        },
        "outputId": "66c55c66-feca-465d-aa92-5c2bb6b2916f"
      },
      "outputs": [
        {
          "output_type": "stream",
          "name": "stdout",
          "text": [
            "Caught ValueError: Cannot divide by zero\n"
          ]
        }
      ],
      "source": [
        "### YOUR CODE GOES\n",
        "# Program raising a ValueError\n",
        "def divide(a, b):\n",
        "    if b == 0:\n",
        "        raise ValueError(\"Cannot divide by zero\")\n",
        "    return a / b\n",
        "\n",
        "# Example usage\n",
        "try:\n",
        "    result = divide(10, 0)\n",
        "    print(\"Result:\", result)\n",
        "except ValueError as ve:\n",
        "    print(\"Caught ValueError:\", ve)\n",
        "\n",
        "\n",
        "### END CODE"
      ]
    },
    {
      "cell_type": "code",
      "execution_count": null,
      "metadata": {
        "id": "dMPu0sAHZbzL"
      },
      "outputs": [],
      "source": [
        "### YOUR CODE GOES BELOW\n",
        "\n",
        "### END CODE"
      ]
    },
    {
      "cell_type": "markdown",
      "metadata": {
        "id": "UWCh4W9eZbzL"
      },
      "source": [
        "#### Exercise 4 - Displaying the error description in an Exception\n",
        "\n",
        "Create a list of **5** items in a grocery cart. For example, your list can be something like the below\n",
        "\n",
        "**Example of a list with 2 items:**\n",
        "groceryList = [\"suger\",\"rice\"]\n",
        "\n",
        "Write an exception handler to handle an IndexError exceptio and store the details of the exception in a variable called **details**. If the exception occurs, print out a message saying \"Exception Occurred\" along with the details (from **details** variable).\n",
        "\n",
        "In your program attempt to access the 6th item in the list.\n",
        "\n",
        "Since there are only 5 elements, the exception handler should be triggered and the message printed inside the exception should be printed."
      ]
    },
    {
      "cell_type": "code",
      "execution_count": null,
      "metadata": {
        "id": "-Y7a17VbZbzL"
      },
      "outputs": [],
      "source": [
        "### YOUR CODE GOES BELOW\n",
        "\n",
        "\n",
        "### END CODE"
      ]
    },
    {
      "cell_type": "markdown",
      "metadata": {
        "id": "XiDZSvTFZbzL"
      },
      "source": [
        "#### Exercise 5 - Using loops to wait for a user to enter a valid value\n",
        "\n",
        "**This is a partial repeat of problem 1. You should be able to reuse that code**\n",
        "\n",
        "Write a Python program that asks the user to enter a GPA (integer values - 0,1,2,3 or 4). Convert the input from the user into an integer. Write an exception handler to handle the ValueError exception and display the message \"ValueError occurred. Please try again\". If the value entered by the user is not compatible with integer values the program will raise a ValueError exception and display the message from within the exception handler.\n",
        "\n",
        "Place the above code to get user input inside a **while** loop. As long as the user is entering an invalid numeric value, the program should **continue** to prompt the user to enter the GPA. When the user enters a correct value, the program should **break** out of the while loop and print the GPA.\n",
        "\n",
        "**Please see classwork for similar examples**"
      ]
    },
    {
      "cell_type": "code",
      "execution_count": null,
      "metadata": {
        "id": "9zAdZf15ZbzM"
      },
      "outputs": [],
      "source": [
        "### YOUR CODE GOES BELOW\n",
        "\n",
        "\n",
        "### END CODE"
      ]
    },
    {
      "cell_type": "markdown",
      "metadata": {
        "id": "0vzrO_ySZbzM"
      },
      "source": [
        "## OPTIONAL EXERCISES\n",
        "\n",
        "Below is a set of optional exercises. These will not be graded but the solutions will be posted. I would strongly encourage you to try these out if you are done with the mandatory homework exercises to improve your understanding of python."
      ]
    },
    {
      "cell_type": "markdown",
      "metadata": {
        "id": "lSeKmpARZbzM"
      },
      "source": [
        "#### Exercise 6\n",
        "\n",
        "Write a python program to build a simple chatbot. The chatbot will accept input from the user, check the input against a dictionary and display the corresponding value.\n",
        "\n",
        "Below is the dictionary that the chatbot will use.\n",
        "\n",
        "```\n",
        "conversationsDict = {\n",
        "'how are you':'I am fine, thank you.How are you today',\n",
        "'i am well':'Cool! How can I help you today',\n",
        "'can you tell me what the weather is like today':'Sure. It looks mostly sunny with a high of 80 degrees',\n",
        "'thank you very much':'You are welcome. Have a nice day'\n",
        "}\n",
        "```\n",
        "\n",
        "Note that the dictionary **key** is the value entered by the user and the **value** is the response from the chatbot. The chatbot must use the user input to look up the dictionary for a response. If a response is found, then the chatbot must print the response. If the key is Invalid, then a KeyError exception handler must handle the exception displaying the messsage \"Sorry, I did not get that\". It must then allow the user to repeat the question."
      ]
    },
    {
      "cell_type": "code",
      "execution_count": null,
      "metadata": {
        "id": "ovMAn5MTZbzM"
      },
      "outputs": [],
      "source": [
        "### YOUR CODE GOES BELOW\n",
        "\n",
        "\n",
        "\n",
        "### END CODE"
      ]
    },
    {
      "cell_type": "markdown",
      "metadata": {
        "id": "mMtPUpd-ZbzM"
      },
      "source": [
        "#### Exercise 7\n",
        "\n",
        "Write two Python  to compute the average of a list of numbers. The inputs to the function is a python **List**. The output is the average. The function must have an Exception handler to handle the **ZeroDivisionError exception**.\n",
        "\n",
        "Verify that the ZeroDivisionError handler works by passing in an empty list."
      ]
    },
    {
      "cell_type": "code",
      "execution_count": null,
      "metadata": {
        "id": "eJhgfj4rZbzM"
      },
      "outputs": [],
      "source": [
        "### YOUR CODE GOES BELOW\n",
        "\n",
        "\n",
        "### END CODE"
      ]
    },
    {
      "cell_type": "markdown",
      "metadata": {
        "id": "fOAPb_RCZbzN"
      },
      "source": [
        "#### Exercise 8\n",
        "\n",
        "Write a python program that accepts a sequence of words, some of them numbers. Attempt to perform an integer add on all the words that were entered. If a word that is not a number is encountered, use the ValueError to skip the next word. Display the resulting sum of all the numbers."
      ]
    },
    {
      "cell_type": "code",
      "execution_count": null,
      "metadata": {
        "collapsed": true,
        "id": "HDTit0jtZbzN"
      },
      "outputs": [],
      "source": [
        "### YOUR CODE GOES BELOW\n",
        "\n",
        "\n",
        "### END CODE"
      ]
    }
  ],
  "metadata": {
    "kernelspec": {
      "display_name": "Python 3",
      "language": "python",
      "name": "python3"
    },
    "language_info": {
      "codemirror_mode": {
        "name": "ipython",
        "version": 3
      },
      "file_extension": ".py",
      "mimetype": "text/x-python",
      "name": "python",
      "nbconvert_exporter": "python",
      "pygments_lexer": "ipython3",
      "version": "3.8.5"
    },
    "colab": {
      "provenance": []
    }
  },
  "nbformat": 4,
  "nbformat_minor": 0
}