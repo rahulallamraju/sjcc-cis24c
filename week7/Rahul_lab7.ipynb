{
  "cells": [
    {
      "cell_type": "markdown",
      "metadata": {
        "id": "n4a2OwzFXGZi"
      },
      "source": [
        "# CIS024C -  Fall 2024\n",
        "\n",
        "## Lab 7\n",
        "\n",
        "**Lab 7 consists the below topics**\n",
        "\n",
        "Exception Handling\n",
        "\n",
        "- System Exceptions\n",
        "\n",
        "- User defined exceptions\n",
        "\n",
        "Feel free to search the web for how you can solve these exercises.\n",
        "\n",
        "We will review them during class.\n",
        "\n",
        "**Students will be given partial credit for attemping to solve the exercises.**\n",
        "\n",
        "\n",
        "Note also the exercises build on top of one another so you might be able to do the next exercise if you have not completed the previous exercise.\n",
        "\n",
        "Post any questions you have on our Slack discussions channel"
      ]
    },
    {
      "cell_type": "markdown",
      "metadata": {
        "id": "bInWL__AXGZl"
      },
      "source": [
        "#### Exercise 1 (25 points)\n",
        "\n",
        "Write Python programs to catch the below exceptions in your program and verify that it works\n",
        "\n",
        "* NameError\n",
        "* ValueError\n",
        "* TypeError\n",
        "* ZeroDivisionError\n",
        "* IOError\n",
        "* IndexError\n",
        "* KeyError\n"
      ]
    },
    {
      "cell_type": "code",
      "source": [
        "# NameError\n",
        "\n",
        "def cause_name_error():\n",
        "  print(undefined_variable)  # This line will cause a NameError\n",
        "\n",
        "try:\n",
        "  cause_name_error() # call the function\n",
        "except NameError as e:\n",
        "  print(\"Caught a NameError:\", e)\n"
      ],
      "metadata": {
        "id": "nBThUZJnJFmR",
        "colab": {
          "base_uri": "https://localhost:8080/"
        },
        "outputId": "8dc63227-d08d-4192-ffa5-bd10879d29c4"
      },
      "execution_count": null,
      "outputs": [
        {
          "output_type": "stream",
          "name": "stdout",
          "text": [
            "Caught a NameError: name 'undefined_variable' is not defined\n"
          ]
        }
      ]
    },
    {
      "cell_type": "code",
      "source": [
        "# ValueError\n",
        "\n",
        "def raise_value_error():\n",
        "    # Raise a ValueError when a non-numeric value is passed\n",
        "    letter = input(\"Enter a letter: \")\n",
        "    try:\n",
        "        if not letter.isalpha():\n",
        "            raise ValueError(\"Please enter a letter of the alphabet.\")\n",
        "        print(\"You have entered:\", letter)\n",
        "    except ValueError as e:\n",
        "        print(\"Invalid input:\", e)\n",
        "\n",
        "raise_value_error()"
      ],
      "metadata": {
        "id": "Ww1pV8vgJFdd",
        "colab": {
          "base_uri": "https://localhost:8080/"
        },
        "outputId": "ade5eb17-2ac6-4397-99c0-394b4ec0e70c"
      },
      "execution_count": null,
      "outputs": [
        {
          "output_type": "stream",
          "name": "stdout",
          "text": [
            "Enter a letter: 5\n",
            "Invalid input: Please enter a letter of the alphabet.\n"
          ]
        }
      ]
    },
    {
      "cell_type": "code",
      "source": [
        "# TypeError\n",
        "\n",
        "def raise_type_error():\n",
        "  # Raise a TypeError when adding a string and an integer\n",
        "  number = 5\n",
        "  text = \"world\"\n",
        "  try:\n",
        "    # Attempt to add string and integer, which will raise a TypeError\n",
        "    sum = number + text\n",
        "    print(\"Sum:\", sum)\n",
        "  except TypeError as e:\n",
        "    print(\"Type error occurred:\", e)\n",
        "\n",
        "raise_type_error()\n"
      ],
      "metadata": {
        "id": "MoPhCnA7JFUY",
        "colab": {
          "base_uri": "https://localhost:8080/"
        },
        "outputId": "a99675ab-7f96-4867-e777-e33f5427407f"
      },
      "execution_count": null,
      "outputs": [
        {
          "output_type": "stream",
          "name": "stdout",
          "text": [
            "Type error occurred: unsupported operand type(s) for +: 'int' and 'str'\n"
          ]
        }
      ]
    },
    {
      "cell_type": "code",
      "source": [
        "# ZeroDivisionError\n",
        "\n",
        "def divide_numbers(a):\n",
        "  try:\n",
        "    result = a / 0\n",
        "  except ZeroDivisionError:\n",
        "    print(\"ZeroDivisionError: division by zero\")\n",
        "  else:\n",
        "    print(\"Result: \", result)\n",
        "\n",
        "divide_numbers(10)\n",
        "# divide_numbers(5, 0)"
      ],
      "metadata": {
        "id": "4mCDVVTgJFLK",
        "colab": {
          "base_uri": "https://localhost:8080/"
        },
        "outputId": "7b06e3bb-8ac6-4735-c510-9292250f0d05"
      },
      "execution_count": null,
      "outputs": [
        {
          "output_type": "stream",
          "name": "stdout",
          "text": [
            "ZeroDivisionError: division by zero\n"
          ]
        }
      ]
    },
    {
      "cell_type": "code",
      "source": [
        "# IOError\n",
        "try:\n",
        "    # Attempt to open a file that doesn't exist\n",
        "    file = open(\"file.txt\", \"r\")\n",
        "    content = file.read()\n",
        "    file.close()\n",
        "except IOError as e:\n",
        "    print(\"An IOError occurred:\", e)\n"
      ],
      "metadata": {
        "id": "QaUSmPIVJD5O",
        "colab": {
          "base_uri": "https://localhost:8080/"
        },
        "outputId": "06952aeb-e4ac-453b-8480-2354b139fd1d"
      },
      "execution_count": null,
      "outputs": [
        {
          "output_type": "stream",
          "name": "stdout",
          "text": [
            "An IOError occurred: [Errno 2] No such file or directory: 'file.txt'\n"
          ]
        }
      ]
    },
    {
      "cell_type": "code",
      "source": [
        "# IndexError\n",
        "\n",
        "def raise_index_error():\n",
        "  # Raise an IndexError when accessing an element outside the list's index range\n",
        "  my_list = [5, 10, 15]\n",
        "  try:\n",
        "    # Attempt to access the 4th element (index 3) which is out of bounds\n",
        "    element = my_list[7]\n",
        "    print(\"Element at index 3:\", element)\n",
        "  except IndexError as e:\n",
        "    print(\"Index error occurred:\", e)\n",
        "\n",
        "raise_index_error()"
      ],
      "metadata": {
        "id": "orQDNTVHJDW_",
        "colab": {
          "base_uri": "https://localhost:8080/"
        },
        "outputId": "e464116b-2d48-4427-c090-99c9f0751016"
      },
      "execution_count": null,
      "outputs": [
        {
          "output_type": "stream",
          "name": "stdout",
          "text": [
            "Index error occurred: list index out of range\n"
          ]
        }
      ]
    },
    {
      "cell_type": "code",
      "execution_count": null,
      "metadata": {
        "id": "wr6DDK4NXGZm",
        "colab": {
          "base_uri": "https://localhost:8080/"
        },
        "outputId": "839291ca-181b-4fc2-ba32-d69323391904"
      },
      "outputs": [
        {
          "output_type": "stream",
          "name": "stdout",
          "text": [
            "Key error occurred: 'year'\n"
          ]
        }
      ],
      "source": [
        "# KeyError\n",
        "\n",
        "def raise_key_error():\n",
        "  # Raise a KeyError when accessing a non-existent key in a dictionary\n",
        "  cars = {\"model\": \"bmw\", \"color\": \"black\"}\n",
        "  try:\n",
        "    # Attempt to access the key \"city\" which is not present in the dictionary\n",
        "    year = cars[\"year\"]\n",
        "    print(\"Year:\", year)\n",
        "  except KeyError as e:\n",
        "    print(\"Key error occurred:\", e)\n",
        "\n",
        "raise_key_error()"
      ]
    },
    {
      "cell_type": "markdown",
      "metadata": {
        "id": "WO0GxdA5XGZo"
      },
      "source": [
        "#### Exercise 2 (25 points)\n",
        "\n",
        " Create two functions - add and multiply, one to add two numbers and another to multiply two numbers. They should both return the result. The functions must use a helper function called get_input. This function must use exception handling to perform input validation to ensure that the user only enters integer values.\n"
      ]
    },
    {
      "cell_type": "code",
      "execution_count": null,
      "metadata": {
        "id": "ZaS0YHEgXGZo",
        "colab": {
          "base_uri": "https://localhost:8080/"
        },
        "outputId": "87310cca-45bc-4812-ccea-74c0cf308eb8"
      },
      "outputs": [
        {
          "output_type": "stream",
          "name": "stdout",
          "text": [
            "Enter the first number: 2\n",
            "Enter the second number: w\n",
            "Please enter an integer value.\n",
            "Enter the second number: 5\n",
            "Addition result: 7\n",
            "Multiplication result: 10\n"
          ]
        }
      ],
      "source": [
        "### YOUR CODE GOES BELOW\n",
        "def get_input(prompt):\n",
        "    while True:\n",
        "        try:\n",
        "            user_input = int(input(prompt))\n",
        "            return user_input\n",
        "        except ValueError:\n",
        "            print(\"Please enter an integer value.\")\n",
        "\n",
        "def add(x, y):\n",
        "    return x + y\n",
        "\n",
        "def multiply(x, y):\n",
        "    return x * y\n",
        "\n",
        "# Example usage:\n",
        "\n",
        "num1 = get_input(\"Enter the first number: \")\n",
        "num2 = get_input(\"Enter the second number: \")\n",
        "\n",
        "result_add = add(num1, num2)\n",
        "result_multiply = multiply(num1, num2)\n",
        "\n",
        "print(\"Addition result:\", result_add)\n",
        "print(\"Multiplication result:\", result_multiply)\n",
        "\n",
        "\n",
        "### END CODE"
      ]
    },
    {
      "cell_type": "markdown",
      "metadata": {
        "id": "J5zGSBeCXGZo"
      },
      "source": [
        "#### Exercise 3 (25 points)\n",
        "\n",
        "Write a Python program that initializes a dictionary with the below information\n",
        "{\"house\":\"Haus\",\"cat\":\"Katze\",\"red\":\"rot\"}\n",
        "Allow the user to enter an Index. Use KeyError Exception to look for key errors\n"
      ]
    },
    {
      "cell_type": "code",
      "execution_count": null,
      "metadata": {
        "id": "2pnAC_FOXGZo",
        "colab": {
          "base_uri": "https://localhost:8080/"
        },
        "outputId": "b2220086-96d2-4f02-a4f9-c833e29c786b"
      },
      "outputs": [
        {
          "output_type": "stream",
          "name": "stdout",
          "text": [
            "Enter an index: house\n",
            "Translation: Haus\n"
          ]
        }
      ],
      "source": [
        "### YOUR CODE GOES BELOW\n",
        "def main():\n",
        "    # Initialize the dictionary\n",
        "    dictionary = {\"house\": \"Haus\", \"cat\": \"Katze\", \"red\": \"rot\"}\n",
        "\n",
        "    # Allow the user to enter an index\n",
        "    index = input(\"Enter an index: \")\n",
        "\n",
        "    try:\n",
        "        # Try to access the value corresponding to the entered index\n",
        "        translation = dictionary[index]\n",
        "        print(\"Translation:\", translation)\n",
        "    except KeyError:\n",
        "        # Handle KeyError if the index is not found in the dictionary\n",
        "        print(\"Error: Key not found in the dictionary.\")\n",
        "\n",
        "main()\n",
        "\n",
        "\n",
        "### END CODE"
      ]
    },
    {
      "cell_type": "markdown",
      "metadata": {
        "id": "YX7IQNcAXGZp"
      },
      "source": [
        "#### Exercise 4 (25 points)\n",
        "\n",
        "Write a function to compute the average of a set of n numbers. Allow the user to enter the numbers. Add them to a list. Attempt to compute and display the average of those numbers.\n",
        "Use the divide by zero exception to detect any time the user enters an empty list, and display the error.  \n"
      ]
    },
    {
      "cell_type": "code",
      "execution_count": null,
      "metadata": {
        "id": "PbxSsxg5XGZp",
        "colab": {
          "base_uri": "https://localhost:8080/"
        },
        "outputId": "36c02484-029a-4d31-998e-7da99b3230f3"
      },
      "outputs": [
        {
          "output_type": "stream",
          "name": "stdout",
          "text": [
            "Enter a number (or leave blank to calculate average): 1\n",
            "Enter a number (or leave blank to calculate average): 2\n",
            "Enter a number (or leave blank to calculate average): 3\n",
            "Enter a number (or leave blank to calculate average): \n",
            "Average: 2.0\n"
          ]
        }
      ],
      "source": [
        "### YOUR CODE GOES BELOW\n",
        "def compute_average(numbers):\n",
        "    try:\n",
        "        # Attempt to compute the average\n",
        "        average = sum(numbers) / len(numbers)\n",
        "        return average\n",
        "    except ZeroDivisionError:\n",
        "        # Handle the case where the list is empty\n",
        "        raise ZeroDivisionError(\"Error: Cannot compute average of an empty list.\")\n",
        "\n",
        "def main():\n",
        "    numbers = []\n",
        "\n",
        "    # Allow the user to enter numbers\n",
        "    while True:\n",
        "        num_input = input(\"Enter a number (or leave blank to calculate average): \")\n",
        "        if num_input == \"\":\n",
        "            break\n",
        "        try:\n",
        "            num = float(num_input)\n",
        "            numbers.append(num)\n",
        "        except ValueError:\n",
        "            print(\"Please enter a valid number.\")\n",
        "\n",
        "    try:\n",
        "        # Compute and display the average\n",
        "        average = compute_average(numbers)\n",
        "        print(\"Average of the numbers:\", average)\n",
        "    except ZeroDivisionError as e:\n",
        "        # Handle the ZeroDivisionError\n",
        "        print(e)\n",
        "\n",
        "main()\n",
        "\n",
        "\n",
        "### END CODE"
      ]
    },
    {
      "cell_type": "markdown",
      "metadata": {
        "id": "96oCIxDEXGZp"
      },
      "source": [
        "## When completed, Save the URL of the notebook and upload into Canvas"
      ]
    },
    {
      "cell_type": "code",
      "execution_count": null,
      "metadata": {
        "id": "wiuHk-VmXGZp"
      },
      "outputs": [],
      "source": []
    }
  ],
  "metadata": {
    "kernelspec": {
      "display_name": "Python 3",
      "language": "python",
      "name": "python3"
    },
    "language_info": {
      "codemirror_mode": {
        "name": "ipython",
        "version": 3
      },
      "file_extension": ".py",
      "mimetype": "text/x-python",
      "name": "python",
      "nbconvert_exporter": "python",
      "pygments_lexer": "ipython3",
      "version": "3.8.5"
    },
    "colab": {
      "provenance": []
    }
  },
  "nbformat": 4,
  "nbformat_minor": 0
}