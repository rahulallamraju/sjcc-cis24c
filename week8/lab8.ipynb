{
 "cells": [
  {
   "cell_type": "markdown",
   "metadata": {
    "id": "7UdsS-NYhIUM"
   },
   "source": [
    "# CIS024C -  Fall 2024\n",
    "\n",
    "## Lab 8\n",
    "\n",
    "*Lab 8 tests the below content*\n",
    "\n",
    "Working with external libraries\n",
    "\n",
    "Python Modules\n",
    "\n",
    "Feel free to search the web for how you can solve these exercises.\n"
   ]
  },
  {
   "cell_type": "markdown",
   "metadata": {
    "id": "KMq8-9ndhIUS"
   },
   "source": [
    "### Using External Libraries"
   ]
  },
  {
   "cell_type": "markdown",
   "metadata": {
    "id": "d8oVPUbhhIUS"
   },
   "source": [
    "#### Exercise 1  (20 points)\n",
    "\n",
    "Write Python program to show the current working directory and list the files present in the current working directory with extension ipynb.\n",
    "\n",
    "Refer to the instructions here for supported libraries that can help you do this - https://flexiple.com/python-get-current-directory/"
   ]
  },
  {
   "cell_type": "code",
   "execution_count": null,
   "metadata": {
    "colab": {
     "base_uri": "https://localhost:8080/"
    },
    "id": "IHkaMiYyhIUT",
    "outputId": "2eb5fd52-7493-423d-f910-eefbc60238cd"
   },
   "outputs": [
    {
     "name": "stdout",
     "output_type": "stream",
     "text": [
      "ls: cannot access '*.ipynb': No such file or directory\n"
     ]
    }
   ],
   "source": [
    "# SAMPLE OUTPUT\n",
    "# the resulting output should list the contents of your directory, similar to\n",
    "# how the contents of my directory are listed here\n",
    "!ls -l *.ipynb"
   ]
  },
  {
   "cell_type": "code",
   "execution_count": null,
   "metadata": {
    "colab": {
     "base_uri": "https://localhost:8080/"
    },
    "id": "jTuSTcY-hIUU",
    "outputId": "44354787-d82f-4590-9d57-08fab994d88d"
   },
   "outputs": [
    {
     "name": "stdout",
     "output_type": "stream",
     "text": [
      "Current Working Directory: /content\n",
      "No IPython Notebook files found in the current directory.\n"
     ]
    }
   ],
   "source": [
    "### YOUR CODE GOES BELOW\n",
    "\n",
    "import os\n",
    "import glob\n",
    "\n",
    "# Get the current working directory\n",
    "current_directory = os.getcwd()\n",
    "print(\"Current Working Directory:\", current_directory)\n",
    "\n",
    "# List the files with extension ipynb\n",
    "ipynb_files = glob.glob(\"*.ipynb\")\n",
    "\n",
    "if ipynb_files:\n",
    "    print(\"IPython Notebook Files:\")\n",
    "    for file in ipynb_files:\n",
    "        print(file)\n",
    "else:\n",
    "    print(\"No IPython Notebook files found in the current directory.\")\n",
    "\n",
    "\n",
    "### END CODE"
   ]
  },
  {
   "cell_type": "markdown",
   "metadata": {
    "id": "WEzlOTHWhIUV"
   },
   "source": [
    "#### Exercise 2 (20 points)\n",
    "\n",
    "Write a Python program that uses the math library and does the following\n",
    "\n",
    "**Algorithm:**\n",
    "\n",
    "* Loop till user has no further input\n",
    "    * Get a number from the user\n",
    "    * Print the sine of the number (convert from degrees to radians)\n",
    "    * Print the cosine of the number (convert from degrees to radians)\n",
    "    * Print log to the base 10 of the number\n",
    "    * Print log to the base e of the number\n",
    "    \n",
    "Reference: https://docs.python.org/3/library/math.html\n"
   ]
  },
  {
   "cell_type": "code",
   "execution_count": 20,
   "metadata": {
    "colab": {
     "base_uri": "https://localhost:8080/"
    },
    "id": "FDcCXrZmhIUV",
    "outputId": "c7fd7800-e873-4d41-adbb-cf4ac20c7434"
   },
   "outputs": [
    {
     "name": "stdout",
     "output_type": "stream",
     "text": [
      "Enter a number (or enter any non-numeric value to exit): 2\n",
      "Sine of 2.0 : 0.03489949670250097\n",
      "Cosine of 2.0 : 0.9993908270190958\n",
      "Log to the base 10 of 2.0 : 0.3010299956639812\n",
      "Log to the base e of 2.0 : 0.6931471805599453\n",
      "Enter a number (or enter any non-numeric value to exit): 7\n",
      "Sine of 7.0 : 0.12186934340514748\n",
      "Cosine of 7.0 : 0.992546151641322\n",
      "Log to the base 10 of 7.0 : 0.8450980400142568\n",
      "Log to the base e of 7.0 : 1.9459101490553132\n",
      "Enter a number (or enter any non-numeric value to exit): \n",
      "Exiting program...\n"
     ]
    }
   ],
   "source": [
    "### YOUR CODE GOES BELOW\n",
    "\n",
    "import math\n",
    "\n",
    "while True:\n",
    "    try:\n",
    "        # Get a number from the user\n",
    "        num = float(input(\"Enter a number (or enter any non-numeric value to exit): \"))\n",
    "    except ValueError:\n",
    "        print(\"Exiting program...\")\n",
    "        break\n",
    "\n",
    "    # Convert degrees to radians\n",
    "    radians = math.radians(num)\n",
    "\n",
    "    # Print sine and cosine of the number\n",
    "    print(\"Sine of\", num, \":\", math.sin(radians))\n",
    "    print(\"Cosine of\", num, \":\", math.cos(radians))\n",
    "\n",
    "    # Print log to the base 10 and log to the base e of the number\n",
    "    print(\"Log to the base 10 of\", num, \":\", math.log10(num))\n",
    "    print(\"Log to the base e of\", num, \":\", math.log(num))\n",
    "\n",
    "\n",
    "### END CODE"
   ]
  },
  {
   "cell_type": "markdown",
   "metadata": {
    "id": "9EGF8Dj0hIUW"
   },
   "source": [
    "#### Exercise 3 (20 points)\n",
    "\n",
    "Write a Python program that simulates a pair of dice for the user\n",
    "\n",
    "**Algorithm**\n",
    "\n",
    "* Loop till user wants to stop the dice roll\n",
    "    * Simulate two dice roll.\n",
    "    * Display the two numbers\n",
    "    \n",
    "Reference: https://docs.python.org/3/library/random.html\n"
   ]
  },
  {
   "cell_type": "code",
   "execution_count": null,
   "metadata": {
    "id": "At5sta9ehIUW"
   },
   "outputs": [],
   "source": [
    "### YOUR CODE GOES BELOW\n",
    "\n",
    "import random\n",
    "\n",
    "def roll_dice():\n",
    "    # Simulate two dice rolls\n",
    "    die1 = random.randint(1, 6)\n",
    "    die2 = random.randint(1, 6)\n",
    "    return die1, die2\n",
    "\n",
    "while True:\n",
    "    # Ask the user if they want to roll the dice\n",
    "    roll_again = input(\"Press 'Enter' to roll the dice (or type 'q' to quit): \")\n",
    "\n",
    "    if roll_again.lower() == 'q':\n",
    "        print(\"Exiting program...\")\n",
    "        break\n",
    "\n",
    "    # Simulate the dice rolls\n",
    "    die1, die2 = roll_dice()\n",
    "\n",
    "    # Display the results\n",
    "    print(\"Dice 1:\", die1)\n",
    "    print(\"Dice 2:\", die2)\n",
    "\n",
    "\n",
    "### END CODE"
   ]
  },
  {
   "cell_type": "markdown",
   "metadata": {
    "id": "11ehKU7LhIUW"
   },
   "source": [
    "#### Exercise 4 (20 points)\n",
    "\n",
    "Write a Python program to convert the temperature for the below\n",
    "\n",
    "* Fahrenheit to Centigrade and vice versa\n",
    "* Fahrenheit to Kelvin and vice versa\n",
    "* Kelvin to Centigrade and vice versa\n",
    "\n",
    "You should write functions to do each of these operations. The functions should be present in an external .py file named helper.py\n",
    "\n",
    "Your main program will do the following\n",
    "\n",
    "**Algorithm**\n",
    "\n",
    "* Import your module\n",
    "* Loop till use is done\n",
    "    * Ask user to select an option from the 6 available options\n",
    "    * Get the input temperature value\n",
    "    * Display the converted temperature value\n",
    "\n"
   ]
  },
  {
   "cell_type": "code",
   "execution_count": 7,
   "metadata": {
    "colab": {
     "base_uri": "https://localhost:8080/"
    },
    "id": "ATvMwXivhIUX",
    "outputId": "c6c47f90-f4b9-4b12-a123-20e55ca2fc8f"
   },
   "outputs": [
    {
     "name": "stdout",
     "output_type": "stream",
     "text": [
      "Writing helper.py\n"
     ]
    }
   ],
   "source": [
    "%%writefile helper.py\n",
    "\n",
    "### YOUR CODE GOES BELOW\n",
    "\n",
    "def fahrenheit_to_celsius(fahrenheit):\n",
    "    return (fahrenheit - 32) * 5/9\n",
    "\n",
    "def celsius_to_fahrenheit(celsius):\n",
    "    return celsius * 9/5 + 32\n",
    "\n",
    "def fahrenheit_to_kelvin(fahrenheit):\n",
    "    return (fahrenheit - 32) * 5/9 + 273.15\n",
    "\n",
    "def kelvin_to_fahrenheit(kelvin):\n",
    "    return (kelvin - 273.15) * 9/5 + 32\n",
    "\n",
    "def kelvin_to_celsius(kelvin):\n",
    "    return kelvin - 273.15\n",
    "\n",
    "def celsius_to_kelvin(celsius):\n",
    "    return celsius + 273.15\n",
    "\n",
    "\n",
    "### END CODE"
   ]
  },
  {
   "cell_type": "code",
   "execution_count": 10,
   "metadata": {
    "colab": {
     "base_uri": "https://localhost:8080/",
     "height": 537
    },
    "id": "urSYGX8GstPc",
    "outputId": "8b24057d-7111-4fc3-c245-bcd02ed4770d"
   },
   "outputs": [
    {
     "name": "stdout",
     "output_type": "stream",
     "text": [
      "\n",
      "Temperature Conversion Menu:\n",
      "1. Fahrenheit to Celsius\n",
      "2. Celsius to Fahrenheit\n",
      "3. Fahrenheit to Kelvin\n",
      "4. Kelvin to Fahrenheit\n",
      "5. Kelvin to Celsius\n",
      "6. Celsius to Kelvin\n",
      "7. Quit\n"
     ]
    },
    {
     "name": "stdin",
     "output_type": "stream",
     "text": [
      "Enter your choice (1-7):  1\n",
      "Enter the temperature value:  2\n"
     ]
    },
    {
     "name": "stdout",
     "output_type": "stream",
     "text": [
      "Converted temperature: -16.67\n",
      "\n",
      "Temperature Conversion Menu:\n",
      "1. Fahrenheit to Celsius\n",
      "2. Celsius to Fahrenheit\n",
      "3. Fahrenheit to Kelvin\n",
      "4. Kelvin to Fahrenheit\n",
      "5. Kelvin to Celsius\n",
      "6. Celsius to Kelvin\n",
      "7. Quit\n"
     ]
    },
    {
     "name": "stdin",
     "output_type": "stream",
     "text": [
      "Enter your choice (1-7):  2\n",
      "Enter the temperature value:  5\n"
     ]
    },
    {
     "name": "stdout",
     "output_type": "stream",
     "text": [
      "Converted temperature: 41.00\n",
      "\n",
      "Temperature Conversion Menu:\n",
      "1. Fahrenheit to Celsius\n",
      "2. Celsius to Fahrenheit\n",
      "3. Fahrenheit to Kelvin\n",
      "4. Kelvin to Fahrenheit\n",
      "5. Kelvin to Celsius\n",
      "6. Celsius to Kelvin\n",
      "7. Quit\n"
     ]
    },
    {
     "name": "stdin",
     "output_type": "stream",
     "text": [
      "Enter your choice (1-7):  7\n"
     ]
    },
    {
     "name": "stdout",
     "output_type": "stream",
     "text": [
      "Exiting program...\n"
     ]
    }
   ],
   "source": [
    "import helper\n",
    "\n",
    "def display_menu():\n",
    "    print(\"\\nTemperature Conversion Menu:\")\n",
    "    print(\"1. Fahrenheit to Celsius\")\n",
    "    print(\"2. Celsius to Fahrenheit\")\n",
    "    print(\"3. Fahrenheit to Kelvin\")\n",
    "    print(\"4. Kelvin to Fahrenheit\")\n",
    "    print(\"5. Kelvin to Celsius\")\n",
    "    print(\"6. Celsius to Kelvin\")\n",
    "    print(\"7. Quit\")\n",
    "\n",
    "def get_user_choice():\n",
    "    while True:\n",
    "        try:\n",
    "            choice = int(input(\"Enter your choice (1-7): \"))\n",
    "            if 1 <= choice <= 7:\n",
    "                return choice\n",
    "            else:\n",
    "                print(\"Invalid choice. Please enter a number between 1 and 7.\")\n",
    "        except ValueError:\n",
    "            print(\"Invalid input. Please enter a number.\")\n",
    "\n",
    "def convert_temperature(choice, temperature):\n",
    "    if choice == 1:\n",
    "        return helper.fahrenheit_to_celsius(temperature)\n",
    "    elif choice == 2:\n",
    "        return helper.celsius_to_fahrenheit(temperature)\n",
    "    elif choice == 3:\n",
    "        return helper.fahrenheit_to_kelvin(temperature)\n",
    "    elif choice == 4:\n",
    "        return helper.kelvin_to_fahrenheit(temperature)\n",
    "    elif choice == 5:\n",
    "        return helper.kelvin_to_celsius(temperature)\n",
    "    elif choice == 6:\n",
    "        return helper.celsius_to_kelvin(temperature)\n",
    "    elif choice == 7:\n",
    "        return None\n",
    "\n",
    "while True:\n",
    "    display_menu()\n",
    "    choice = get_user_choice()\n",
    "\n",
    "    if choice == 7:\n",
    "        print(\"Exiting program...\")\n",
    "        break\n",
    "\n",
    "    temperature = float(input(\"Enter the temperature value: \"))\n",
    "    converted_temperature = convert_temperature(choice, temperature)\n",
    "\n",
    "    if converted_temperature is not None:\n",
    "        print(f\"Converted temperature: {converted_temperature:.2f}\")\n",
    "    else:\n",
    "        break\n"
   ]
  },
  {
   "cell_type": "markdown",
   "metadata": {
    "id": "1jxDrc0HhIUX"
   },
   "source": [
    "#### Exercise 5 (20 points)\n",
    "\n",
    "Write a Python program to find the areas of the shapes of the following figures\n",
    "\n",
    "* Circle\n",
    "* Square\n",
    "* Rectangle\n",
    "\n",
    "You should write functions to do each of these operations. The functions should be present in an external .py file named helper.py\n",
    "\n",
    "Your main program will do the following\n",
    "\n",
    "**Algorithm**\n",
    "\n",
    "* Import your module\n",
    "* Loop till user is done\n",
    "    * Ask user to select an option from the 3 available options\n",
    "    * Get the input value from the user depending on the shape\n",
    "    * Display the area of the shape using the functions in your helper module"
   ]
  },
  {
   "cell_type": "code",
   "execution_count": 11,
   "metadata": {
    "colab": {
     "base_uri": "https://localhost:8080/"
    },
    "id": "vX1BxKyphIUY",
    "outputId": "4ebf9e92-f0d7-4292-abbc-d0574c885d71"
   },
   "outputs": [
    {
     "name": "stdout",
     "output_type": "stream",
     "text": [
      "Writing helper1.py\n"
     ]
    }
   ],
   "source": [
    "%%writefile helper1.py\n",
    "\n",
    "# Created a new helper.py (helper1.py) so as not to overwrite an existing file\n",
    "### YOUR CODE GOES BELOW\n",
    "\n",
    "import math\n",
    "\n",
    "def circle_area(radius):\n",
    "    return math.pi * radius ** 2\n",
    "\n",
    "def square_area(side):\n",
    "    return side ** 2\n",
    "\n",
    "def rectangle_area(length, width):\n",
    "    return length * width\n",
    "\n",
    "\n",
    "\n",
    "\n",
    "### END CODE"
   ]
  },
  {
   "cell_type": "markdown",
   "metadata": {
    "colab": {
     "base_uri": "https://localhost:8080/"
    },
    "id": "3HQm0KcdtpjJ",
    "outputId": "24e07432-3e03-4b8b-a23c-2fafccd0aa4a"
   },
   "source": [
    "#### from helper1 import circle_area, square_area, rectangle_area\n",
    "\n",
    "def display_menu():\n",
    "    print(\"\\nArea Calculation Menu:\")\n",
    "    print(\"1. Circle\")\n",
    "    print(\"2. Square\")\n",
    "    print(\"3. Rectangle\")\n",
    "    print(\"4. Quit\")\n",
    "\n",
    "def get_user_choice():\n",
    "    while True:\n",
    "        try:\n",
    "            choice = int(input(\"Enter your choice (1-4): \"))\n",
    "            if 1 <= choice <= 4:\n",
    "                return choice\n",
    "            else:\n",
    "                print(\"Invalid choice. Please enter a number between 1 and 4.\")\n",
    "        except ValueError:\n",
    "            print(\"Invalid input. Please enter a number.\")\n",
    "\n",
    "def calculate_area(choice):\n",
    "    if choice == 1:\n",
    "        radius = float(input(\"Enter the radius of the circle: \"))\n",
    "        return circle_area(radius)\n",
    "    elif choice == 2:\n",
    "        side = float(input(\"Enter the side length of the square: \"))\n",
    "        return square_area(side)\n",
    "    elif choice == 3:\n",
    "        length = float(input(\"Enter the length of the rectangle: \"))\n",
    "        width = float(input(\"Enter the width of the rectangle: \"))\n",
    "        return rectangle_area(length, width)\n",
    "    elif choice == 4:\n",
    "        return None\n",
    "\n",
    "while True:\n",
    "    display_menu()\n",
    "    choice = get_user_choice()\n",
    "\n",
    "    if choice == 4:\n",
    "        print(\"Exiting program...\")\n",
    "        break\n",
    "\n",
    "    area = calculate_area(choice)\n",
    "\n",
    "    if area is not None:\n",
    "        print(f\"Area: {area:.2f}\")\n",
    "    else:\n",
    "        break\n"
   ]
  },
  {
   "cell_type": "markdown",
   "metadata": {
    "id": "v0lF266FhIUY"
   },
   "source": [
    "## When completed, Save, download the notebook and upload into Canvas"
   ]
  },
  {
   "cell_type": "code",
   "execution_count": null,
   "metadata": {
    "id": "YxJBKQerhIUY"
   },
   "outputs": [],
   "source": []
  }
 ],
 "metadata": {
  "colab": {
   "provenance": []
  },
  "kernelspec": {
   "display_name": "Python 3 (ipykernel)",
   "language": "python",
   "name": "python3"
  },
  "language_info": {
   "codemirror_mode": {
    "name": "ipython",
    "version": 3
   },
   "file_extension": ".py",
   "mimetype": "text/x-python",
   "name": "python",
   "nbconvert_exporter": "python",
   "pygments_lexer": "ipython3",
   "version": "3.8.18"
  }
 },
 "nbformat": 4,
 "nbformat_minor": 4
}
