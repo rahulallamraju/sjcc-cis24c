{
  "cells": [
    {
      "cell_type": "markdown",
      "metadata": {
        "id": "XjrOGtNQe0hw"
      },
      "source": [
        "\n",
        "# CIS024C -  Fall 2024\n",
        "\n",
        "## Homework 8\n",
        "\n",
        "Homework 8 covers exercises involving  external libraries, creating user defined libraries and working with command line arguments.\n",
        "\n",
        "The below sites have some interesting and useful information on these topics\n",
        "\n",
        "https://docs.python.org/3/library/\n",
        "https://docs.python.org/3/library/argparse.html\n"
      ]
    },
    {
      "cell_type": "markdown",
      "metadata": {
        "id": "Ecq0wzMWe0hz"
      },
      "source": [
        "#### Check Python Version"
      ]
    },
    {
      "cell_type": "code",
      "execution_count": null,
      "metadata": {
        "id": "3jKoYRiVe0h0",
        "outputId": "73f7f79c-e204-4408-f4eb-92171079d217"
      },
      "outputs": [
        {
          "name": "stdout",
          "output_type": "stream",
          "text": [
            "Python 3.8.5\r\n"
          ]
        }
      ],
      "source": [
        "!python --version"
      ]
    },
    {
      "cell_type": "markdown",
      "metadata": {
        "id": "VdnKkh2re0h2"
      },
      "source": [
        "#### Exercise 1 - Testing your knowledge of External Libraries **\n",
        "\n",
        "Answer the below questions\n",
        "\n",
        "1. Name two benefits of using external libraries.\n",
        "External libraries provide pre-written, well-tested code for common tasks, saving you immense time and effort compared to reinventing the wheel. This allows you to focus on the core logic of your application and integrate these functionalities seamlessly. Many libraries are created and maintained by experienced developers, ensuring a high level of quality, performance, and adherence to best practices. You can leverage their expertise without needing to become an expert yourself in every domain your code interacts with. This leads to more robust and reliable applications.\n",
        "\n",
        "2. What are the different ways of including an external library in a Python program?\n",
        "\n",
        "(a) Using import statement\n",
        "\n",
        "from library_name import specific_funtion\n",
        "\n",
        "(b) Using from ... import statement\n",
        "\n",
        "from library_name import function_name, class_name\n",
        "\n",
        "(c) Using as Keyword\n",
        "\n",
        "import library_name as alias\n",
        "\n",
        "(d) Using *:\n",
        "\n",
        "from library_name import *\n",
        "\n",
        "(e) Using pip or conda\n",
        "\n",
        "pip install library_name\n",
        "\n",
        "(f) Using sys.path.append()\n",
        "\n",
        "import sys\n",
        "sys.path.append('/path/to/library')\n",
        "import library_name\n",
        "\n",
        "(g) Using requirements.txt\n",
        "\n",
        "pip install -r requirements.txt"
      ]
    },
    {
      "cell_type": "markdown",
      "metadata": {
        "id": "7u37DEt6e0h2"
      },
      "source": [
        "<< Double click this cell and enter your result >>"
      ]
    },
    {
      "cell_type": "markdown",
      "metadata": {
        "id": "q2GUjfuNe0h2"
      },
      "source": [
        "#### Exercise 2 -  Using the math library\n",
        "\n",
        "Import the math library in your program and do the following\n",
        "\n",
        "1. Request the user to enter a number between 1 and 10\n",
        "2. Compute the log (math.log) of the number\n",
        "3. Compute the factorial (math.factorial) of the number\n",
        "4. Compute the square root (math.sqrt) of the number\n",
        "5. Compute the sine (math.sin) of the number\n",
        "\n",
        "Refer to https://docs.python.org/2/library/math.html for more information on the math library\n"
      ]
    },
    {
      "cell_type": "code",
      "execution_count": null,
      "metadata": {
        "id": "PkC4Mka5e0h3",
        "colab": {
          "base_uri": "https://localhost:8080/"
        },
        "outputId": "232158d2-50ba-47d4-af2b-236e43a037a2"
      },
      "outputs": [
        {
          "output_type": "stream",
          "name": "stdout",
          "text": [
            "Please enter a number between 1 and 10: 11\n",
            "Please enter a number between 1 and 10.\n",
            "Please enter a number between 1 and 10: 6\n",
            "Logarithm of 6.0: 1.791759469228055\n",
            "Factorial of 6.0: 720\n",
            "Square root of 6.0: 2.449489742783178\n",
            "Sine of 6.0: -0.27941549819892586\n"
          ]
        }
      ],
      "source": [
        "### YOUR CODE GOES\n",
        "import math\n",
        "\n",
        "# Request user input for a number between 1 and 10\n",
        "while True:\n",
        "    try:\n",
        "        num = float(input(\"Please enter a number between 1 and 10: \"))\n",
        "        if 1 <= num <= 10:\n",
        "            break\n",
        "        else:\n",
        "            print(\"Please enter a number between 1 and 10.\")\n",
        "    except ValueError:\n",
        "        print(\"Invalid input. Please enter a number.\")\n",
        "\n",
        "# Compute the log, factorial, square root, and sine of the number\n",
        "log_num = math.log(num)\n",
        "factorial_num = math.factorial(int(num))\n",
        "sqrt_num = math.sqrt(num)\n",
        "sin_num = math.sin(num)\n",
        "\n",
        "# Display the results\n",
        "print(f\"Logarithm of {num}: {log_num}\")\n",
        "print(f\"Factorial of {num}: {factorial_num}\")\n",
        "print(f\"Square root of {num}: {sqrt_num}\")\n",
        "print(f\"Sine of {num}: {sin_num}\")\n",
        "\n",
        "\n",
        "### END CODE"
      ]
    },
    {
      "cell_type": "markdown",
      "metadata": {
        "id": "f1JuLJFse0h3"
      },
      "source": [
        "#### Exercise 3 - Random numbers\n",
        "\n",
        "Generate a list of 10 random numbers between 1 and 100. Use random.sample function. Write a program to then sort the list of numbers in ascending order."
      ]
    },
    {
      "cell_type": "code",
      "execution_count": null,
      "metadata": {
        "id": "az702ueae0h3"
      },
      "outputs": [],
      "source": [
        "### YOUR CODE GOES BELOW\n",
        "import random\n",
        "\n",
        "# Generate a list of 10 random numbers between 1 and 100\n",
        "random_numbers = random.sample(range(1, 101), 10)\n",
        "\n",
        "# Sort the list in ascending order\n",
        "random_numbers.sort()\n",
        "\n",
        "# Display the sorted list\n",
        "print(\"Sorted List of Random Numbers:\")\n",
        "for number in random_numbers:\n",
        "    print(number)\n",
        "\n",
        "\n",
        "### END CODE"
      ]
    },
    {
      "cell_type": "markdown",
      "metadata": {
        "id": "9et_R5C1e0h3"
      },
      "source": [
        "#### Exercise 4 - Creating your own library\n",
        "\n",
        "Create a python module **helperfunctions.py** with the following functions.\n",
        "\n",
        "1. add - returns the sum of two numbers\n",
        "2. diff - returns the difference between two numbers\n",
        "3. product - returns the product of two numbers\n",
        "4. greatest - returns the greatest of two numbers.\n",
        "\n",
        "Import this module in your python program and use the functions your created on any two numbers and print the result.\n",
        "\n",
        "Note that the %%writefile <filename> line is used to create a file. Any content written in the cell after the %%writefile <filename> line will be written to a file named <filename>. <filename> is a placeholder for the filename that you want to use.\n",
        "    \n",
        " **It is really important that %%writefile <filename> be the very first line in the cell. Otherwise, this will not work**"
      ]
    },
    {
      "cell_type": "code",
      "execution_count": null,
      "metadata": {
        "colab": {
          "base_uri": "https://localhost:8080/"
        },
        "id": "gThs8Hywe0h4",
        "outputId": "6aed470e-a33f-4fad-94a1-d2a0938d95cd"
      },
      "outputs": [
        {
          "output_type": "stream",
          "name": "stdout",
          "text": [
            "Writing helperfunctions.py\n"
          ]
        }
      ],
      "source": [
        "%%writefile helperfunctions.py\n",
        "\n",
        "def add(num1, num2):\n",
        "    return num1 + num2\n",
        "\n",
        "def diff(num1, num2):\n",
        "    return num1 - num2\n",
        "\n",
        "def product(num1, num2):\n",
        "    return num1 * num2\n",
        "\n",
        "def greatest(num1, num2):\n",
        "    return max(num1, num2)\n"
      ]
    },
    {
      "cell_type": "code",
      "execution_count": null,
      "metadata": {
        "id": "82Duqjqne0h4",
        "colab": {
          "base_uri": "https://localhost:8080/"
        },
        "outputId": "0c464944-ed08-4eb4-9366-8eb5100d5cc6"
      },
      "outputs": [
        {
          "output_type": "stream",
          "name": "stdout",
          "text": [
            "Sum: 15\n",
            "Difference: 5\n",
            "Product: 50\n",
            "Greatest: 10\n"
          ]
        }
      ],
      "source": [
        "### YOUR CODE GOES BELOW\n",
        "\n",
        "import helperfunctions as hf\n",
        "num1 = 10\n",
        "num2 = 5\n",
        "\n",
        "print(\"Sum:\", hf.add(num1, num2))\n",
        "print(\"Difference:\", hf.diff(num1, num2))\n",
        "print(\"Product:\", hf.product(num1, num2))\n",
        "print(\"Greatest:\", hf.greatest(num1, num2))\n",
        "\n",
        "\n",
        "### END CODE"
      ]
    },
    {
      "cell_type": "markdown",
      "metadata": {
        "id": "rBGvuQXQe0h5"
      },
      "source": [
        "#### Exercise 5 - Command Line programs with multiple modules\n",
        "\n",
        "Write a Python program to add two numbers.\n",
        "\n",
        "Your Python program must have a function called **add** that is placed in a separate module called **helper.py**.\n",
        "\n",
        "Your main program, which is also a standalone Python program **main.py** must import **helper.py** and use this module to add the two numbers.\n",
        "\n",
        "The numbers to be added are already specified as variables in your main.py program below\n",
        "\n",
        "Here is an example of how your program would be invoked assuming the numbers to be added are 3 and 2\n",
        "\n",
        "You will execute the main.py program by running the third cell below\n"
      ]
    },
    {
      "cell_type": "code",
      "execution_count": null,
      "metadata": {
        "id": "KxjLQTTEe0h5",
        "outputId": "71651952-ea16-49e9-ed6e-e83de2a60833",
        "colab": {
          "base_uri": "https://localhost:8080/"
        }
      },
      "outputs": [
        {
          "output_type": "stream",
          "name": "stdout",
          "text": [
            "Overwriting main.py\n"
          ]
        }
      ],
      "source": [
        "%%writefile main.py\n",
        "\n",
        "### YOUR CODE for main.py goes here\n",
        "\n",
        "from helper import add\n",
        "\n",
        "number1 = 10\n",
        "number2 = 20\n",
        "\n",
        "result = add(number1, number2)\n",
        "print(f\"Sum of two numbers is: {result}\")\n",
        "\n",
        "### END CODE"
      ]
    },
    {
      "cell_type": "code",
      "execution_count": null,
      "metadata": {
        "id": "8H3vZlFpe0h5",
        "outputId": "1ba0644d-d3c5-444b-ecdb-8bf55929bf7a",
        "colab": {
          "base_uri": "https://localhost:8080/"
        }
      },
      "outputs": [
        {
          "output_type": "stream",
          "name": "stdout",
          "text": [
            "Writing helper.py\n"
          ]
        }
      ],
      "source": [
        "%%writefile helper.py\n",
        "\n",
        "### YOUR CODE for helper.py goes here\n",
        "\n",
        "def add(num1, num2):\n",
        "  return num1 + num2\n",
        "\n",
        "\n",
        "### END CODE"
      ]
    },
    {
      "cell_type": "code",
      "execution_count": null,
      "metadata": {
        "id": "On-ZCShRe0h5",
        "colab": {
          "base_uri": "https://localhost:8080/"
        },
        "outputId": "ceffed5a-5724-4902-a49b-b12980a3bd0c"
      },
      "outputs": [
        {
          "output_type": "stream",
          "name": "stdout",
          "text": [
            "Sum of two numbers is: 30\n"
          ]
        }
      ],
      "source": [
        "# you can execute the main function by running this cell\n",
        "!python main.py"
      ]
    },
    {
      "cell_type": "markdown",
      "metadata": {
        "id": "a0VojDs0e0h6"
      },
      "source": [
        "## OPTIONAL EXERCISES\n",
        "\n",
        "Below is a set of optional exercises. These will not be graded but the solutions will be posted. I would strongly encourage you to try these out if you are done with the mandatory homework exercises to improve your understanding of python."
      ]
    },
    {
      "cell_type": "markdown",
      "metadata": {
        "id": "eb5cTx_pe0h6"
      },
      "source": [
        "#### Exercise 6\n",
        "\n",
        "Write a similarity function that computes the similarity between any two words. The function should provide a higher similarity score for words whose spelling is similar and a lower score for words whose spelling is different.\n",
        "\n",
        "For example,\n",
        "\n",
        "'went' is more similar to 'wen' than 'where', therefore your function should yield a higher score when 'went' is compared to 'wen', than to 'where'\n",
        "\n",
        "Similarly, 'share' is more similar to 'shar' than 'sit'\n",
        "\n",
        "Create a Python module using the similarity function.\n",
        "\n",
        "Write a Python program to invoke the similarity function on any two words entered by the user."
      ]
    },
    {
      "cell_type": "code",
      "execution_count": null,
      "metadata": {
        "id": "iNKSrn9_e0h6"
      },
      "outputs": [],
      "source": [
        "### YOUR CODE GOES BELOW\n",
        "\n",
        "\n",
        "\n",
        "### END CODE"
      ]
    },
    {
      "cell_type": "markdown",
      "metadata": {
        "id": "ks0AHHSpe0h6"
      },
      "source": [
        "#### Exercise 7\n",
        "\n",
        "Write a Python program using the urrlib2 library to print all the URLs present on the website http://www.cnn.com\n",
        "\n",
        "Note that you will need to search for href tags in order to locate links. An easier option is to use an HTML parser module to parse the website and then you can query it for a set of links.\n",
        "\n"
      ]
    },
    {
      "cell_type": "code",
      "execution_count": null,
      "metadata": {
        "id": "4MKeLW0Je0h6"
      },
      "outputs": [],
      "source": [
        "### YOUR CODE GOES BELOW\n",
        "\n",
        "\n",
        "### END CODE"
      ]
    },
    {
      "cell_type": "markdown",
      "metadata": {
        "id": "btamsxFqe0h6"
      },
      "source": [
        "#### Exercise 8\n",
        "\n",
        "Write a Python program to use the Twitter library tweepy to retrieve a set of tweets from the internet.\n",
        "\n",
        "More information on how to do this can be found here\n",
        "\n",
        "http://docs.tweepy.org/en/v3.5.0/"
      ]
    },
    {
      "cell_type": "code",
      "execution_count": null,
      "metadata": {
        "id": "wWO0-Vrte0h7"
      },
      "outputs": [],
      "source": [
        "### YOUR CODE GOES BELOW\n",
        "\n",
        "\n",
        "### END CODE"
      ]
    },
    {
      "cell_type": "markdown",
      "metadata": {
        "collapsed": true,
        "id": "beMILeyoe0h7"
      },
      "source": [
        "#### Exercise 9 - Python program with multiple modules to sort a list of numbers\n",
        "\n",
        "Write a Python program to sort a list of numbers in ascending order. Your Python program must have a function called **sortNumbers** that is placed in a separate module called **sorthelper.py**. This function **sortNumbers** accepts a **list** of numbers. Your main program, which is also a standalone Python program **main.py** must import **sorthelper.py** and use this module to sort the numbers.\n",
        "\n",
        "The numbers to be sorted must be passed via the command line using argparse.\n",
        "\n",
        "Here is an example of how your program would be invoked assuming the numbers to be sorted are 5 4 3 and 8\n",
        "\n",
        "**python main.py 5 4 3 8**"
      ]
    },
    {
      "cell_type": "code",
      "execution_count": null,
      "metadata": {
        "id": "vATVyZ4Re0h7"
      },
      "outputs": [],
      "source": [
        "### YOUR CODE GOES BELOW\n",
        "\n",
        "\n",
        "### END CODE"
      ]
    },
    {
      "cell_type": "code",
      "execution_count": null,
      "metadata": {
        "id": "I4sL4IzPe0h7"
      },
      "outputs": [],
      "source": []
    }
  ],
  "metadata": {
    "kernelspec": {
      "display_name": "Python 3",
      "language": "python",
      "name": "python3"
    },
    "language_info": {
      "codemirror_mode": {
        "name": "ipython",
        "version": 3
      },
      "file_extension": ".py",
      "mimetype": "text/x-python",
      "name": "python",
      "nbconvert_exporter": "python",
      "pygments_lexer": "ipython3",
      "version": "3.8.5"
    },
    "colab": {
      "provenance": []
    }
  },
  "nbformat": 4,
  "nbformat_minor": 0
}