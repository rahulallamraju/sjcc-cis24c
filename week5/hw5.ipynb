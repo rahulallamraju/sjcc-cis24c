{
 "cells": [
  {
   "cell_type": "markdown",
   "metadata": {
    "id": "A8qRwIQBaLJM"
   },
   "source": [
    "\n",
    "\n",
    "\n",
    "# CIS024C -  Fall 2024\n",
    "\n",
    "## Homework 5\n",
    "\n",
    "Homework 5 covers exercises that involve working with files\n",
    "\n",
    "The below sites have some interesting and useful information on working with files\n",
    "\n",
    "http://www.pythonforbeginners.com/files/reading-and-writing-files-in-python\n",
    "\n",
    "You will need to save your notebook and share its URL as the answer of your Homework.\n",
    "\n"
   ]
  },
  {
   "cell_type": "markdown",
   "metadata": {
    "id": "Y4rP9UbQaLJO"
   },
   "source": [
    "### Helpful Jupyter Commands\n",
    "\n",
    "Below are some useful commands to know when using Jupyter\n",
    "\n",
    "1. You can add a new cell by clicking on the \"+\" icon on top.\n",
    "2. You can delete a cell by selecting that cell and clicking on the \"scissors\" icon on top.\n",
    "3. You can execute a cell by either pressing shift+enter or selecting the \"play\" button on top.\n",
    "4. You can create a new file in Jupyter via the File menu->New Notebook option. Make sure to select Python 3 when creating your notebook.\n",
    "5. Also, for your code blocks make sure that Code is selected instead of another option like Markdown.\n",
    "6. Use the Enter key to go to the next line in a cell to enter the next statement.\n",
    "7. You can clear results by clicking on the Cell menu item and selecting Current Output->Clear or All Output->Clear depending on whether you are trying to just clear the output for one cell or for all cells.\n",
    "8. In case your program has crashed for some reason (infinite loop, for example), you can restart your Python session by select Kernel in the menu and selecting Restart.\n"
   ]
  },
  {
   "cell_type": "markdown",
   "metadata": {
    "id": "3Iv-NgtSaLJO"
   },
   "source": [
    "#### Check Python Version"
   ]
  },
  {
   "cell_type": "code",
   "execution_count": null,
   "metadata": {
    "id": "SifBzWGuaLJO",
    "outputId": "2e05837b-4a4b-4736-8d21-6a8b0f2aa3ba"
   },
   "outputs": [
    {
     "name": "stdout",
     "output_type": "stream",
     "text": [
      "Python 3.8.5\r\n"
     ]
    }
   ],
   "source": [
    "!python --version"
   ]
  },
  {
   "cell_type": "markdown",
   "metadata": {
    "id": "DiW593T3aLJP"
   },
   "source": [
    "#### Exercise 1 - Testing your knowledge of files **\n",
    "\n",
    "Answer the below questions\n",
    "\n",
    "1. In your own words, describe what a **file** is?\n",
    "2. Why is it important to close a file after we are done using it?"
   ]
  },
  {
   "cell_type": "markdown",
   "metadata": {
    "id": "Xx1o6HBsaLJP"
   },
   "source": [
    "<< Double click this cell and enter your result >>"
   ]
  },
  {
   "cell_type": "markdown",
   "metadata": {
    "id": "Ivx7k_NeaLJP"
   },
   "source": [
    "#### Exercise 2 -  Write to a file\n",
    "\n",
    "Write a python program to write the below lines to a file\n",
    "```\n",
    "Name, Age, Gender, Profession\n",
    "John, 20, Male, Software Developer\n",
    "Sammy, 22, Male, Scientist\n",
    "Elisa, 24, Female, Farmer\n",
    "Maria, 26, Female, Entrepreneur\n",
    "Karan, 45, Male, Teacher\n",
    "```\n",
    "\n",
    "Below are a set of recommended steps to accomplish this\n",
    "1. open a file in write mode. This will return a handle to the file\n",
    "2. use the write method to write each line to the file using the file handle returned in the open call\n",
    "3. close the file when done\n",
    "\n",
    "If you are having trouble reading the file, use the **encoding** parameter to determine the type of encoding you need to use to open the file. https://www.learnbyexample.org/python-open-function/\n",
    "\n",
    "Once done, go to the folder where the file is and open it to make sure that this is written."
   ]
  },
  {
   "cell_type": "code",
   "execution_count": 4,
   "metadata": {
    "id": "u-1Zl-U4aLJQ"
   },
   "outputs": [],
   "source": [
    "### YOUR CODE GOES\n",
    "\n",
    "writeFile = open(\"info.txt\",\"w\")\n",
    "\n",
    "writeFile.write(\"Name, Age, Genger, Profession\\n\")\n",
    "writeFile.write(\"John, 20, Male, Software Developer\\n\")\n",
    "writeFile.write(\"Sammy, 22, Male, Scientist\\n\")\n",
    "writeFile.write(\"Elisa, 24, Female, Farmer\\n\")\n",
    "writeFile.write(\"Maria, 26, Female, Entrepreneur\\n\")\n",
    "writeFile.write(\"Karan, 45, Male, Teacher\\n\")\n",
    "\n",
    "writeFile.close()\n",
    "\n",
    "### END CODE"
   ]
  },
  {
   "cell_type": "markdown",
   "metadata": {
    "id": "lIAYqfbxaLJQ"
   },
   "source": [
    "#### Exercise 3 - Reading from a file\n",
    "\n",
    "Read and display the data from the file you had just written to.\n",
    "\n",
    "Below are a set of recommended steps to accomplish this\n",
    "1. open the file in read mode. This will return a handle to the file.\n",
    "2. You can now iterate through each line in the file  and then use readline to read each line.\n",
    "3. Display each line as you read it in\n",
    "\n",
    "Note that you can also use the **read** method to read in all lines or the **readlines** method to read all lines into a list."
   ]
  },
  {
   "cell_type": "code",
   "execution_count": 15,
   "metadata": {
    "id": "8RB46HxgaLJQ"
   },
   "outputs": [
    {
     "name": "stdout",
     "output_type": "stream",
     "text": [
      "Name, Age, Genger, Profession\n",
      "John, 20, Male, Software Developer\n",
      "Sammy, 22, Male, Scientist\n",
      "Elisa, 24, Female, Farmer\n",
      "Maria, 26, Female, Entrepreneur\n",
      "Karan, 45, Male, Teacher\n",
      "rahul, 18, m, student\n"
     ]
    }
   ],
   "source": [
    "### YOUR CODE GOES BELOW\n",
    "# Open the file in read mode\n",
    "readFile = open(\"info.txt\", \"r\")\n",
    "\n",
    "# Read all lines into a list using readlines()\n",
    "lines = readFile.readlines()\n",
    "\n",
    "# Iterate through each line in the list\n",
    "for line in lines:\n",
    "    # Print each line\n",
    "    print(line.strip())  # strip() is used to remove any trailing newline characters\n",
    "\n",
    "# Close the file\n",
    "readFile.close()\n",
    "\n",
    "### END CODE"
   ]
  },
  {
   "cell_type": "markdown",
   "metadata": {
    "id": "03dhBVXcaLJQ"
   },
   "source": [
    "#### Exercise 4 - Finding the average age of users in a file\n",
    "\n",
    "Write a python program to find the average age of users in the file you just created.\n",
    "\n",
    "Below are a set of recommended steps to accomplish this\n",
    "1. Open the file in read mode\n",
    "2. Read in each line of the file\n",
    "3. Split each line in the file to get the age\n",
    "4. Find the average age and display it"
   ]
  },
  {
   "cell_type": "code",
   "execution_count": 13,
   "metadata": {
    "id": "vtLCFkgIaLJQ"
   },
   "outputs": [
    {
     "name": "stdout",
     "output_type": "stream",
     "text": [
      "Average age of users is 27.4\n"
     ]
    }
   ],
   "source": [
    "### YOUR CODE GOES BELOW\n",
    "readFile = open(\"info.txt\", \"r\")\n",
    "\n",
    "header = readFile.readline()\n",
    "\n",
    "lines = readFile.readlines()\n",
    "\n",
    "total_age = 0\n",
    "num_users = 0\n",
    "\n",
    "for line in lines:\n",
    "    name, age, gender, profession = line.strip().split(\",\")\n",
    "    \n",
    "    age = int(age)\n",
    "\n",
    "    total_age += age\n",
    "    num_users += 1\n",
    "\n",
    "average_age = total_age / num_users\n",
    "\n",
    "print(f\"Average age of users is {average_age}\")\n",
    "\n",
    "### END CODE"
   ]
  },
  {
   "cell_type": "markdown",
   "metadata": {
    "id": "sEtOPjApaLJQ"
   },
   "source": [
    "#### Exercise 5 - Appending to a file\n",
    "\n",
    "Write a python program to append information provided by users to an existing file.\n",
    "\n",
    "You will need to\n",
    "1.  ask the user to enter their name, age, gender and profession using the **input** method\n",
    "2.  open the file you just created in the above exercies in append mode and write this information to the file.\n",
    "\n",
    "Remember to make sure that the information you append is entered in the same format where each field is separated by commas.\n",
    "\n"
   ]
  },
  {
   "cell_type": "code",
   "execution_count": 14,
   "metadata": {
    "id": "-H7VMBLtaLJQ"
   },
   "outputs": [
    {
     "name": "stdin",
     "output_type": "stream",
     "text": [
      "Enter your name:  rahul\n",
      "Enter your age:  18\n",
      "Enter your gender:  m\n",
      "What is your profession?  student\n"
     ]
    }
   ],
   "source": [
    "### YOUR CODE GOES BELOW\n",
    "appendFile = open(\"info.txt\", \"a\")\n",
    "\n",
    "name = input(\"Enter your name: \")\n",
    "age = int(input(\"Enter your age: \"))\n",
    "gender = input(\"Enter your gender: \")\n",
    "job = input(\"What is your profession? \")\n",
    "\n",
    "\n",
    "user_info = f\"{name}, {age}, {gender}, {job}\\n\"\n",
    "appendFile.write(user_info)\n",
    "\n",
    "appendFile.close()\n",
    "\n",
    "\n",
    "\n",
    "### END CODE"
   ]
  },
  {
   "cell_type": "markdown",
   "metadata": {
    "id": "eZh26yp8aLJQ"
   },
   "source": [
    "## OPTIONAL EXERCISES\n",
    "\n",
    "Below is a set of optional exercises. These will not be graded but the solutions will be posted. I would strongly encourage you to try these out if you are done with the mandatory homework exercises to improve your understanding of python."
   ]
  },
  {
   "cell_type": "markdown",
   "metadata": {
    "id": "hUnGfUdHaLJQ"
   },
   "source": [
    "#### NOTE\n",
    "\n",
    "For this program you will need to download the full text of Alice in Wonderland. This is available at this link http://www.gutenberg.org/files/11/11-0.txt\n",
    "\n",
    "For MAC users, you can download this directly from Jupyter by executing the below cell. Windows users might need to click on the link and download the file and save it to your computer."
   ]
  },
  {
   "cell_type": "code",
   "execution_count": null,
   "metadata": {
    "id": "wESA4nfMaLJQ",
    "outputId": "61da7c7c-0e97-4ae3-d069-d4244bcf83f5"
   },
   "outputs": [
    {
     "name": "stdout",
     "output_type": "stream",
     "text": [
      "  % Total    % Received % Xferd  Average Speed   Time    Time     Time  Current\n",
      "                                 Dload  Upload   Total   Spent    Left  Speed\n",
      "100  170k  100  170k    0     0   270k      0 --:--:-- --:--:-- --:--:--  274k\n"
     ]
    }
   ],
   "source": [
    "# download alice text\n",
    "!curl 'https://www.gutenberg.org/files/11/11-0.txt' -o aliceText.txt"
   ]
  },
  {
   "cell_type": "markdown",
   "metadata": {
    "id": "Iia5YRDyaLJQ"
   },
   "source": [
    "#### Exercise 6\n",
    "\n",
    "Write a program to read the file aliceText.txt and count the number of times that the word \"house\" occurs in the text."
   ]
  },
  {
   "cell_type": "code",
   "execution_count": null,
   "metadata": {
    "id": "ASZVo5C2aLJQ"
   },
   "outputs": [],
   "source": [
    "### YOUR CODE GOES BELOW\n",
    "\n",
    "\n",
    "### END CODE"
   ]
  },
  {
   "cell_type": "markdown",
   "metadata": {
    "id": "dS3JK29baLJR"
   },
   "source": [
    "#### Exercise 7\n",
    "\n",
    "Write a python program to read the file aliceText.txt and find\n",
    "\n",
    "* the number of characters in the file\n",
    "* the number of words in the file\n",
    "* the number of lines in the file\n",
    "\n",
    "Display the result"
   ]
  },
  {
   "cell_type": "code",
   "execution_count": null,
   "metadata": {
    "id": "cxsKVEYjaLJR"
   },
   "outputs": [],
   "source": [
    "### YOUR CODE GOES BELOW\n",
    "\n",
    "\n",
    "### END CODE"
   ]
  },
  {
   "cell_type": "markdown",
   "metadata": {
    "id": "ncdCaLtfaLJR"
   },
   "source": [
    "#### Exercise 8\n",
    "\n",
    "Write a Python program to read the file aliceText.txt and find the top 10 most frequent words in the file. Display the result\n",
    "\n",
    "Below are recommended steps for this program\n",
    "\n",
    "* Read the contents of the file\n",
    "* Initialize a dictionary to maintain the counts of each word\n",
    "* Loop through each word in the file\n",
    "    - If the word is new, then add to dictionary and initialize count to 1 for this word\n",
    "    - If the word is already in the dictionary, then increment the count of that word by 1\n",
    "* Use the **sorted** method to sort all values in descending order  - See the **example** code at the end of this assignment for an example on sorting a dictionary in reverse order by value"
   ]
  },
  {
   "cell_type": "code",
   "execution_count": null,
   "metadata": {
    "id": "k3vsiMJ7aLJR"
   },
   "outputs": [],
   "source": [
    "### YOUR CODE GOES BELOW\n",
    "\n",
    "\n",
    "### END CODE"
   ]
  },
  {
   "cell_type": "markdown",
   "metadata": {
    "id": "TxNyxvb7aLJR"
   },
   "source": [
    "#### Example code for sorting a dictionary by value in reverse order"
   ]
  },
  {
   "cell_type": "code",
   "execution_count": null,
   "metadata": {
    "id": "ZuATI-0QaLJR",
    "outputId": "95c22724-1171-4e76-815c-9ef232b591ec"
   },
   "outputs": [
    {
     "name": "stdout",
     "output_type": "stream",
     "text": [
      "eight 8\n",
      "seven 7\n",
      "five 5\n",
      "four 4\n",
      "two 2\n",
      "one 1\n"
     ]
    }
   ],
   "source": [
    "myDict = {'seven': 7, 'four': 4, 'one': 1, 'two': 2, 'five': 5, 'eight': 8}\n",
    "sortedDict = sorted(myDict, key=myDict.get, reverse=True)\n",
    "\n",
    "for key in sortedDict:\n",
    "    print(key,myDict[key])"
   ]
  },
  {
   "cell_type": "code",
   "execution_count": null,
   "metadata": {
    "collapsed": true,
    "id": "N3c763bwaLJR",
    "jupyter": {
     "outputs_hidden": true
    }
   },
   "outputs": [],
   "source": []
  }
 ],
 "metadata": {
  "colab": {
   "provenance": []
  },
  "kernelspec": {
   "display_name": "Python 3 (ipykernel)",
   "language": "python",
   "name": "python3"
  },
  "language_info": {
   "codemirror_mode": {
    "name": "ipython",
    "version": 3
   },
   "file_extension": ".py",
   "mimetype": "text/x-python",
   "name": "python",
   "nbconvert_exporter": "python",
   "pygments_lexer": "ipython3",
   "version": "3.8.18"
  }
 },
 "nbformat": 4,
 "nbformat_minor": 4
}
