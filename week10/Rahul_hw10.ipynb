{
  "cells": [
    {
      "cell_type": "markdown",
      "metadata": {
        "id": "1hoeo_q7Qzo1"
      },
      "source": [
        "\n",
        "# CIS024C -  Spring 2024\n",
        "\n",
        "## Homework 10\n",
        "\n",
        "Homework 10 covers object oriented programming in Python\n",
        "\n",
        "The below sites have some interesting and useful information on working with files\n",
        "\n",
        "http://www.tutorialspoint.com/python/python_classes_objects.htm\n"
      ]
    },
    {
      "cell_type": "markdown",
      "metadata": {
        "id": "bAyhKdAfQzo5"
      },
      "source": [
        "#### Check Python Version"
      ]
    },
    {
      "cell_type": "code",
      "execution_count": null,
      "metadata": {
        "id": "y7QbIU-CQzo5",
        "outputId": "82ca4358-c892-43dc-b368-fa7c6ebaede3"
      },
      "outputs": [
        {
          "name": "stdout",
          "output_type": "stream",
          "text": [
            "Python 3.8.5\r\n"
          ]
        }
      ],
      "source": [
        "!python --version"
      ]
    },
    {
      "cell_type": "markdown",
      "metadata": {
        "id": "RWugc4hDQzo6"
      },
      "source": [
        "#### Exercise 1 - Testing your knowledge of object oriented programming concepts **\n",
        "\n",
        "Answer the below questions\n",
        "\n",
        "1. Why do we need classes?\n",
        "2. What is encapsulation?"
      ]
    },
    {
      "cell_type": "markdown",
      "metadata": {
        "id": "Ed3mTFU_Qzo6"
      },
      "source": [
        "<< Double click this cell and enter your result >>"
      ]
    },
    {
      "cell_type": "markdown",
      "metadata": {
        "id": "g_uZFHopQzo6"
      },
      "source": [
        "#### Exercise 2 - Class creation **\n",
        "\n",
        "Create a Python class named **Employee** with the following attributes and methods\n",
        "\n",
        "Data members\n",
        "```\n",
        "1. employeeName  - type string\n",
        "2. employeeAge  - type int\n",
        "3. employeeSalary - type float\n",
        "```\n",
        "\n",
        "Methods:\n",
        "```\n",
        "1. getEmployee - returns employee name\n",
        "2. getEmployeeAge - gets the employee age\n",
        "3. getEmployeeSalary - returns the employee salary\n",
        "4. __init__ - initialize method accepts the name, age and salary of the employee\n",
        "```\n",
        "\n",
        "Create an object of type Employee and initialize with arbitrary values. Invoke the get methods and display the result."
      ]
    },
    {
      "cell_type": "code",
      "execution_count": null,
      "metadata": {
        "id": "nZMXXUOcQzo7",
        "colab": {
          "base_uri": "https://localhost:8080/"
        },
        "outputId": "006cedd2-1e7c-4ca0-c2a9-383085b92b95"
      },
      "outputs": [
        {
          "output_type": "stream",
          "name": "stdout",
          "text": [
            "Employee Name: John Doe\n",
            "Employee Age: 30\n",
            "Employee Salary: 50000.0\n"
          ]
        }
      ],
      "source": [
        "### YOUR CODE GOES BELOW\n",
        "\n",
        "\n",
        "# Define a class called Employee\n",
        "class Employee:\n",
        "\n",
        "    # Constructor method to initialize employee attributes\n",
        "    def __init__(self, name, age, salary):\n",
        "        # Set the employee's name\n",
        "        self.employeeName = name\n",
        "        # Set the employee's age\n",
        "        self.employeeAge = age\n",
        "        # Set the employee's salary\n",
        "        self.employeeSalary = salary\n",
        "\n",
        "\n",
        "    # Method to get the employee's name\n",
        "    def getEmployee(self):\n",
        "        return self.employeeName\n",
        "\n",
        "    # Method to get the employee's age\n",
        "    def getEmployeeAge(self):\n",
        "        return self.employeeAge\n",
        "\n",
        "    # Method to get the employee's salary\n",
        "    def getEmployeeSalary(self):\n",
        "        return self.employeeSalary\n",
        "\n",
        "# Create an object of type Employee and initialize with arbitrary values\n",
        "emp = Employee(\"John Doe\", 30, 50000.0)\n",
        "\n",
        "# Call the get methods and display the results\n",
        "print(\"Employee Name:\", emp.getEmployee())\n",
        "print(\"Employee Age:\", emp.getEmployeeAge())\n",
        "print(\"Employee Salary:\", emp.getEmployeeSalary())\n",
        "\n",
        "\n",
        "### END CODE"
      ]
    },
    {
      "cell_type": "markdown",
      "metadata": {
        "id": "1_POHlYeQzo7"
      },
      "source": [
        "#### Exercise 3 - Private members\n",
        "\n",
        "In the above **Employee** class make the employeeName, employeeAge and employeeSalary private so that their access is restricted to only within the class.\n",
        "\n",
        "Note that private variables are member variables of the class that are preceeded with two underscores.\n",
        "\n",
        "Here is more information on private variables - https://www.geeksforgeeks.org/private-variables-python/"
      ]
    },
    {
      "cell_type": "code",
      "execution_count": null,
      "metadata": {
        "id": "dvuyZve6Qzo7",
        "colab": {
          "base_uri": "https://localhost:8080/"
        },
        "outputId": "fa6a645b-a2cd-49d1-e861-0c939ea752d9"
      },
      "outputs": [
        {
          "output_type": "stream",
          "name": "stdout",
          "text": [
            "Employee Name: John Doe\n",
            "Employee Age: 30\n",
            "Employee Salary: 50000.0\n"
          ]
        }
      ],
      "source": [
        "\n",
        "\n",
        "# Define a class called Employee\n",
        "class Employee:\n",
        "    # Constructor method to initialize employee attributes\n",
        "    def __init__(self, name, age, salary):\n",
        "        # Set the employee's name (using double underscore for private attribute)\n",
        "        self.__employeeName = name\n",
        "        # Set the employee's age (using double underscore for private attribute)\n",
        "        self.__employeeAge = age\n",
        "        # Set the employee's salary (using double underscore for private attribute)\n",
        "        self.__employeeSalary = salary\n",
        "\n",
        "    # Method to get the employee's name\n",
        "    def getEmployee(self):\n",
        "        return self.__employeeName\n",
        "\n",
        "    # Method to get the employee's age\n",
        "    def getEmployeeAge(self):\n",
        "        return self.__employeeAge\n",
        "\n",
        "    # Method to get the employee's salary\n",
        "    def getEmployeeSalary(self):\n",
        "        return self.__employeeSalary\n",
        "\n",
        "# Create an object of type Employee and initialize with arbitrary values\n",
        "emp = Employee(\"John Doe\", 30, 50000.0)\n",
        "\n",
        "# Call the get methods and display the results\n",
        "print(\"Employee Name:\", emp.getEmployee())\n",
        "print(\"Employee Age:\", emp.getEmployeeAge())\n",
        "print(\"Employee Salary:\", emp.getEmployeeSalary())\n",
        "\n",
        "\n",
        "\n",
        "### END CODE"
      ]
    },
    {
      "cell_type": "markdown",
      "metadata": {
        "id": "AHNtbR3YQzo7"
      },
      "source": [
        "#### Exercise 4 - Adding setters and working with a list of Employees\n",
        "\n",
        "In the **Employee** class add the following methods\n",
        "\n",
        "```\n",
        "1. setEmployeeAge - accepts age and sets it in the object\n",
        "2. setEmployeeName - accepts employee name and sets it in the object\n",
        "3. setEmployeeSalary - accepts employee salary and sets it i nthe object\n",
        "```\n",
        "\n",
        "##### Create a list of employees called employeeList. Initialize the list with three objects of type Employee. Initialize each employee in the list with the values \"None\" for employeeName, 0 for employeeAge and 0 for employeeSalary.\n",
        "\n",
        "Example:\n",
        "\n",
        "Employee 1:\n",
        "Name: \"None\", Age: 0, Salary: 0\n",
        "\n",
        "Employee 2:\n",
        "Name: \"None\", Age: 0, Salary: 0\n",
        "\n",
        "Employee 3:\n",
        "Name: \"None\", Age: 0, Salary: 0\n",
        "\n",
        "EmployeeList should have 3 employee objects at the end of this step.\n",
        "\n",
        "##### Loop  through each employee in the employeeList. Each time, request the user to enter the name, age and salary of a different employee. Use the set methods to set the name, age and salary for each employee in the employeeList.\n",
        "\n",
        "Loop through employees list\n",
        "    Set employee name\n",
        "    Set employee age\n",
        "    Set employee salary\n",
        "\n",
        "##### Loop through each employee in the employeeList. Display the name, age and salary of each employee.\n",
        "\n",
        "Loop through employees list\n",
        "    Use getter to display employee name\n",
        "    Use getter to display  employee age\n",
        "    Use getter to display  employee salary\n",
        "\n"
      ]
    },
    {
      "cell_type": "code",
      "execution_count": null,
      "metadata": {
        "id": "KymI6ulTQzo7",
        "colab": {
          "base_uri": "https://localhost:8080/"
        },
        "outputId": "6a0d8719-bac3-4695-dedc-87bdcb6baf81"
      },
      "outputs": [
        {
          "output_type": "stream",
          "name": "stdout",
          "text": [
            "Enter details for Employee 1:\n",
            "Name: Rahul A\n",
            "Age: 20\n",
            "Salary: 5000\n",
            "Enter details for Employee 2:\n",
            "Name: Sushma A\n",
            "Age: 40\n",
            "Salary: 6000\n",
            "Enter details for Employee 3:\n",
            "Name: Harish A\n",
            "Age: 15\n",
            "Salary: 7000\n",
            "\n",
            "Employee Details:\n",
            "Employee 1:\n",
            "Name: Rahul A\n",
            "Age: 20\n",
            "Salary: 5000.0\n",
            "\n",
            "Employee 2:\n",
            "Name: Sushma A\n",
            "Age: 40\n",
            "Salary: 6000.0\n",
            "\n",
            "Employee 3:\n",
            "Name: Harish A\n",
            "Age: 15\n",
            "Salary: 7000.0\n",
            "\n"
          ]
        }
      ],
      "source": [
        "### YOUR CODE GOES BELOW\n",
        "# Define a class called Employee\n",
        "class Employee:\n",
        "    # Constructor method to initialize employee attributes\n",
        "    def __init__(self):\n",
        "        # Initialize employee name as None\n",
        "        self.__employeeName = None\n",
        "        # Initialize employee age as 0\n",
        "        self.__employeeAge = 0\n",
        "        # Initialize employee salary as 0.0\n",
        "        self.__employeeSalary = 0.0\n",
        "\n",
        "    # Method to get the employee's name\n",
        "    def getEmployee(self):\n",
        "        return self.__employeeName\n",
        "\n",
        "    # Method to get the employee's age\n",
        "    def getEmployeeAge(self):\n",
        "        return self.__employeeAge\n",
        "\n",
        "    # Method to get the employee's salary\n",
        "    def getEmployeeSalary(self):\n",
        "        return self.__employeeSalary\n",
        "\n",
        "    # Method to set the employee's name\n",
        "    def setEmployeeName(self, name):\n",
        "        self.__employeeName = name\n",
        "\n",
        "    # Method to set the employee's age\n",
        "    def setEmployeeAge(self, age):\n",
        "        self.__employeeAge = age\n",
        "\n",
        "    # Method to set the employee's salary\n",
        "    def setEmployeeSalary(self, salary):\n",
        "        self.__employeeSalary = salary\n",
        "\n",
        "# Create a list of employees\n",
        "employeeList = [Employee(), Employee(), Employee()]\n",
        "\n",
        "# Loop through each employee in the employeeList to set details\n",
        "for index, emp in enumerate(employeeList):\n",
        "    print(f\"Enter details for Employee {index + 1}:\")\n",
        "    name = input(\"Name: \")\n",
        "    age = int(input(\"Age: \"))\n",
        "    salary = float(input(\"Salary: \"))\n",
        "\n",
        "    emp.setEmployeeName(name)\n",
        "    emp.setEmployeeAge(age)\n",
        "    emp.setEmployeeSalary(salary)\n",
        "\n",
        "# Loop through each employee in the employeeList to display details\n",
        "print(\"\\nEmployee Details:\")\n",
        "for index, emp in enumerate(employeeList):\n",
        "    print(f\"Employee {index + 1}:\")\n",
        "    print(\"Name:\", emp.getEmployee())\n",
        "    print(\"Age:\", emp.getEmployeeAge())\n",
        "    print(\"Salary:\", emp.getEmployeeSalary())\n",
        "    print()\n",
        "\n",
        "\n",
        "### END CODE"
      ]
    },
    {
      "cell_type": "markdown",
      "metadata": {
        "id": "rFnyl-7bQzo8"
      },
      "source": [
        "#### Exercise 5 -  Creating a Python calculator class\n",
        "\n",
        "Create a Python class called Calculator.\n",
        "\n",
        "The class has the following data members\n",
        "\n",
        "```\n",
        "1. number1 - type float\n",
        "2. number2 - type float\n",
        "```\n",
        "\n",
        "The class must have the below methods\n",
        "\n",
        "```\n",
        "1. add - adds two numbers and returns the result\n",
        "2. subtract - subtracts the first number from the second number and returns the result\n",
        "3. multiply - multiply two numbers and returns the result\n",
        "4. divide - divide the first number by the second number and returns the result\n",
        "5. __init__ - accepts two numbers and uses those numbers to initialize number1 and number2 respectively\n",
        "```\n",
        "\n",
        "Create an object of the Calculator class. Initialize it with any two arbitrary numbers. Invoke the methods add, subtract, multiple and divide and display the result\n",
        "\n",
        "\n"
      ]
    },
    {
      "cell_type": "code",
      "execution_count": null,
      "metadata": {
        "id": "u7Of8sAyQzo8",
        "colab": {
          "base_uri": "https://localhost:8080/"
        },
        "outputId": "8bd3309d-9beb-4fd0-cbfb-ee537571ac29"
      },
      "outputs": [
        {
          "output_type": "stream",
          "name": "stdout",
          "text": [
            "Addition: 15\n",
            "Subtraction: 5\n",
            "Multiplication: 50\n",
            "Division: 2.0\n"
          ]
        }
      ],
      "source": [
        "### YOUR CODE GOES\n",
        "# Define a class called Calculator\n",
        "class Calculator:\n",
        "    # Constructor method to initialize numbers\n",
        "    def __init__(self, num1, num2):\n",
        "        # Set the first number\n",
        "        self.number1 = num1\n",
        "        # Set the second number\n",
        "        self.number2 = num2\n",
        "\n",
        "    # Method to add the numbers\n",
        "    def add(self):\n",
        "        return self.number1 + self.number2\n",
        "\n",
        "    # Method to subtract the numbers\n",
        "    def subtract(self):\n",
        "        return self.number1 - self.number2\n",
        "\n",
        "    # Method to multiply the numbers\n",
        "    def multiply(self):\n",
        "        return self.number1 * self.number2\n",
        "\n",
        "    # Method to divide the numbers\n",
        "    def divide(self):\n",
        "        # Check if division by zero is attempted\n",
        "        if self.number2 != 0:\n",
        "            return self.number1 / self.number2\n",
        "        else:\n",
        "            return \"Cannot divide by zero.\"\n",
        "\n",
        "# Create an object of the Calculator class and initialize with arbitrary numbers\n",
        "calc = Calculator(10, 5)\n",
        "\n",
        "# Call methods and display the results\n",
        "print(\"Addition:\", calc.add())\n",
        "print(\"Subtraction:\", calc.subtract())\n",
        "print(\"Multiplication:\", calc.multiply())\n",
        "print(\"Division:\", calc.divide())\n",
        "\n",
        "\n",
        "### END CODE"
      ]
    },
    {
      "cell_type": "markdown",
      "metadata": {
        "id": "uDUZFHbWQzo9"
      },
      "source": [
        "# Optional Exercise"
      ]
    },
    {
      "cell_type": "markdown",
      "metadata": {
        "id": "SCsdOCnHQzo9"
      },
      "source": [
        "#### Exercise 6"
      ]
    },
    {
      "cell_type": "markdown",
      "metadata": {
        "collapsed": true,
        "id": "ho5P75VBQzo9"
      },
      "source": [
        "In the next two problems, you’ll be building an address book using object-­‐oriented programming in Python. To begin, you’ll define a Person class. You’ll use this class in the next problem to build your address book – each entry in your address book will be an instance of the Person class.\n",
        "\n",
        "To begin, define the    init    and    str    methods for the Person class. Read the Python documentation if needed to help you understand what    init__ and    str \t need to do.\n",
        "\n",
        "Here’s an example interaction in the Python shell demonstrating how your class should work after implementing these two methods:"
      ]
    },
    {
      "cell_type": "raw",
      "metadata": {
        "id": "Ei6D2LvtQzo-"
      },
      "source": [
        "Emily = Person(“Zhang”, “Emily”, “5559358150”, “emzhang@mit.edu”)\n",
        "print Emily\n",
        "Zhang, Emily -- Phone Number: 5559358150 -- Email Address(es): emzhang@mit.edu\n",
        "Wesley = Person(“Graybill”, “Wesley”, “5551940325”, [‘wgray496@mit.edu’, ‘wdgraybill@gmail.com’])\n",
        "print Wesley\n",
        "Graybill, Wesley -- Phone Number: 5551940325 -- Email Address(es): wgray496@mit.edu, wdgraybill@gmail.com"
      ]
    },
    {
      "cell_type": "code",
      "execution_count": null,
      "metadata": {
        "collapsed": true,
        "id": "sdMlnQxJQzo_"
      },
      "outputs": [],
      "source": [
        "### YOUR CODE GOES\n",
        "\n",
        "\n",
        "### END CODE"
      ]
    },
    {
      "cell_type": "markdown",
      "metadata": {
        "id": "-zh1jvlSQzo_"
      },
      "source": [
        "#### Exercise 7"
      ]
    },
    {
      "cell_type": "markdown",
      "metadata": {
        "id": "1_lSKn0vQzo_"
      },
      "source": [
        "In this problem, you will use your Person class from the previous problem to create an address book for storing the contacts of your friends and family. It should allow you to search the address book for a friend, and return their contact information.\n",
        "\n",
        "Begin by defining an   init   method. Don’t forget about Python's built-­‐in dictionary data type.\n",
        "\n",
        "Next, write a method add_contact that allows you to add a new person to the address book.\n",
        "\n",
        "Finally, write a method lookup_contact that looks up a contact by last name. The method should accept the last name as an argument, and print each contact that matches the last name on a new line. As an additional challenge, extend this method to allow users to optionally specify a first name to narrow down the results when multiple contacts have the same last name. To learn more about optional arguments in Python, search for terms such as “optional arguments in Python” and “default arguments in Python”.\n",
        "\n",
        "For example, suppose the contact book contains entries for both Ali Kamil, and his wife Sama Kamil. The following is an example output:\n"
      ]
    },
    {
      "cell_type": "raw",
      "metadata": {
        "id": "5W70MkxWQzo_"
      },
      "source": [
        ">>> a = AddressBook()\n",
        ">>> a.add_person(Person(“Kamil”, “Ali”, … ))\n",
        ">>> a.add_person(Person(“Kamil”, “Sama”, … ))\n",
        ">>> a.lookup_contact(“Kamil”) Kamil, Ali -- Phone Number: … Kamil, Sama -- Phone Number: …\n",
        ">>> a.lookup_contact(“Kamil”, “Ali”)\n",
        "Kamil, Ali -- Phone Number: …\n"
      ]
    },
    {
      "cell_type": "code",
      "execution_count": null,
      "metadata": {
        "collapsed": true,
        "id": "P_EFaknhQzpA"
      },
      "outputs": [],
      "source": [
        "### YOUR CODE GOES\n",
        "\n",
        "\n",
        "### END CODE"
      ]
    },
    {
      "cell_type": "code",
      "execution_count": null,
      "metadata": {
        "collapsed": true,
        "id": "ws-vXMfBQzpA"
      },
      "outputs": [],
      "source": []
    }
  ],
  "metadata": {
    "kernelspec": {
      "display_name": "Python 3",
      "language": "python",
      "name": "python3"
    },
    "language_info": {
      "codemirror_mode": {
        "name": "ipython",
        "version": 3
      },
      "file_extension": ".py",
      "mimetype": "text/x-python",
      "name": "python",
      "nbconvert_exporter": "python",
      "pygments_lexer": "ipython3",
      "version": "3.8.5"
    },
    "colab": {
      "provenance": []
    }
  },
  "nbformat": 4,
  "nbformat_minor": 0
}