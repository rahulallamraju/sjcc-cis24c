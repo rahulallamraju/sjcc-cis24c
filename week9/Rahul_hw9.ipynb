{
  "cells": [
    {
      "cell_type": "markdown",
      "metadata": {
        "id": "hFK3V3U-PNOs"
      },
      "source": [
        "\n",
        "# CIS024C -  Fall 2024\n",
        "\n",
        "## Homework 9\n",
        "\n",
        "Homework 9 covers exercises that involve the creation and execution of command line Python programs and passing arguments to a Python program.\n"
      ]
    },
    {
      "cell_type": "markdown",
      "metadata": {
        "id": "zJouEL1zPNOy"
      },
      "source": [
        "#### Check Python Version"
      ]
    },
    {
      "cell_type": "code",
      "execution_count": null,
      "metadata": {
        "id": "e7z4rEmAPNOy",
        "outputId": "b4a3ca59-20ec-4fa6-f8e5-f0c3dfddf487",
        "colab": {
          "base_uri": "https://localhost:8080/"
        }
      },
      "outputs": [
        {
          "output_type": "stream",
          "name": "stdout",
          "text": [
            "Python 3.10.12\n"
          ]
        }
      ],
      "source": [
        "!python --version"
      ]
    },
    {
      "cell_type": "markdown",
      "metadata": {
        "id": "vxYukbWVPNO0"
      },
      "source": [
        "#### Exercise 1 - Testing your knowledge of command line programs **\n",
        "\n",
        "Answer the below questions\n",
        "\n",
        "1. What is the benefit of executing a program from the command line as opposed to running it from within an editor like Jupyter or Spyder.\n",
        "2. Name a Python library that you would use in order to pass arguments from the command line"
      ]
    },
    {
      "cell_type": "markdown",
      "metadata": {
        "id": "k1eBBCVNPNO0"
      },
      "source": [
        "<< Double click this cell and enter your result >>\n",
        "1. Portability: Command-line programs can be run on any system with the appropriate interpreter installed, making them more portable across different environments.\n",
        "\n",
        "Automation: Command-line programs can be easily automated and integrated into scripts or other workflows, allowing for efficient batch processing or scheduling of tasks.\n",
        "Access to System Resources: Command-line programs have direct access to system resources and can interact with the file system, network, and other system-level components more easily.\n",
        "\n",
        "Scalability: Command-line programs can be easily scaled to handle large datasets or complex computations, as they typically have lower overhead compared to interactive environments like Jupyter or Spyder.\n",
        "\n",
        "Flexibility: Command-line programs provide greater flexibility in terms of input and output, allowing for more advanced data processing and manipulation.\n",
        "\n",
        "2. A Python library commonly used to pass arguments from the command line is argparse. argparse provides a convenient way to parse command-line arguments and options, validate them, and generate usage messages. It simplifies the process of handling command-line input and makes it easy to build command-line interfaces for Python programs.\n",
        "\n",
        "\n",
        "\n",
        "\n",
        "\n"
      ]
    },
    {
      "cell_type": "markdown",
      "metadata": {
        "id": "H5Ckn2k2PNO0"
      },
      "source": [
        "#### Exercise 2 -  Creating and executing a command line program\n",
        "\n",
        "Write a standalone Python program main.py that computes the factorial of a number. Make sure to make this program a .py file, something you can run from the command line.\n",
        "\n",
        "The number is already added as a variable in your program. You just need to write the code to compute and display the factorial\n",
        "\n",
        "The factorial of a number is the product of all the integers from 1 leading up to the number.\n",
        "\n",
        "For example, the factorial of 6 is\n",
        "\n",
        "```\n",
        "1*2*3*4*5*6 = 720\n",
        "```\n",
        "\n",
        "**Note:**\n",
        "* You can use the %%writefile magic command in Jupyter to create this file, or you can simply use an external editor to create this file. Please refer to classwork in Github for examples."
      ]
    },
    {
      "cell_type": "code",
      "execution_count": null,
      "metadata": {
        "id": "EHsZnIjUPNO0",
        "outputId": "f2dd4c1f-4a20-41f7-8883-7a38bc62f6c6",
        "colab": {
          "base_uri": "https://localhost:8080/"
        }
      },
      "outputs": [
        {
          "output_type": "stream",
          "name": "stdout",
          "text": [
            "Writing hw9E2main.py\n"
          ]
        }
      ],
      "source": [
        "%%writefile hw9E2main.py\n",
        "\n",
        "### YOUR CODE GOES\n",
        "# Function to compute the factorial of a number\n",
        "def factorial(n):\n",
        "    if n == 0:\n",
        "        return 1\n",
        "    else:\n",
        "        return n * factorial(n - 1)\n",
        "\n",
        "# Given number\n",
        "number = 5  # You can change this number to compute factorial for a different number\n",
        "\n",
        "# Compute factorial\n",
        "result = factorial(number)\n",
        "\n",
        "# Display the result\n",
        "print(f\"The factorial of {number} is: {result}\")\n",
        "\n",
        "\n",
        "### END CODE"
      ]
    },
    {
      "cell_type": "code",
      "execution_count": null,
      "metadata": {
        "id": "Hfnyj2BhPNO0",
        "outputId": "e7328de3-cd4d-4483-fa18-3403399f27d5",
        "colab": {
          "base_uri": "https://localhost:8080/"
        }
      },
      "outputs": [
        {
          "output_type": "stream",
          "name": "stdout",
          "text": [
            "The factorial of 5 is: 120\n"
          ]
        }
      ],
      "source": [
        "# You can execute this cell in order to check your result\n",
        "!python hw9E2main.py"
      ]
    },
    {
      "cell_type": "markdown",
      "metadata": {
        "id": "lcM2zHDcPNO1"
      },
      "source": [
        "#### Exercise 3 - Accepting arguments from the command line\n",
        "\n",
        "Repeat the command line program above, however, this time, instead of using the number in the file, you will get input from the user via the command line.\n",
        "\n",
        "**Note**\n",
        "You can use sys.argv or argparse, whichever you are more comfortable with.\n",
        "\n",
        "How does sys.argv work?\n",
        "\n",
        "To use sys.argv, you will first need to import the sys module.\n",
        "\n",
        "When you invoke a program from the command line, sys.argv is a list that will hold the program arguments\n",
        "\n",
        "sys.argv[0] - has the program name\n",
        "sys.argv[1] - has the first argument\n",
        "sys.argv[2] - has the second argument\n",
        "and so on...\n",
        "\n",
        "For example, if you are invoking the below command from the command line\n",
        "```\n",
        "python main.py 3\n",
        "```\n",
        "\n",
        "then,\n",
        "\n",
        "sys.argv[0] will be main.py\n",
        "sys.argv[1] will be 3\n",
        "\n",
        "Note that all the variables got from sys.argv are strings, so if you are expecting integers, you will need to convert the variable from string to integer using the int function.\n",
        "\n",
        "example,\n",
        "```\n",
        "number = int(sys.argv[1])\n",
        "```"
      ]
    },
    {
      "cell_type": "code",
      "execution_count": null,
      "metadata": {
        "id": "o8bYMCvIPNO1",
        "colab": {
          "base_uri": "https://localhost:8080/"
        },
        "outputId": "b8eee15b-86dc-43f0-ec0a-5f78a23e4e1d"
      },
      "outputs": [
        {
          "output_type": "stream",
          "name": "stdout",
          "text": [
            "Writing HW9E3main.py\n"
          ]
        }
      ],
      "source": [
        "%%writefile HW9E3main.py\n",
        "\n",
        "\n",
        "### YOUR CODE GOES BELOW\n",
        "import sys\n",
        "\n",
        "# Function to compute the factorial of a number\n",
        "def factorial(n):\n",
        "    if n == 0:\n",
        "        return 1\n",
        "    else:\n",
        "        return n * factorial(n - 1)\n",
        "\n",
        "# Check if the correct number of arguments is provided\n",
        "if len(sys.argv) != 2:\n",
        "    print(\"Usage: python main.py <number>\")\n",
        "    sys.exit(1)\n",
        "\n",
        "# Get the number from command line argument\n",
        "try:\n",
        "    number = int(sys.argv[1])\n",
        "except ValueError:\n",
        "    print(\"Please provide a valid integer.\")\n",
        "    sys.exit(1)\n",
        "\n",
        "# Compute factorial\n",
        "result = factorial(number)\n",
        "\n",
        "# Display the result\n",
        "print(f\"The factorial of {number} is: {result}\")\n",
        "\n",
        "\n",
        "\n",
        "### END CODE"
      ]
    },
    {
      "cell_type": "code",
      "source": [
        "!python HW9E3main.py 1"
      ],
      "metadata": {
        "colab": {
          "base_uri": "https://localhost:8080/"
        },
        "id": "yWO_zJxhB-qW",
        "outputId": "74c5602c-0f54-4974-849d-8f5c6bcc2ddb"
      },
      "execution_count": null,
      "outputs": [
        {
          "output_type": "stream",
          "name": "stdout",
          "text": [
            "The factorial of 1 is: 1\n"
          ]
        }
      ]
    },
    {
      "cell_type": "markdown",
      "metadata": {
        "id": "j43TBOdAPNO1"
      },
      "source": [
        "#### Exercise 4 - Adding 2 numbers - Command Line programs with multiple modules\n",
        "\n",
        "This is also an extension to Exercises 2 and 3.\n",
        "\n",
        "Write a Python program to add two numbers. Your Python program must have a function called **add** that is placed in a separate module called **helper.py**. Your main program, which is also a standalone Python program **main.py** must import **helper.py** and use this module to add the two numbers.\n",
        "\n",
        "The numbers to be added must be passed via the command line.\n",
        "\n",
        "Here is an example of how your program would be invoked assuming the numbers to be added are 3 and 2\n",
        "\n",
        "**python main.py 3 2**\n",
        "\n",
        "\n",
        "\n"
      ]
    },
    {
      "cell_type": "code",
      "execution_count": null,
      "metadata": {
        "id": "x521xpSnPNO2",
        "outputId": "c9eb4e70-c115-430c-b9fd-5404a1ce62d1",
        "colab": {
          "base_uri": "https://localhost:8080/"
        }
      },
      "outputs": [
        {
          "output_type": "stream",
          "name": "stdout",
          "text": [
            "Writing helper.py\n"
          ]
        }
      ],
      "source": [
        "%%writefile helper.py\n",
        "\n",
        "### YOUR CODE to set up the helper function GOES BELOW\n",
        "def add(x, y):\n",
        "    return x + y\n",
        "\n",
        "\n",
        "### END CODE"
      ]
    },
    {
      "cell_type": "code",
      "execution_count": null,
      "metadata": {
        "id": "t4sxYxRSPNO2",
        "outputId": "8e78da04-7c34-46bf-cf6b-ec48aa275c82",
        "colab": {
          "base_uri": "https://localhost:8080/"
        }
      },
      "outputs": [
        {
          "output_type": "stream",
          "name": "stdout",
          "text": [
            "Writing HW9E4main.py\n"
          ]
        }
      ],
      "source": [
        "%%writefile HW9E4main.py\n",
        "\n",
        "### YOUR CODE to set up the main function GOES BELOW\n",
        "import sys\n",
        "import helper\n",
        "\n",
        "def main():\n",
        "    # Check if the correct number of arguments is provided\n",
        "    if len(sys.argv) != 3:\n",
        "        print(\"Usage: python main.py <number1> <number2>\")\n",
        "        return\n",
        "\n",
        "    # Get the numbers from command line arguments\n",
        "    try:\n",
        "        num1 = float(sys.argv[1])\n",
        "        num2 = float(sys.argv[2])\n",
        "    except ValueError:\n",
        "        print(\"Please provide valid numbers.\")\n",
        "        return\n",
        "\n",
        "    # Add the numbers using the add function from helper.py\n",
        "    result = helper.add(num1, num2)\n",
        "\n",
        "    # Display the result\n",
        "    print(f\"The sum of {num1} and {num2} is: {result}\")\n",
        "\n",
        "if __name__ == \"__main__\":\n",
        "    main()\n",
        "\n",
        "\n",
        "### END CODE"
      ]
    },
    {
      "cell_type": "code",
      "execution_count": null,
      "metadata": {
        "id": "DKen-DD5PNO2",
        "colab": {
          "base_uri": "https://localhost:8080/"
        },
        "outputId": "344612ba-a1c9-4c77-9bb1-58ff474f7dcf"
      },
      "outputs": [
        {
          "output_type": "stream",
          "name": "stdout",
          "text": [
            "The sum of 5.0 and 6.0 is: 11.0\n"
          ]
        }
      ],
      "source": [
        "# Run this cell to test your code\n",
        "!python HW9E4main.py 5 6"
      ]
    },
    {
      "cell_type": "markdown",
      "metadata": {
        "id": "H5E4dFNpPNO3"
      },
      "source": [
        "#### Exercise 5 - Python program with multiple modules to sort a list of numbers\n",
        "\n",
        "Write a Python program to sort a list of numbers in ascending order. Your Python program must have a function called **sortNumbers** that is placed in a separate module called **sorthelper.py**. This function **sortNumbers** accepts a **list** of numbers. Your main program, which is also a standalone Python program **main.py** must import **sorthelper.py** and use this module to sort the numbers.\n",
        "\n",
        "The numbers to be sorted must be passed via the command line.\n",
        "\n",
        "**You can use the argparse library or sys.argv to process your input.**\n",
        "\n",
        "Here is an example of how your program would be invoked assuming the numbers to be sorted are 5 4 3 and 8\n",
        "\n",
        "**python main.py 5 4 3 8**"
      ]
    },
    {
      "cell_type": "code",
      "execution_count": null,
      "metadata": {
        "id": "NTvl9K_8PNO3",
        "outputId": "247a13cf-ff24-41b6-cc42-20a0235ff127",
        "colab": {
          "base_uri": "https://localhost:8080/"
        }
      },
      "outputs": [
        {
          "output_type": "stream",
          "name": "stdout",
          "text": [
            "Writing sorthelper.py\n"
          ]
        }
      ],
      "source": [
        "%%writefile sorthelper.py\n",
        "### YOUR CODE GOES BELOW\n",
        "def sortNumbers(numbers):\n",
        "    return sorted(numbers)\n",
        "\n",
        "\n",
        "### END CODE"
      ]
    },
    {
      "cell_type": "code",
      "execution_count": null,
      "metadata": {
        "id": "pjLGs1pqPNO3",
        "outputId": "6283cc4a-6310-4a53-bf91-d8a4d39981aa",
        "colab": {
          "base_uri": "https://localhost:8080/"
        }
      },
      "outputs": [
        {
          "output_type": "stream",
          "name": "stdout",
          "text": [
            "Writing HW9E5main.py\n"
          ]
        }
      ],
      "source": [
        "%%writefile HW9E5main.py\n",
        "### YOUR CODE GOES BELOW\n",
        "import sys\n",
        "import sorthelper\n",
        "\n",
        "def main():\n",
        "    # Check if the correct number of arguments is provided\n",
        "    if len(sys.argv) < 2:\n",
        "        print(\"Usage: python main.py <number1> <number2> ...\")\n",
        "        return\n",
        "\n",
        "    # Get the numbers from command line arguments\n",
        "    numbers = []\n",
        "    for arg in sys.argv[1:]:\n",
        "        try:\n",
        "            numbers.append(float(arg))\n",
        "        except ValueError:\n",
        "            print(\"Please provide valid numbers.\")\n",
        "            return\n",
        "\n",
        "    # Sort the numbers using the sortNumbers function from sorthelper.py\n",
        "    sorted_numbers = sorthelper.sortNumbers(numbers)\n",
        "\n",
        "    # Display the sorted numbers\n",
        "    print(\"Sorted numbers:\", sorted_numbers)\n",
        "\n",
        "if __name__ == \"__main__\":\n",
        "    main()\n",
        "\n",
        "\n",
        "### END CODE"
      ]
    },
    {
      "cell_type": "code",
      "execution_count": null,
      "metadata": {
        "id": "8BsGpGd4PNO3",
        "colab": {
          "base_uri": "https://localhost:8080/"
        },
        "outputId": "0dbdf7bc-b414-44d6-ffff-fa914fa8f276"
      },
      "outputs": [
        {
          "output_type": "stream",
          "name": "stdout",
          "text": [
            "Sorted numbers: [3.0, 4.0, 5.0, 8.0]\n"
          ]
        }
      ],
      "source": [
        "# Run this cell to test your code\n",
        "!python HW9E5main.py 5 4 3 8"
      ]
    },
    {
      "cell_type": "markdown",
      "metadata": {
        "id": "d1F6UmZMPNO3"
      },
      "source": [
        "## OPTIONAL EXERCISES\n",
        "\n",
        "Below is a set of optional exercises. These will not be graded but the solutions will be posted. I would strongly encourage you to try these out if you are done with the mandatory homework exercises to improve your understanding of python."
      ]
    },
    {
      "cell_type": "markdown",
      "metadata": {
        "id": "Wz3ME2S2PNO4"
      },
      "source": [
        "#### Exercise 6\n",
        "\n",
        "Write a python command line program that can be used to accept and display the following parameters\n",
        "\n",
        "* Parameter name: number. Parameter type: int. Default value = 1\n",
        "* Parameter name: echo. Parameter type: string. Default value = \"hello\"\n",
        "* Parameter name: flag. Parameter type: boolean\n"
      ]
    },
    {
      "cell_type": "code",
      "execution_count": null,
      "metadata": {
        "id": "BXi4accKPNO4"
      },
      "outputs": [],
      "source": [
        "### YOUR CODE GOES BELOW\n",
        "\n",
        "\n",
        "\n",
        "### END CODE"
      ]
    },
    {
      "cell_type": "markdown",
      "metadata": {
        "id": "6cHsH9pGPNO4"
      },
      "source": [
        "#### Exercise 7\n",
        "\n",
        "Create a scientific calculator using Python. The program should run from the command line and should be capable of performing the following operations.\n",
        "\n",
        "addition, subtraction, division, multiplication, power(x,y), log\n",
        "\n",
        "The program should accept the operator and arguments from the command line.\n",
        "\n",
        "The program must use the argparse library.\n",
        "\n",
        "Example:\n",
        "\n",
        "python calculator.py --operator <operator type> --operands <comma separated values>"
      ]
    },
    {
      "cell_type": "code",
      "execution_count": null,
      "metadata": {
        "collapsed": true,
        "id": "kNZe__jiPNO4"
      },
      "outputs": [],
      "source": [
        "### YOUR CODE GOES BELOW\n",
        "\n",
        "\n",
        "\n",
        "### END CODE"
      ]
    },
    {
      "cell_type": "markdown",
      "metadata": {
        "id": "ijDTjSLJPNO4"
      },
      "source": [
        "#### Exercise 8\n",
        "\n",
        "Write a Python program that converts a decimal to binary and vice-versa\n",
        "\n",
        "The program must accept the mode, which can be one of to_bin or to_decimal. The other parameter that the program\n",
        "must accept is the value.\n",
        "\n",
        "The program should accept the operator and arguments from the command line.\n",
        "\n",
        "The program must use the argparse library.\n",
        "\n",
        "**Example:**\n",
        "\n",
        "* python dec_bin_convert.py mode=\"to_bin\" value=98\n",
        "\n",
        "* python dec_bin_convert.py mode=\"to_decimal\" value=11100"
      ]
    },
    {
      "cell_type": "code",
      "execution_count": null,
      "metadata": {
        "id": "jnuw2YnDPNO4"
      },
      "outputs": [],
      "source": []
    }
  ],
  "metadata": {
    "kernelspec": {
      "display_name": "Python 3",
      "language": "python",
      "name": "python3"
    },
    "language_info": {
      "codemirror_mode": {
        "name": "ipython",
        "version": 3
      },
      "file_extension": ".py",
      "mimetype": "text/x-python",
      "name": "python",
      "nbconvert_exporter": "python",
      "pygments_lexer": "ipython3",
      "version": "3.8.5"
    },
    "colab": {
      "provenance": []
    }
  },
  "nbformat": 4,
  "nbformat_minor": 0
}