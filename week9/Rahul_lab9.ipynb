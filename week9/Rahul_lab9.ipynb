{
  "cells": [
    {
      "cell_type": "markdown",
      "metadata": {
        "id": "s8TFdldGN24W"
      },
      "source": [
        "# CIS024C -  Fall 2024\n",
        "\n",
        "\n",
        "## Lab 9\n",
        "\n",
        "*Lab 9 tests the below content*\n",
        "\n",
        "Working with the command line\n",
        "\n",
        "Feel free to search the web for how you can solve these exercises.\n"
      ]
    },
    {
      "cell_type": "markdown",
      "metadata": {
        "id": "NpUxGitkN24Y"
      },
      "source": [
        "#### Exercise 1  (50 points)\n",
        "\n",
        "Write a Python program main.py that accepts the salary and the tax rate for a user from the commmand line. Compute and display the net salary.\n",
        "\n",
        "Net salary = Salary - (tax-rate * Salary)\n",
        "\n",
        "Execute this using the command line. Recall that you can create and execute a command line program from within Jupyter\n",
        "\n",
        "Example:\n",
        "\n",
        "```\n",
        "python main.py 100000 0.2\n",
        "\n",
        "Output:\n",
        "Net Salary: 80000\n",
        "```"
      ]
    },
    {
      "cell_type": "code",
      "execution_count": null,
      "metadata": {
        "id": "aRo4FxPdN24Z",
        "colab": {
          "base_uri": "https://localhost:8080/"
        },
        "outputId": "5d2d5e8b-c346-40d1-e0b0-4f32dd496227"
      },
      "outputs": [
        {
          "output_type": "stream",
          "name": "stdout",
          "text": [
            "Writing Lab9E1main.py\n"
          ]
        }
      ],
      "source": [
        "%%writefile Lab9E1main.py\n",
        "\n",
        "### YOUR CODE GOES BELOW\n",
        "import sys\n",
        "\n",
        "def calculate_net_salary(salary, tax_rate):\n",
        "    return salary - (tax_rate * salary)\n",
        "\n",
        "def main():\n",
        "    # Check if the correct number of arguments is provided\n",
        "    if len(sys.argv) != 3:\n",
        "        print(\"Usage: python main.py <salary> <tax_rate>\")\n",
        "        return\n",
        "\n",
        "    # Get the salary and tax rate from command line arguments\n",
        "    try:\n",
        "        salary = float(sys.argv[1])\n",
        "        tax_rate = float(sys.argv[2])\n",
        "    except ValueError:\n",
        "        print(\"Please provide valid salary and tax rate.\")\n",
        "        return\n",
        "\n",
        "    # Calculate the net salary\n",
        "    net_salary = calculate_net_salary(salary, tax_rate)\n",
        "\n",
        "    # Display the net salary\n",
        "    print(f\"Net Salary: {net_salary}\")\n",
        "\n",
        "if __name__ == \"__main__\":\n",
        "    main()\n",
        "\n",
        "\n",
        "### END CODE"
      ]
    },
    {
      "cell_type": "code",
      "source": [
        "!python Lab9E1main.py 100000 0.2"
      ],
      "metadata": {
        "colab": {
          "base_uri": "https://localhost:8080/"
        },
        "id": "-GY6-ELtXbWr",
        "outputId": "c2681595-df74-45f0-ed0a-96f7179629e3"
      },
      "execution_count": null,
      "outputs": [
        {
          "output_type": "stream",
          "name": "stdout",
          "text": [
            "Net Salary: 80000.0\n"
          ]
        }
      ]
    },
    {
      "cell_type": "markdown",
      "metadata": {
        "id": "vMnnS6AyN24a"
      },
      "source": [
        "#### Exercise 2 (50 points)\n",
        "\n",
        "Write a python program to open the text file https://www.gutenberg.org/files/11/11.txt and do the following\n",
        "\n",
        "Create a Python library helper.py with the following methods\n",
        "\n",
        "getCountOfSimilarWords - for the search word\n",
        "getTotalLines - for the search word\n",
        "\n",
        "Create a program main.py that accepts the search word as an input argument\n",
        "\n",
        "The program should invoke the library helper.py to display the count of similar words for the input word and  total words, total characters and total lines in aliceText\n",
        "\n",
        "Example:\n",
        "\n",
        "```\n",
        "python main.py alice\n",
        "\n",
        "Output:\n",
        "\n",
        "Total Words:\n",
        "Total lines:\n",
        "```\n"
      ]
    },
    {
      "cell_type": "code",
      "execution_count": null,
      "metadata": {
        "id": "Z-WqvhI_N24a",
        "colab": {
          "base_uri": "https://localhost:8080/"
        },
        "outputId": "0f55d3ff-fcd8-42ac-b15a-fcb967a8e2e5"
      },
      "outputs": [
        {
          "output_type": "stream",
          "name": "stdout",
          "text": [
            "Overwriting helper.py\n"
          ]
        }
      ],
      "source": [
        "%%writefile helper.py\n",
        "\n",
        "### YOUR CODE GOES BELOW\n",
        "import requests\n",
        "\n",
        "def getCountOfSimilarWords(search_word):\n",
        "    try:\n",
        "        response = requests.get(\"https://en.wikipedia.org/wiki/India\")\n",
        "\n",
        "        text = response.text.lower()\n",
        "        words = text.split()\n",
        "        count = words.count(search_word.lower())\n",
        "        return count\n",
        "    except Exception as e:\n",
        "        print(\"Error:\", e)\n",
        "        return None\n",
        "\n",
        "def getTotalLines(search_word):\n",
        "    try:\n",
        "        response = requests.get(\"https://en.wikipedia.org/wiki/India\")\n",
        "        lines = response.text.split(\"\\n\")\n",
        "        total_lines = len(lines)\n",
        "        return total_lines\n",
        "    except Exception as e:\n",
        "        print(\"Error:\", e)\n",
        "        return None\n",
        "\n",
        "\n",
        "### END CODE"
      ]
    },
    {
      "cell_type": "code",
      "source": [
        "%%writefile Lab9E2main.py\n",
        "\n",
        "import sys\n",
        "import helper\n",
        "\n",
        "def main():\n",
        "    # Check if the correct number of arguments is provided\n",
        "    if len(sys.argv) != 2:\n",
        "        print(\"Usage: python main.py <search_word>\")\n",
        "        return\n",
        "\n",
        "    search_word = sys.argv[1]\n",
        "\n",
        "    # Get the count of similar words and total lines using helper.py\n",
        "    count_of_similar_words = helper.getCountOfSimilarWords(search_word)\n",
        "    total_lines = helper.getTotalLines(search_word)\n",
        "\n",
        "    if count_of_similar_words is not None and total_lines is not None:\n",
        "        print(\"Total Words:\", count_of_similar_words)\n",
        "        print(\"Total lines:\", total_lines)\n",
        "\n",
        "if __name__ == \"__main__\":\n",
        "    main()\n"
      ],
      "metadata": {
        "colab": {
          "base_uri": "https://localhost:8080/"
        },
        "id": "fG2lPFNWYeZf",
        "outputId": "caf6499a-78ac-4f7c-9335-8836b3a26cfc"
      },
      "execution_count": null,
      "outputs": [
        {
          "output_type": "stream",
          "name": "stdout",
          "text": [
            "Overwriting Lab9E2main.py\n"
          ]
        }
      ]
    },
    {
      "cell_type": "code",
      "source": [
        "!python Lab9E2main.py India"
      ],
      "metadata": {
        "colab": {
          "base_uri": "https://localhost:8080/"
        },
        "id": "8vOQCfFCYoII",
        "outputId": "85d52c0b-678a-49de-b0ab-ca3a8f857603"
      },
      "execution_count": null,
      "outputs": [
        {
          "output_type": "stream",
          "name": "stdout",
          "text": [
            "Total Words: 193\n",
            "Total lines: 3659\n"
          ]
        }
      ]
    },
    {
      "cell_type": "markdown",
      "metadata": {
        "id": "8KkiK3LrN24a"
      },
      "source": [
        "## When completed, Save, download the notebook and upload into Canvas"
      ]
    },
    {
      "cell_type": "code",
      "execution_count": null,
      "metadata": {
        "id": "rzuEWft9N24a"
      },
      "outputs": [],
      "source": []
    }
  ],
  "metadata": {
    "kernelspec": {
      "display_name": "Python 3",
      "language": "python",
      "name": "python3"
    },
    "language_info": {
      "codemirror_mode": {
        "name": "ipython",
        "version": 3
      },
      "file_extension": ".py",
      "mimetype": "text/x-python",
      "name": "python",
      "nbconvert_exporter": "python",
      "pygments_lexer": "ipython3",
      "version": "3.8.5"
    },
    "colab": {
      "provenance": []
    }
  },
  "nbformat": 4,
  "nbformat_minor": 0
}