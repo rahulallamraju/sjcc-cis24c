{
  "cells": [
    {
      "cell_type": "markdown",
      "metadata": {
        "id": "qmUF4CqIiGjw"
      },
      "source": [
        "# CIS024C -  Spring 2024\n",
        "\n",
        "## Lab 2\n",
        "\n",
        "**Lab 2 the below topics\n",
        "\n",
        "1. Conditionals - if/elif/else\n",
        "2. Repetition - for, while\n",
        "3. Iterators\n",
        "\n",
        "Feel free to search the web for how you can solve these exercises.\n",
        "\n",
        "We will review them during class.\n",
        "\n",
        "**Students will be given points for attemping to solve the exercises. It is not required that you have the correct result **\n",
        "\n",
        "You will need to download this notebook and use this as a starting point for your homework. You will just need to fill in the content of each code-block (cell) and execute. Once you have completed all the exercises, you will need to save this notebook and upload it into Canvas.\n",
        "\n",
        "Note also the exercises build on top of one another so you might be able to do the next exercise if you have not completed the previous exercise.\n",
        "\n",
        "Post any questions you have on our Slack discussions channel"
      ]
    },
    {
      "cell_type": "markdown",
      "metadata": {
        "id": "K3JxTxaViGj1"
      },
      "source": [
        "#### Exercise 1 (20 points)\n",
        "\n",
        "Write a Python program to obtain the student score from the student. Perform the below check\n",
        "\n",
        "* If the student’s score is < 80, mark the student as fail\n",
        "* If the student’s score is greater than or equal to 80, then perform the below check in a nested IF-ELSE statement\n",
        "* If student score is >= 90, mark the grade as A\n",
        "* If student score is greater than or equal to 80 but less than 90, mark the grade as B"
      ]
    },
    {
      "cell_type": "code",
      "execution_count": null,
      "metadata": {
        "id": "6IlRwPUbiGj3",
        "colab": {
          "base_uri": "https://localhost:8080/"
        },
        "outputId": "aec3ec17-49e4-4751-85f0-2ae07731d9e2"
      },
      "outputs": [
        {
          "output_type": "stream",
          "name": "stdout",
          "text": [
            "Enter the student's score: 50\n",
            "Student failed\n"
          ]
        }
      ],
      "source": [
        "### YOUR CODE GOES BELOW\n",
        "# get student's score from user\n",
        "student_score = float(input(\"Enter the student's score: \"))\n",
        "\n",
        "if student_score < 80:\n",
        "    print(\"Student failed\")\n",
        "else:\n",
        "    if student_score >= 90:\n",
        "        print(\"Grade: A\")\n",
        "    elif student_score >= 80:\n",
        "        print(\"Grade: B\")\n",
        "\n",
        "\n",
        "### END CODE"
      ]
    },
    {
      "cell_type": "markdown",
      "metadata": {
        "id": "SncGUwehiGj4"
      },
      "source": [
        "#### Exercise 2 (20 points)\n",
        "\n",
        "Write a Python to get the salary of three employees in an organization.\n",
        "\n",
        "Check to see if any two employees have the same salary. Display an appropriate message.\n"
      ]
    },
    {
      "cell_type": "code",
      "execution_count": null,
      "metadata": {
        "id": "BA6jeydQiGj4",
        "colab": {
          "base_uri": "https://localhost:8080/"
        },
        "outputId": "e7a4ba08-f6c0-444d-f0d5-facb5691e355"
      },
      "outputs": [
        {
          "output_type": "stream",
          "name": "stdout",
          "text": [
            "Enter salary for Employee 1: 100\n",
            "Enter salary for Employee 2: 100\n",
            "Enter salary for Employee 3: 200\n",
            "At least two employees have the same salary.\n"
          ]
        }
      ],
      "source": [
        "### YOUR CODE GOES BELOW\n",
        "# Get the salaries of three employees\n",
        "salary_employee1 = float(input(\"Enter salary for Employee 1: \"))\n",
        "salary_employee2 = float(input(\"Enter salary for Employee 2: \"))\n",
        "salary_employee3 = float(input(\"Enter salary for Employee 3: \"))\n",
        "\n",
        "# Check if any two employees have the same salary\n",
        "if salary_employee1 == salary_employee2 or salary_employee1 == salary_employee3 or salary_employee2 == salary_employee3:\n",
        "    print(\"At least two employees have the same salary.\")\n",
        "else:\n",
        "    print(\"All employees have different salaries.\")\n",
        "\n",
        "\n",
        "### END CODE"
      ]
    },
    {
      "cell_type": "markdown",
      "metadata": {
        "id": "7oK3WrOJiGj5"
      },
      "source": [
        "#### Exercise 3 (20 points)\n",
        "\n",
        "Write a Python program that uses a for loop to get the age information for six students.\n",
        "\n",
        "* Find the average age and print it on the screen.\n",
        "* Find the median age and print it to the screen\n",
        "\n",
        "**For example:**\n",
        "\n",
        "```\n",
        "\n",
        "Enter age: 20\n",
        "Enter age: 20\n",
        "Enter age: 20\n",
        "Enter age: 20\n",
        "Enter age: 20\n",
        "Enter age: 20\n",
        "\n",
        "The average is 20\n",
        "The median is 20\n",
        "```\n",
        "\n"
      ]
    },
    {
      "cell_type": "code",
      "execution_count": null,
      "metadata": {
        "id": "Fy6yh2KNiGj5",
        "colab": {
          "base_uri": "https://localhost:8080/"
        },
        "outputId": "53ed8768-e056-439d-ad43-3e75fda0f456"
      },
      "outputs": [
        {
          "output_type": "stream",
          "name": "stdout",
          "text": [
            "Enter age for Student 1: 1\n",
            "Enter age for Student 2: 2\n",
            "Enter age for Student 3: 3\n",
            "Enter age for Student 4: 4\n",
            "Enter age for Student 5: 5\n",
            "Enter age for Student 6: 6\n",
            "\n",
            "The average is: 3.5\n",
            "The median is: 3.5\n"
          ]
        }
      ],
      "source": [
        "### YOUR CODE GOES BELOW\n",
        "# defining an empty list to store ages\n",
        "ages = []\n",
        "\n",
        "for i in range(1, 7):\n",
        "    age = int(input(f\"Enter age for Student {i}: \"))\n",
        "    ages.append(age)\n",
        "\n",
        "average_age = sum(ages) / len(ages)\n",
        "\n",
        "sorted_ages = sorted(ages)\n",
        "mid_index = len(sorted_ages) // 2\n",
        "\n",
        "if len(sorted_ages) % 2 == 0:\n",
        "    median_age = (sorted_ages[mid_index - 1] + sorted_ages[mid_index]) / 2\n",
        "else:\n",
        "    median_age = sorted_ages[mid_index]\n",
        "\n",
        "print(f\"\\nThe average is: {average_age}\")\n",
        "print(f\"The median is: {median_age}\")\n",
        "\n",
        "\n",
        "### END CODE"
      ]
    },
    {
      "cell_type": "markdown",
      "metadata": {
        "id": "GX_R7V1xiGj5"
      },
      "source": [
        "#### Exercise 4 (20 points)\n",
        "\n",
        "Write a Python program to get the user name and City of residence from many users.\n",
        "\n",
        "Use a While loop to accept the information. Display the information that you have accepted.\n",
        "\n",
        "Exit the while loop if the name “None” is encountered.\n",
        "\n",
        "**For example:**\n",
        "\n",
        "```\n",
        "\n",
        "Enter username: Dominic Rafael\n",
        "Enter city of residence: Venice\n",
        "\n",
        "Enter username: Salvator Jugador\n",
        "Enter city of residence: Naples\n",
        "\n",
        "Enter username: None\n",
        "\n",
        "```\n",
        "\n",
        "Exit Program"
      ]
    },
    {
      "cell_type": "code",
      "execution_count": null,
      "metadata": {
        "id": "vhCydHiNiGj5",
        "colab": {
          "base_uri": "https://localhost:8080/"
        },
        "outputId": "f3ef679b-0afa-400b-a2d7-71e544b89152"
      },
      "outputs": [
        {
          "output_type": "stream",
          "name": "stdout",
          "text": [
            "Enter your name (or 'None' to exit): r\n",
            "Enter your city of residence: sj\n",
            "Enter your name (or 'None' to exit): none\n",
            "\n",
            "User Information:\n",
            "Name: r City: sj\n"
          ]
        }
      ],
      "source": [
        "### YOUR CODE GOES BELOW\n",
        "user_info_list = []\n",
        "\n",
        "while True:\n",
        "    user_name = input(\"Enter your name (or 'None' to exit): \")\n",
        "\n",
        "    if user_name.lower() == \"none\":\n",
        "        # print(\"Exiting the program.\")\n",
        "        break\n",
        "\n",
        "    city_of_residence = input(\"Enter your city of residence: \")\n",
        "\n",
        "    user_info_list.append((user_name, city_of_residence))\n",
        "\n",
        "print(\"\\nUser Information:\")\n",
        "for user_info in user_info_list:\n",
        "    print(f\"Name: {user_info[0]} City: {user_info[1]}\")\n",
        "\n",
        "\n",
        "### END CODE"
      ]
    },
    {
      "cell_type": "markdown",
      "metadata": {
        "id": "h6CiiQS6iGj6"
      },
      "source": [
        "#### Exercise 5 (20 points)\n",
        "\n",
        "Write a python program that accepts a line of text from the user.\n",
        "\n",
        "Use a for loop to go through all characters and display the vowels and consonants.\n",
        "\n",
        "If a vowel or consonant is repeating, make sure to print it out only once\n",
        "\n",
        "**for example**\n",
        "\n",
        "```\n",
        "\n",
        "Enter a line of text: Jack and Jill\n",
        "\n",
        "Vowels are: ai\n",
        "Consonants are: jckndl\n",
        "```\n"
      ]
    },
    {
      "cell_type": "code",
      "execution_count": null,
      "metadata": {
        "id": "JKTqUYRyiGj6",
        "colab": {
          "base_uri": "https://localhost:8080/"
        },
        "outputId": "c693f95c-9401-42ee-f360-5f9247691792"
      },
      "outputs": [
        {
          "output_type": "stream",
          "name": "stdout",
          "text": [
            "Enter a line of text: jack and jill\n",
            "\n",
            "Vowels are: ai\n",
            "Consonants are: jckndl\n"
          ]
        }
      ],
      "source": [
        "### YOUR CODE GOES BELOW\n",
        "input_text = input(\"Enter a line of text: \")\n",
        "\n",
        "# Initialize empty lists for vowels and consonants\n",
        "vowels = []\n",
        "consonants = []\n",
        "\n",
        "# Use a for loop to go through all characters in the input text\n",
        "for char in input_text:\n",
        "    if char.isalpha():  # Check if the character is an alphabet letter\n",
        "        if char.lower() in 'aeiou' and char.lower() not in vowels:\n",
        "            vowels.append(char.lower())\n",
        "        elif char.lower() not in 'aeiou' and char.lower() not in consonants:\n",
        "            consonants.append(char.lower())\n",
        "\n",
        "# Display the unique vowels and consonants\n",
        "print(f\"\\nVowels are: {''.join(vowels)}\")\n",
        "print(f\"Consonants are: {''.join(consonants)}\")\n",
        "\n",
        "\n",
        "\n",
        "### END CODE"
      ]
    },
    {
      "cell_type": "markdown",
      "metadata": {
        "id": "bclUmkldiGj6"
      },
      "source": [
        "## When completed, Save, download the notebook and upload into Canvas"
      ]
    },
    {
      "cell_type": "code",
      "execution_count": null,
      "metadata": {
        "id": "2d_zWHbuiGj6"
      },
      "outputs": [],
      "source": []
    }
  ],
  "metadata": {
    "kernelspec": {
      "display_name": "Python 3",
      "language": "python",
      "name": "python3"
    },
    "language_info": {
      "codemirror_mode": {
        "name": "ipython",
        "version": 3
      },
      "file_extension": ".py",
      "mimetype": "text/x-python",
      "name": "python",
      "nbconvert_exporter": "python",
      "pygments_lexer": "ipython3",
      "version": "3.8.5"
    },
    "colab": {
      "provenance": []
    }
  },
  "nbformat": 4,
  "nbformat_minor": 0
}