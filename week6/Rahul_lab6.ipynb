{
  "cells": [
    {
      "cell_type": "markdown",
      "metadata": {
        "id": "8Vt3q3w_1M5h"
      },
      "source": [
        "# CIS024C -  Fall 2024\n",
        "\n",
        "## Lab 6\n",
        "\n",
        "**Lab 6 consists the below topics**\n",
        "\n",
        "**Functions and Arguments\n",
        "\n",
        "**Variable scope wrt functions\n",
        "\n",
        "**Recursion\n",
        "\n",
        "Feel free to search the web for how you can solve these exercises.\n",
        "\n",
        "We will review them during class.\n",
        "\n",
        "**Students will be given partial credit for attemping to solve the exercises. You will be given the solutions during class and are required to use the solution to update your lab with the correct solutions**\n",
        "\n",
        "You will need to download this notebook and use this as a starting point for your homework. You will just need to fill in the content of each code-block (cell) and execute. Once you have completed all the exercises, you will need to save this notebook and upload it into Canvas.\n",
        "\n",
        "Note also the exercises build on top of one another so you might be able to do the next exercise if you have not completed the previous exercise.\n",
        "\n",
        "Post any questions you have on our Slack discussions channel"
      ]
    },
    {
      "cell_type": "markdown",
      "metadata": {
        "id": "Iv0WnYEn1M5l"
      },
      "source": [
        "#### Exercise 1 (25 points)\n",
        "\n",
        "Write a function to sort numbers in a list.\n",
        "\n",
        "Do not use any existing sort functions.\n",
        "\n",
        "Here is a suitable algorithm for you to consider to perform the sort\n",
        "```\n",
        "begin BubbleSort(list)\n",
        "\n",
        "   for all elements of list\n",
        "      if list[i] > list[i+1]\n",
        "         swap(list[i], list[i+1])\n",
        "      end if\n",
        "   end for\n",
        "   \n",
        "   return list\n",
        "   \n",
        "end BubbleSort\n",
        "```"
      ]
    },
    {
      "cell_type": "code",
      "execution_count": null,
      "metadata": {
        "id": "VzN4wYVz1M5m",
        "colab": {
          "base_uri": "https://localhost:8080/"
        },
        "outputId": "57b2c62e-e926-42bd-dfbd-eeb9f627e43c"
      },
      "outputs": [
        {
          "output_type": "stream",
          "name": "stdout",
          "text": [
            "Input list: [64, 34, 25, 12, 22, 11, 90]\n",
            "Sorted list: [11, 12, 22, 25, 34, 64, 90]\n"
          ]
        }
      ],
      "source": [
        "### YOUR CODE GOES BELOW\n",
        "\n",
        "# This function sorts the numbers in thelist\n",
        "def num_sort(numbers):\n",
        "    n = len(numbers)\n",
        "    for i in range(n):\n",
        "        # Last i elements are already sorted, so we don't need to check them\n",
        "        for j in range(0, n - i - 1):\n",
        "            if numbers[j] > numbers[j + 1]:\n",
        "                # Swap if the element found is greater than the next element\n",
        "                numbers[j], numbers[j + 1] = numbers[j + 1], numbers[j]\n",
        "    return numbers\n",
        "\n",
        "# Example usage:\n",
        "input_list = [64, 34, 25, 12, 22, 11, 90]\n",
        "print(\"Input list:\", input_list)\n",
        "\n",
        "sorted_numbers = num_sort(input_list)\n",
        "print(\"Sorted list:\", sorted_numbers)\n",
        "\n",
        "\n",
        "### END CODE"
      ]
    },
    {
      "cell_type": "markdown",
      "metadata": {
        "id": "dztQ5SIp1M5o"
      },
      "source": [
        "#### Exercise 2 (25 points)\n",
        "\n",
        "Write a recursive Python function to compute the factorial of a number.\n",
        "\n",
        "A recursive function is a function that calls itself. If you recall, last class we saw a program to compute the factorial of a number.\n",
        "\n",
        "Follow the below algorithm to see if you can write a recursive program to compute the factorial of a number\n",
        "\n",
        "```\n",
        "Function factorial(n)\n",
        "    Begin\n",
        "      if n == 0 or 1 then\n",
        "        Return 1;\n",
        "      else\n",
        "        Return n* factorial(n-1);\n",
        "      endif\n",
        "    End\n",
        "```"
      ]
    },
    {
      "cell_type": "code",
      "execution_count": null,
      "metadata": {
        "id": "yWvgkCYg1M5o",
        "colab": {
          "base_uri": "https://localhost:8080/"
        },
        "outputId": "84c3aec0-2f2f-42ee-e2df-990f47602983"
      },
      "outputs": [
        {
          "output_type": "stream",
          "name": "stdout",
          "text": [
            "Factorial of 5 is 120\n"
          ]
        }
      ],
      "source": [
        "### YOUR CODE GOES BELOW\n",
        "\n",
        "# This function calculates the factorial of a number using recursive way\n",
        "def factorial(n):\n",
        "    if n == 0 or n == 1:\n",
        "        return 1\n",
        "    else:\n",
        "        return n * factorial(n - 1)\n",
        "\n",
        "# Example usage:\n",
        "number = 5\n",
        "result = factorial(number)\n",
        "print(\"Factorial of\", number, \"is\", result)\n",
        "\n",
        "\n",
        "### END CODE"
      ]
    },
    {
      "cell_type": "markdown",
      "metadata": {
        "id": "pFGEJx6p1M5p"
      },
      "source": [
        "#### Exercise 3 (25 points)\n",
        "\n",
        "Write a Python function that takes a list and returns a new list with unique elements of the first list\n",
        "\n",
        "```\n",
        "Sample List : [1,2,3,3,3,3,4,5]\n",
        "Unique List : [1, 2, 3, 4, 5]\n",
        "```"
      ]
    },
    {
      "cell_type": "code",
      "execution_count": null,
      "metadata": {
        "id": "bLwfOWNa1M5p",
        "colab": {
          "base_uri": "https://localhost:8080/"
        },
        "outputId": "c28e20e5-fceb-44d9-90eb-2bdf3c501979"
      },
      "outputs": [
        {
          "output_type": "stream",
          "name": "stdout",
          "text": [
            "Given List: [1, 2, 3, 3, 3, 3, 4, 5]\n",
            "Unique List: [1, 2, 3, 4, 5]\n"
          ]
        }
      ],
      "source": [
        "### YOUR CODE GOES BELOW\n",
        "\n",
        "# This function returns the unique elements in the list\n",
        "def unique_elements(input_list):\n",
        "    unique_list = []\n",
        "    for item in input_list:\n",
        "        if item not in unique_list:\n",
        "            unique_list.append(item)\n",
        "    return unique_list\n",
        "\n",
        "# Example usage:\n",
        "sample_list = [1, 2, 3, 3, 3, 3, 4, 5]\n",
        "unique_list = unique_elements(sample_list)\n",
        "\n",
        "print(\"Given List:\", sample_list)\n",
        "print(\"Unique List:\", unique_list)\n",
        "\n",
        "\n",
        "### END CODE"
      ]
    },
    {
      "cell_type": "markdown",
      "metadata": {
        "id": "JWMHf2ww1M5q"
      },
      "source": [
        "#### Exercise 4 (25 points)\n",
        "\n",
        "\n",
        "Write a Python function that accepts a string and calculate the number of upper case letters and lower case letters.\n",
        "```\n",
        "Sample String : 'The quick Brow Fox'\n",
        "\n",
        "Expected Output :\n",
        "No. of Upper case characters : 3\n",
        "No. of Lower case Characters : 12\n",
        "```"
      ]
    },
    {
      "cell_type": "code",
      "execution_count": null,
      "metadata": {
        "id": "SOcwosnr1M5q",
        "colab": {
          "base_uri": "https://localhost:8080/"
        },
        "outputId": "2520325f-75d7-4a11-8081-5b3a707bd195"
      },
      "outputs": [
        {
          "output_type": "stream",
          "name": "stdout",
          "text": [
            "Enter a string: San Jose city College\n",
            "No. of Upper case characters: 3\n",
            "No. of Lower case characters: 15\n"
          ]
        }
      ],
      "source": [
        "### YOUR CODE GOES BELOW\n",
        "\n",
        "# This function calculates the number of upper case letters and lower case letters.\n",
        "def count_case_characters(string):\n",
        "    upper_count = 0\n",
        "    lower_count = 0\n",
        "    for char in string:\n",
        "        if char.isupper():\n",
        "            upper_count += 1\n",
        "        elif char.islower():\n",
        "            lower_count += 1\n",
        "    return upper_count, lower_count\n",
        "\n",
        "# Example usage:\n",
        "sample_string = input(\"Enter a string: \")\n",
        "upper_count, lower_count = count_case_characters(sample_string)\n",
        "print(\"No. of Upper case characters:\", upper_count)\n",
        "print(\"No. of Lower case characters:\", lower_count)\n",
        "\n",
        "\n",
        "### END CODE"
      ]
    },
    {
      "cell_type": "markdown",
      "metadata": {
        "id": "Euv0La011M5r"
      },
      "source": [
        "## When completed, Save, download the notebook and upload into Canvas"
      ]
    },
    {
      "cell_type": "code",
      "execution_count": null,
      "metadata": {
        "id": "GUyWx_vU1M5r"
      },
      "outputs": [],
      "source": []
    }
  ],
  "metadata": {
    "kernelspec": {
      "display_name": "Python 3",
      "language": "python",
      "name": "python3"
    },
    "language_info": {
      "codemirror_mode": {
        "name": "ipython",
        "version": 3
      },
      "file_extension": ".py",
      "mimetype": "text/x-python",
      "name": "python",
      "nbconvert_exporter": "python",
      "pygments_lexer": "ipython3",
      "version": "3.8.5"
    },
    "colab": {
      "provenance": []
    }
  },
  "nbformat": 4,
  "nbformat_minor": 0
}