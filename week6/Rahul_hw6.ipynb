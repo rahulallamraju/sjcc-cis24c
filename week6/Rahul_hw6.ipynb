{
  "cells": [
    {
      "cell_type": "markdown",
      "metadata": {
        "id": "lzhK5LGwy9G2"
      },
      "source": [
        "# CIS024C -  Fall 2024\n",
        "\n",
        "## Homework 6\n",
        "\n",
        "Homework 6 covers exercises that involve working with functions\n",
        "\n",
        "The below sites have some interesting and useful information on working with files\n",
        "\n",
        "https://www.learnpython.org/en/Functions\n",
        "https://www.tutorialspoint.com/python/python_functions.htm\n",
        "\n",
        "You will need to download this notebook and use this as a starting point for your homework. You will just need to fill in the content of each code-block (cell) and execute."
      ]
    },
    {
      "cell_type": "markdown",
      "metadata": {
        "id": "WB5c2uhvy9G3"
      },
      "source": [
        "### Helpful Jupyter Commands\n",
        "\n",
        "Below are some useful commands to know when using Jupyter\n",
        "\n",
        "1. You can add a new cell by clicking on the \"+\" icon on top.\n",
        "2. You can delete a cell by selecting that cell and clicking on the \"scissors\" icon on top.\n",
        "3. You can execute a cell by either pressing shift+enter or selecting the \"play\" button on top.\n",
        "4. You can create a new file in Jupyter via the File menu->New Notebook option. Make sure to select Python 2 when creating your notebook.\n",
        "5. Also, for your code blocks make sure that Code is selected instead of another option like Markdown.\n",
        "6. Use the Enter key to go to the next line in a cell to enter the next statement.\n",
        "7. You can clear results by clicking on the Cell menu item and selecting Current Output->Clear or All Output->Clear depending on whether you are trying to just clear the output for one cell or for all cells.\n",
        "8. In case your program has crashed for some reason (infinite loop, for example), you can restart your Python session by select Kernel in the menu and selecting Restart.\n"
      ]
    },
    {
      "cell_type": "markdown",
      "metadata": {
        "id": "w4PYHHgfy9G4"
      },
      "source": [
        "#### Check Python Version"
      ]
    },
    {
      "cell_type": "code",
      "execution_count": null,
      "metadata": {
        "id": "gumtrZZEy9G4",
        "outputId": "6a872da2-c346-4982-9fe9-4d284f4bc6ff",
        "colab": {
          "base_uri": "https://localhost:8080/"
        }
      },
      "outputs": [
        {
          "output_type": "stream",
          "name": "stdout",
          "text": [
            "Python 3.10.12\n"
          ]
        }
      ],
      "source": [
        "!python --version"
      ]
    },
    {
      "cell_type": "markdown",
      "metadata": {
        "id": "Ajx4E1djy9G5"
      },
      "source": [
        "#### Exercise 1 - Testing your knowledge of functions **\n",
        "\n",
        "Answer the below questions\n",
        "\n",
        "1. What is a function in Python?\n",
        "2. What are the advantages of using functions?"
      ]
    },
    {
      "cell_type": "markdown",
      "metadata": {
        "id": "sdDhm_luy9G6"
      },
      "source": [
        "<< Double click this cell and enter your result >>\n",
        "1. A block of code that can be reused. It can be executed when you call the function.\n",
        "2. Advantages of using functions include\n",
        "  - You avoid the need to re write the same block of code and you can just call the function.\n",
        "  - functions allow you to break down your code into smaller pieces which make a program easier to manage\n",
        "  - funtions make it easier to test and debug your code since you can isolate them and individually see if they are working or not\n",
        "  -"
      ]
    },
    {
      "cell_type": "markdown",
      "metadata": {
        "id": "67etkr-Ty9G6"
      },
      "source": [
        "#### Exercise 2 -  Max of three numbers\n",
        "\n",
        "1. Write a Python function to find the maximum of three numbers in a list.\n",
        "2. Write a Python function to find the minimum of three numbers in a list.\n",
        "3. Write a Python function to return the last number in a list.\n",
        "4. Write a Python function to return the first number in a list of numbers\n",
        "\n",
        "The function must accept one list parameter. **You cannot pass in 3 separate numbers to the function**\n",
        "\n",
        "Make sure you invoke this function in your main program and display the result\n",
        "\n",
        "**Note that you must write your own function and not use any of the prebuilt functions like ``max`` or ``min`` **"
      ]
    },
    {
      "cell_type": "code",
      "execution_count": null,
      "metadata": {
        "id": "bz6_5uqFy9G6",
        "colab": {
          "base_uri": "https://localhost:8080/"
        },
        "outputId": "6b03550a-efff-4f1d-d66b-54a39603e769"
      },
      "outputs": [
        {
          "output_type": "stream",
          "name": "stdout",
          "text": [
            "Maximum of three numbers: 8\n",
            "Minimum of three numbers: 2\n",
            "Last number in the list: 8\n",
            "First number in the list: 5\n"
          ]
        }
      ],
      "source": [
        "### YOUR CODE GOES\n",
        "\n",
        "# This function finds the max of 3 numbers and returns the max number\n",
        "def max_of_three(numbers):\n",
        "    max_num = numbers[0]\n",
        "    for num in numbers:\n",
        "        if num > max_num:\n",
        "            max_num = num\n",
        "    return max_num\n",
        "\n",
        "# This function finds the min of 3 numbers and returns the minimum number\n",
        "def min_of_three(numbers):\n",
        "    min_num = numbers[0]\n",
        "    for num in numbers:\n",
        "        if num < min_num:\n",
        "            min_num = num\n",
        "    return min_num\n",
        "\n",
        "# This function returns the last number in the list\n",
        "def last_number(numbers):\n",
        "    return numbers[-1]\n",
        "\n",
        "# This function returns the first number in the list\n",
        "def first_number(numbers):\n",
        "    return numbers[0]\n",
        "\n",
        "# main method\n",
        "def main():\n",
        "  # Sample list of numbers\n",
        "  numbers = [5, 2, 8]\n",
        "\n",
        "  # Display results\n",
        "  print(\"Maximum of three numbers:\", max_of_three(numbers))\n",
        "  print(\"Minimum of three numbers:\", min_of_three(numbers))\n",
        "  print(\"Last number in the list:\", last_number(numbers))\n",
        "  print(\"First number in the list:\", first_number(numbers))\n",
        "\n",
        "# invoke the main method\n",
        "main()\n",
        "\n",
        "### END CODE"
      ]
    },
    {
      "cell_type": "markdown",
      "metadata": {
        "id": "oxvnI3euy9G6"
      },
      "source": [
        "#### Exercise 3 - Finding the sum of numbers in a list\n",
        "\n",
        "Write a Python function to sum all the numbers in a list\n",
        "\n",
        "Make sure you invoke this function in your main program and display the result\n",
        "\n",
        "Use a while loop to continue asking the user till the user decides to end.\n",
        "\n",
        "**Example**\n",
        "```\n",
        "Enter a list of numbers: 1,2,3\n",
        "The product is 6\n",
        "\n",
        "Do you want to continue(y/n): y\n",
        "\n",
        "Enter a list of numbers: 2,3\n",
        "The product is 5\n",
        "\n",
        "Do you want to continue(y/n): n\n",
        "Program ended\n",
        "```"
      ]
    },
    {
      "cell_type": "code",
      "execution_count": null,
      "metadata": {
        "id": "mUZN-zOyy9G6",
        "colab": {
          "base_uri": "https://localhost:8080/"
        },
        "outputId": "c6a13f86-3c2b-4f1b-be80-c3dc6419da64"
      },
      "outputs": [
        {
          "output_type": "stream",
          "name": "stdout",
          "text": [
            "Enter a list of numbers separated by commas: 10,20,30,40\n",
            "The sum is: 100\n",
            "Do you want to continue (y/n): y\n",
            "Enter a list of numbers separated by commas: 5,10,15,20,25\n",
            "The sum is: 75\n",
            "Do you want to continue (y/n): n\n",
            "Program ended\n"
          ]
        }
      ],
      "source": [
        "### YOUR CODE GOES BELOW\n",
        "\n",
        "# This function adds all the numbers in the list\n",
        "def sum_of_numbers(numbers):\n",
        "    total = 0\n",
        "    for num in numbers:\n",
        "        total += num\n",
        "    return total\n",
        "\n",
        "# main method\n",
        "def main():\n",
        "    while True:\n",
        "        num_input = input(\"Enter a list of numbers separated by commas: \")\n",
        "        numbers = []\n",
        "        for x in num_input.split(','):\n",
        "            numbers.append(int(x))\n",
        "\n",
        "        # Calculate the sum of numbers using the function\n",
        "        result = sum_of_numbers(numbers)\n",
        "\n",
        "        print(\"The sum is:\", result)\n",
        "\n",
        "        # Ask user if they want to continue\n",
        "        choice = input(\"Do you want to continue (y/n): \").lower()\n",
        "        if choice != 'y':\n",
        "            print(\"Program ended\")\n",
        "            break\n",
        "\n",
        "# Invoke the main function\n",
        "main()\n",
        "\n",
        "\n",
        "### END CODE"
      ]
    },
    {
      "cell_type": "markdown",
      "metadata": {
        "id": "RhRaVtv0y9G6"
      },
      "source": [
        "#### Exercise 4 - Finding the product of numbers in a list\n",
        "\n",
        "Ask the user to enter a list of numbers. Write a Python function to multiply all the numbers in a list\n",
        "\n",
        "Make sure you invoke this function in your main program and display the result\n",
        "\n",
        "Use a while loop to continue asking the user till the user decides to end.\n",
        "\n",
        "**Example**\n",
        "```\n",
        "Enter a list of numbers: 1,2,3\n",
        "The product is 6\n",
        "\n",
        "Do you want to continue(y/n): y\n",
        "\n",
        "Enter a list of numbers: 2,3\n",
        "The product is 6\n",
        "\n",
        "Do you want to continue(y/n): n\n",
        "Program ended\n",
        "```"
      ]
    },
    {
      "cell_type": "code",
      "execution_count": null,
      "metadata": {
        "id": "32kQZeIVy9G6",
        "colab": {
          "base_uri": "https://localhost:8080/"
        },
        "outputId": "9b053a40-1c84-4dfa-8c6b-c3c2a21f10b4"
      },
      "outputs": [
        {
          "output_type": "stream",
          "name": "stdout",
          "text": [
            "Enter a list of numbers separated by commas: 1,10,20\n",
            "The product is 200\n",
            "Do you want to continue (y/n): y\n",
            "Enter a list of numbers separated by commas: 25,2,3\n",
            "The product is 150\n",
            "Do you want to continue (y/n): n\n",
            "Program ended\n"
          ]
        }
      ],
      "source": [
        "### YOUR CODE GOES BELOW\n",
        "\n",
        "# This function calculates the product of numbers in the list\n",
        "def product_of_numbers(numbers):\n",
        "    product = 1\n",
        "    for num in numbers:\n",
        "        product *= num\n",
        "    return product\n",
        "\n",
        "# main method\n",
        "def main():\n",
        "    while True:\n",
        "        user_input = input(\"Enter a list of numbers separated by commas: \")\n",
        "        numbers = []\n",
        "        for x in user_input.split(\",\"):\n",
        "            numbers.append(int(x))\n",
        "\n",
        "        result = product_of_numbers(numbers)\n",
        "        print(\"The product is\", result)\n",
        "\n",
        "        choice = input(\"Do you want to continue (y/n): \")\n",
        "        if choice.lower() != 'y':\n",
        "            print(\"Program ended\")\n",
        "            break\n",
        "\n",
        "# call the main method\n",
        "main()\n",
        "\n",
        "\n",
        "\n",
        "### END CODE"
      ]
    },
    {
      "cell_type": "markdown",
      "metadata": {
        "id": "vxk6m-_Xy9G7"
      },
      "source": [
        "#### Exercise 5 - Check for Palindrome\n",
        "\n",
        "Write a Python function to check if a given word is a palindrome\n",
        "\n",
        "* Use the input function to ask the user to enter a word\n",
        "* Validate whether the word is a palendrome and display the status of the validation\n",
        "\n",
        "Note that a palindrome is a word that is spelt the same way forwards and backards, example ** racecar **\n",
        "\n",
        "Make sure you invoke this function in your main program and display the result\n",
        "\n",
        "Use a while loop to continue asking the user till the user decides to end.\n",
        "\n",
        "**Example**\n",
        "```\n",
        "Enter a word: racecar\n",
        "The word is a palindrome\n",
        "\n",
        "Do you want to continue(y/n): y\n",
        "\n",
        "Enter a word: hello\n",
        "The word is not a palindrome\n",
        "\n",
        "Do you want to continue(y/n): n\n",
        "Program ended\n",
        "```"
      ]
    },
    {
      "cell_type": "code",
      "execution_count": null,
      "metadata": {
        "id": "pyjRBpt6y9G7",
        "colab": {
          "base_uri": "https://localhost:8080/"
        },
        "outputId": "3488b5f3-aa5c-4482-e01f-21fdb55ae13f"
      },
      "outputs": [
        {
          "output_type": "stream",
          "name": "stdout",
          "text": [
            "Enter a word: civic\n",
            "The word 'civic' is a palindrome\n",
            "Do you want to continue (y/n): y\n",
            "Enter a word: rotator\n",
            "The word 'rotator' is a palindrome\n",
            "Do you want to continue (y/n): y\n",
            "Enter a word: kayak\n",
            "The word 'kayak' is a palindrome\n",
            "Do you want to continue (y/n): n\n",
            "Program ended\n"
          ]
        }
      ],
      "source": [
        "### YOUR CODE GOES BELOW\n",
        "\n",
        "# This function checks if a given word is a palindrome\n",
        "def is_palindrome(word):\n",
        "    # Convert the word to lowercase to ignore case\n",
        "    word = word.lower()\n",
        "    # Remove spaces from the word\n",
        "    word = word.replace(\" \", \"\")\n",
        "    # Check if the word is equal to its reverse\n",
        "    if word == word[::-1]:\n",
        "        return True\n",
        "    else:\n",
        "        return False\n",
        "\n",
        "# main method\n",
        "def main():\n",
        "    while True:\n",
        "        user_input = input(\"Enter a word: \")\n",
        "        if is_palindrome(user_input):\n",
        "            print(f\"The word '{user_input}' is a palindrome\")\n",
        "        else:\n",
        "            print(f\"The word '{user_input}' is not a palindrome\")\n",
        "\n",
        "        choice = input(\"Do you want to continue (y/n): \")\n",
        "        if choice.lower() != 'y':\n",
        "            print(\"Program ended\")\n",
        "            break\n",
        "\n",
        "# call the main method\n",
        "main()\n",
        "\n",
        "\n",
        "### END CODE"
      ]
    },
    {
      "cell_type": "markdown",
      "metadata": {
        "id": "XOEEPvqOy9G7"
      },
      "source": [
        "#### Exercise 6 - Finding the factorial of a number without recursion\n",
        "\n",
        "Write a Python function to calculate the factorial of a number (a non-negative integer). The function accepts the number as an argument.\n",
        "\n",
        "Use a while loop to continue asking the user till the user decides to end.\n",
        "\n",
        "**Example**\n",
        "```\n",
        "Enter a number: 6\n",
        "Factorial of 6 is 720\n",
        "\n",
        "Do you want to continue(y/n): y\n",
        "\n",
        "Enter a number: 4\n",
        "Factorial of 4 is 24\n",
        "\n",
        "Do you want to continue(y/n): n\n",
        "Program ended\n",
        "```"
      ]
    },
    {
      "cell_type": "code",
      "execution_count": null,
      "metadata": {
        "id": "a6vnmenXy9G7",
        "colab": {
          "base_uri": "https://localhost:8080/"
        },
        "outputId": "3406e24d-f045-414c-83ea-577d1b972eb6"
      },
      "outputs": [
        {
          "output_type": "stream",
          "name": "stdout",
          "text": [
            "Enter a number: 5\n",
            "Factorial of 5 is 120\n",
            "Do you want to continue (y/n): y\n",
            "Enter a number: 6\n",
            "Factorial of 6 is 720\n",
            "Do you want to continue (y/n): y\n",
            "Enter a number: 3\n",
            "Factorial of 3 is 6\n",
            "Do you want to continue (y/n): n\n",
            "Program ended\n"
          ]
        }
      ],
      "source": [
        "### YOUR CODE GOES BELOW\n",
        "# This function calculates the factorial of a given number\n",
        "def factorial(n):\n",
        "    if n == 0:\n",
        "        return 1\n",
        "    else:\n",
        "        result = 1\n",
        "        while n > 0:\n",
        "            result *= n\n",
        "            n -= 1\n",
        "        return result\n",
        "\n",
        "# main method\n",
        "def main():\n",
        "    while True:\n",
        "        user_input = int(input(\"Enter a number: \"))\n",
        "        result = factorial(user_input)\n",
        "        print(\"Factorial of\", user_input, \"is\", result)\n",
        "\n",
        "        choice = input(\"Do you want to continue (y/n): \")\n",
        "        if choice.lower() != 'y':\n",
        "            print(\"Program ended\")\n",
        "            break\n",
        "\n",
        "# call the main method\n",
        "main()\n",
        "\n",
        "\n",
        "### END CODE"
      ]
    },
    {
      "cell_type": "markdown",
      "metadata": {
        "id": "gqVw3CmRy9G8"
      },
      "source": [
        "#### Exercise 7 - Finding the factorial of a number using recursion\n",
        "\n",
        "Write a Python function to calculate the factorial of a number (a non-negative integer). The function accepts the number as an argument.\n",
        "\n",
        "Use a while loop to continue asking the user till the user decides to end.\n",
        "\n",
        "**Example**\n",
        "```\n",
        "Enter a number: 6\n",
        "Factorial of 6 is 720\n",
        "\n",
        "Do you want to continue(y/n): y\n",
        "\n",
        "Enter a number: 4\n",
        "Factorial of 4 is 24\n",
        "\n",
        "Do you want to continue(y/n): n\n",
        "Program ended\n",
        "```"
      ]
    },
    {
      "cell_type": "code",
      "execution_count": null,
      "metadata": {
        "id": "xf3M768Iy9G8",
        "colab": {
          "base_uri": "https://localhost:8080/"
        },
        "outputId": "9524579c-64a1-40cc-ef90-7c8826cc6348"
      },
      "outputs": [
        {
          "output_type": "stream",
          "name": "stdout",
          "text": [
            "Enter a number: 3\n",
            "Factorial of 3 is 6\n",
            "Do you want to continue (y/n): y\n",
            "Enter a number: 5\n",
            "Factorial of 5 is 120\n",
            "Do you want to continue (y/n): n\n",
            "Program ended\n"
          ]
        }
      ],
      "source": [
        "### YOUR CODE GOES BELOW\n",
        "\n",
        "# This function calculates the factorial of a number using recursion\n",
        "def factorial(n):\n",
        "    if n == 0:\n",
        "        return 1\n",
        "    else:\n",
        "        return n * factorial(n - 1)\n",
        "\n",
        "# main method\n",
        "def main():\n",
        "    while True:\n",
        "        user_input = int(input(\"Enter a number: \"))\n",
        "        result = factorial(user_input)\n",
        "        print(\"Factorial of\", user_input, \"is\", result)\n",
        "\n",
        "        choice = input(\"Do you want to continue (y/n): \")\n",
        "        if choice.lower() != 'y':\n",
        "            print(\"Program ended\")\n",
        "            break\n",
        "\n",
        "# call the main method\n",
        "main()\n",
        "\n",
        "### END CODE"
      ]
    },
    {
      "cell_type": "markdown",
      "metadata": {
        "id": "7JY6hnQjy9G8"
      },
      "source": [
        "#### Exercise 8 - Check if number falls in a given range\n",
        "\n",
        "Write a Python function to check whether a number falls in a given range. The function accepts 3 parameters, the lower limit of the range, the upper limit of the range, and the number.\n",
        "\n",
        "Use a while loop to continue asking the user till the user decides to end.\n",
        "\n",
        "The function parameters should be as follows\n",
        "```\n",
        "def checkNumberInRange(lowerLimit, upperLimit, number):\n",
        "```\n",
        "\n",
        "\n",
        "**Example**\n",
        "```\n",
        "Enter the lower limit: 2\n",
        "Enter the upper limit: 200\n",
        "Enter the number: 100\n",
        "The number falls within the range\n",
        "\n",
        "Do you want to continue(y/n): y\n",
        "\n",
        "Enter the lower limit: 2\n",
        "Enter the upper limit: 200\n",
        "Enter the number: 1000\n",
        "The number falls outside the range\n",
        "\n",
        "Do you want to continue(y/n): n\n",
        "Program ended\n",
        "```\n",
        "\n"
      ]
    },
    {
      "cell_type": "code",
      "execution_count": null,
      "metadata": {
        "id": "vA71JZdCy9G9",
        "colab": {
          "base_uri": "https://localhost:8080/"
        },
        "outputId": "d2f22448-12c2-4c86-9729-95d81ecabaf9"
      },
      "outputs": [
        {
          "output_type": "stream",
          "name": "stdout",
          "text": [
            "Enter the lower limit: 5\n",
            "Enter the upper limit: 10\n",
            "Enter the number: 7\n",
            "The number '7' falls within the range\n",
            "Do you want to continue (y/n): y\n",
            "Enter the lower limit: 10\n",
            "Enter the upper limit: 20\n",
            "Enter the number: 15\n",
            "The number '15' falls within the range\n",
            "Do you want to continue (y/n): y\n",
            "Enter the lower limit: 25\n",
            "Enter the upper limit: 35\n",
            "Enter the number: 37\n",
            "The number '37' falls outside the range\n",
            "Do you want to continue (y/n): n\n",
            "Program ended\n"
          ]
        }
      ],
      "source": [
        "### YOUR CODE GOES BELOW\n",
        "\n",
        "# This function checks if a given number is in a range\n",
        "def checkNumberInRange(lowerLimit, upperLimit, number):\n",
        "    if lowerLimit <= number <= upperLimit:\n",
        "        return True\n",
        "    else:\n",
        "        return False\n",
        "\n",
        "# main method\n",
        "def main():\n",
        "    while True:\n",
        "        lower_limit = int(input(\"Enter the lower limit: \"))\n",
        "        upper_limit = int(input(\"Enter the upper limit: \"))\n",
        "        number = int(input(\"Enter the number: \"))\n",
        "\n",
        "        if checkNumberInRange(lower_limit, upper_limit, number):\n",
        "            print(f\"The number '{number}' falls within the range\")\n",
        "        else:\n",
        "            print(f\"The number '{number}' falls outside the range\")\n",
        "\n",
        "        choice = input(\"Do you want to continue (y/n): \")\n",
        "        if choice.lower() != 'y':\n",
        "            print(\"Program ended\")\n",
        "            break\n",
        "\n",
        "if __name__ == \"__main__\":\n",
        "    main()\n",
        "\n",
        "\n",
        "### END CODE"
      ]
    },
    {
      "cell_type": "markdown",
      "metadata": {
        "id": "IS8Kny7iy9G9"
      },
      "source": [
        "#### Exercise 9 - Assign a different name to a function\n",
        "\n",
        "1. Create a function **findSum** using the **sum** function to find the sum of 3 numbers\n",
        "2. Create a variable **myFindSum** and assign the **findSum** function to **myFindSum**\n",
        "3. Invoke the **myFindSum** function with the numbers 6,7,2 and display the result\n"
      ]
    },
    {
      "cell_type": "code",
      "execution_count": null,
      "metadata": {
        "id": "XbNZJpLuy9G9",
        "colab": {
          "base_uri": "https://localhost:8080/"
        },
        "outputId": "fc6e9aa7-d8ca-45d0-82b2-396e0788db83"
      },
      "outputs": [
        {
          "output_type": "stream",
          "name": "stdout",
          "text": [
            "The sum is: 15\n"
          ]
        }
      ],
      "source": [
        "### YOUR CODE GOES BELOW\n",
        "\n",
        "# Define a function findSum that calculates the sum of three numbers\n",
        "def findSum(a, b, c):\n",
        "    return sum([a, b, c])\n",
        "\n",
        "# Create a variable myFindSum and assign the findSum function to it\n",
        "myFindSum = findSum\n",
        "\n",
        "# Invoke myFindSum with the numbers 6, 7, and 2\n",
        "result = myFindSum(6, 7, 2)\n",
        "print(f\"The sum is: {result}\")\n",
        "\n",
        "\n",
        "### END CODE"
      ]
    },
    {
      "cell_type": "markdown",
      "metadata": {
        "id": "-XhofkK9y9G9"
      },
      "source": [
        "#### Exercise 10 - Using default arguments\n",
        "\n",
        "Write a program to create a function show_employee() using the following conditions.\n",
        "\n",
        "It should accept the employee’s name and salary and display both.\n",
        "If the salary is missing in the function call then assign default value 8000 to salary\n",
        "\n",
        "Use a while loop to continue asking the user till the user decides to end.\n",
        "\n",
        "**Example**\n",
        "```\n",
        "Enter employee's name: John\n",
        "Enter salary: 10000\n",
        "\n",
        "Employee name is John and salary is 10000\n",
        "\n",
        "Do you want to continue(y/n): y\n",
        "\n",
        "Enter employee's name: Bob\n",
        "Enter salary:\n",
        "\n",
        "Employee's name is Bob and salary is 8000\n",
        "\n",
        "Do you want to continue(y/n): n\n",
        "Program ended\n",
        "```"
      ]
    },
    {
      "cell_type": "code",
      "execution_count": null,
      "metadata": {
        "id": "Xzqa5re7y9G9",
        "colab": {
          "base_uri": "https://localhost:8080/"
        },
        "outputId": "c789d42d-1b54-4a11-c9d9-23cc5d4fd59e"
      },
      "outputs": [
        {
          "output_type": "stream",
          "name": "stdout",
          "text": [
            "Enter employee's name: Rahul\n",
            "Enter salary (leave blank for default): 1000\n",
            "Employee's name is Rahul and salary is 1000.0\n",
            "Do you want to continue (y/n): y\n",
            "Enter employee's name: Hari\n",
            "Enter salary (leave blank for default): \n",
            "Employee's name is Hari and salary is 8000\n",
            "Do you want to continue (y/n): y\n",
            "Enter employee's name: Sushma\n",
            "Enter salary (leave blank for default): 2000\n",
            "Employee's name is Sushma and salary is 2000.0\n",
            "Do you want to continue (y/n): n\n",
            "Program ended\n"
          ]
        }
      ],
      "source": [
        "### YOUR CODE GOES BELOW\n",
        "\n",
        "# Display the employee details\n",
        "def show_employee(name, salary=8000):\n",
        "    print(\"Employee's name is\", name, \"and salary is\", salary)\n",
        "\n",
        "# main method\n",
        "def main():\n",
        "    while True:\n",
        "        name = input(\"Enter employee's name: \")\n",
        "        salary_input = input(\"Enter salary (leave blank for default): \")\n",
        "\n",
        "        if salary_input.strip():  # Check if salary is provided\n",
        "            salary = float(salary_input)\n",
        "            show_employee(name, salary)\n",
        "        else:\n",
        "            show_employee(name)  # Default salary will be used\n",
        "\n",
        "        choice = input(\"Do you want to continue (y/n): \")\n",
        "        if choice.lower() != 'y':\n",
        "            print(\"Program ended\")\n",
        "            break\n",
        "\n",
        "# call the main method\n",
        "main()\n",
        "\n",
        "\n",
        "### END CODE"
      ]
    },
    {
      "cell_type": "markdown",
      "metadata": {
        "id": "0d9dqU2zy9G9"
      },
      "source": [
        "## OPTIONAL EXERCISES\n",
        "\n",
        "Below is a set of optional exercises. These will not be graded but the solutions will be posted. I would strongly encourage you to try these out if you are done with the mandatory homework exercises to improve your understanding of python."
      ]
    },
    {
      "cell_type": "markdown",
      "metadata": {
        "id": "Mr-LctwIy9G-"
      },
      "source": [
        "#### Exercise 11\n",
        "\n",
        "Write a Python function that accepts a string and calculate the number of upper case letters and lower case letters.\n",
        "\n",
        "Make sure you invoke this function in your main program and display the result"
      ]
    },
    {
      "cell_type": "code",
      "execution_count": null,
      "metadata": {
        "id": "rD6aO06zy9G-",
        "colab": {
          "base_uri": "https://localhost:8080/"
        },
        "outputId": "0701f3bb-78f2-48c8-ba54-57b7e50ea078"
      },
      "outputs": [
        {
          "output_type": "stream",
          "name": "stdout",
          "text": [
            "No. of Upper case characters: 4\n",
            "No. of Lower case characters: 33\n"
          ]
        }
      ],
      "source": [
        "### YOUR CODE GOES BELOW\n",
        "\n",
        "def count_upper_lower_separate(s):\n",
        "    \"\"\"\n",
        "    Counts the number of uppercase and lowercase characters in the given string using separate strings.\n",
        "\n",
        "    Args:\n",
        "        s (str): Input string.\n",
        "\n",
        "    Returns:\n",
        "        tuple: (count_upper, count_lower) where count_upper is the number of uppercase characters\n",
        "                and count_lower is the number of lowercase characters.\n",
        "    \"\"\"\n",
        "    upper_chars = \"ABCDEFGHIJKLMNOPQRSTUVWXYZ\"\n",
        "    lower_chars = \"abcdefghijklmnopqrstuvwxyz\"\n",
        "    count_upper = sum(1 for char in s if char in upper_chars)\n",
        "    count_lower = sum(1 for char in s if char in lower_chars)\n",
        "    return count_upper, count_lower\n",
        "\n",
        "# Example usage:\n",
        "input_string = \"Hello Mr. Rogers, how are you this fine Tuesday?\"\n",
        "upper_count, lower_count = count_upper_lower_separate(input_string)\n",
        "print(f\"No. of Upper case characters: {upper_count}\")\n",
        "print(f\"No. of Lower case characters: {lower_count}\")\n",
        "\n",
        "\n",
        "### END CODE"
      ]
    },
    {
      "cell_type": "markdown",
      "metadata": {
        "id": "NLacxdm7y9G-"
      },
      "source": [
        "#### Exercise 12\n",
        "\n",
        " Write a Python function to print the even numbers from a given list..\n",
        "\n",
        " Make sure you invoke this function in your main program and display the result"
      ]
    },
    {
      "cell_type": "code",
      "execution_count": null,
      "metadata": {
        "id": "ZrUq21tCy9G-",
        "colab": {
          "base_uri": "https://localhost:8080/"
        },
        "outputId": "66b60062-591c-4a36-d860-732286caa647"
      },
      "outputs": [
        {
          "output_type": "stream",
          "name": "stdout",
          "text": [
            "Enter a list of numbers separated by commas: 1,2,3,4,5,6,7,8,9\n",
            "Even numbers in the list: [2, 4, 6, 8]\n",
            "Do you want to continue (y/n): n\n",
            "Program ended\n"
          ]
        }
      ],
      "source": [
        "### YOUR CODE GOES BELOW\n",
        "\n",
        "# This function prints the even numbers in the list\n",
        "def print_even_numbers(number_list):\n",
        "\n",
        "    even_numbers = []\n",
        "    for number in number_list:\n",
        "        if number % 2 == 0:\n",
        "            even_numbers.append(number)\n",
        "\n",
        "    print(\"Even numbers in the list:\", even_numbers)\n",
        "\n",
        "def main():\n",
        "    while True:\n",
        "        try:\n",
        "            num_input = input(\"Enter a list of numbers separated by commas: \")\n",
        "            numbers = [int(x) for x in num_input.split(\",\")]\n",
        "\n",
        "            # Call the print_even_numbers function\n",
        "            print_even_numbers(numbers)\n",
        "\n",
        "            # Ask user if they want to continue\n",
        "            choice = input(\"Do you want to continue (y/n): \").lower()\n",
        "            if choice != 'y':\n",
        "                print(\"Program ended\")\n",
        "                break\n",
        "        except ValueError:\n",
        "            print(\"Invalid input. Please enter valid numbers separated by commas.\")\n",
        "\n",
        "# Invoke the main function\n",
        "if __name__ == \"__main__\":\n",
        "    main()\n",
        "\n",
        "\n",
        "### END CODE"
      ]
    },
    {
      "cell_type": "markdown",
      "metadata": {
        "id": "5Yv2lplxy9G-"
      },
      "source": [
        "#### Exercise 13\n",
        "\n",
        "Write a Python function that checks whether a passed string is palindrome or not.\n",
        "\n",
        "Make sure you invoke this function in your main program and display the result"
      ]
    },
    {
      "cell_type": "code",
      "execution_count": null,
      "metadata": {
        "id": "d8Vya1rNy9G-"
      },
      "outputs": [],
      "source": [
        "### YOUR CODE GOES BELOW\n",
        "\n",
        "\n",
        "### END CODE"
      ]
    },
    {
      "cell_type": "markdown",
      "metadata": {
        "collapsed": true,
        "id": "wT16lsETy9G-"
      },
      "source": [
        "#### Exercise 14\n",
        "\n",
        "Write a recursive Python program to compute the fibonnaci number for a given index.\n",
        "\n",
        "This is what a fibonacci series is https://www.mathsisfun.com/numbers/fibonacci-sequence.html\n",
        "\n",
        "Make sure you invoke this function in your main program and display the result"
      ]
    },
    {
      "cell_type": "code",
      "execution_count": null,
      "metadata": {
        "id": "7b5ERDdXy9G-",
        "colab": {
          "base_uri": "https://localhost:8080/"
        },
        "outputId": "277679c8-ad7a-4766-e07b-a716f6cbebe5"
      },
      "outputs": [
        {
          "output_type": "stream",
          "name": "stdout",
          "text": [
            "Enter the index (N >= 0) to compute the Fibonacci number: 10\n",
            "The Fibonacci number at index 10 is: 55\n"
          ]
        }
      ],
      "source": [
        "### YOUR CODE GOES BELOW\n",
        "\n",
        "def fibonacci(n):\n",
        "\n",
        "    if n < 2:\n",
        "        return n\n",
        "    else:\n",
        "        return fibonacci(n - 1) + fibonacci(n - 2)\n",
        "\n",
        "def main():\n",
        "    try:\n",
        "        index = int(input(\"Enter the index (N >= 0) to compute the Fibonacci number: \"))\n",
        "        if index < 0:\n",
        "            print(\"Please enter a non-negative integer.\")\n",
        "        else:\n",
        "            result = fibonacci(index)\n",
        "            print(f\"The Fibonacci number at index {index} is: {result}\")\n",
        "    except ValueError:\n",
        "        print(\"Invalid input. Please enter a valid non-negative integer.\")\n",
        "\n",
        "if __name__ == \"__main__\":\n",
        "    main()\n",
        "\n",
        "\n",
        "### END CODE"
      ]
    },
    {
      "cell_type": "markdown",
      "metadata": {
        "id": "2WN9rgG9y9G-"
      },
      "source": [
        "#### Exercise 15\n",
        "\n",
        "Write a python program to autocorrect user input using the edit distance method.\n",
        "\n",
        "Make sure you invoke this function in your main program and display the result"
      ]
    },
    {
      "cell_type": "code",
      "execution_count": null,
      "metadata": {
        "id": "VRW1Dx-qy9G-"
      },
      "outputs": [],
      "source": [
        "### YOUR CODE GOES BELOW\n",
        "\n",
        "\n",
        "### END CODE"
      ]
    },
    {
      "cell_type": "code",
      "execution_count": null,
      "metadata": {
        "id": "QBFoJLx0y9G-"
      },
      "outputs": [],
      "source": []
    }
  ],
  "metadata": {
    "kernelspec": {
      "display_name": "Python 3",
      "language": "python",
      "name": "python3"
    },
    "language_info": {
      "codemirror_mode": {
        "name": "ipython",
        "version": 3
      },
      "file_extension": ".py",
      "mimetype": "text/x-python",
      "name": "python",
      "nbconvert_exporter": "python",
      "pygments_lexer": "ipython3",
      "version": "3.8.5"
    },
    "colab": {
      "provenance": []
    }
  },
  "nbformat": 4,
  "nbformat_minor": 0
}