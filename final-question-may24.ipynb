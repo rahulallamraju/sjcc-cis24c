{
 "cells": [
  {
   "cell_type": "code",
   "execution_count": 1,
   "id": "c716060c-7148-42fc-bafb-aa0dbdc64a5a",
   "metadata": {},
   "outputs": [],
   "source": [
    "#Final Programming Question - Due Date May 24th"
   ]
  },
  {
   "cell_type": "code",
   "execution_count": 2,
   "id": "5dcfe2ab-bbf5-4888-b4ee-cf055586e2e4",
   "metadata": {},
   "outputs": [
    {
     "name": "stdout",
     "output_type": "stream",
     "text": [
      "Total number of words: 73\n",
      "10 most common words:\n",
      "and 5\n",
      "python 4\n",
      "is 4\n",
      "a 3\n",
      "it 3\n",
      "programming 2\n",
      "used 2\n",
      "for 2\n",
      "developers 2\n",
      "its 2\n",
      "Longest word: intelligence\n"
     ]
    }
   ],
   "source": [
    "# Import the necessary modules\n",
    "import re\n",
    "from collections import Counter\n",
    "import heapq\n",
    "\n",
    "# Define a function to read the file\n",
    "def read_file(filename):\n",
    "    # Open the file in read mode\n",
    "    with open(filename, 'r') as file:\n",
    "        # Read the entire text\n",
    "        text = file.read()\n",
    "    # Return the text\n",
    "    return text\n",
    "\n",
    "# Define a function to process the text\n",
    "def process_text(text):\n",
    "    # Convert the text to lower case and split it into words\n",
    "    # using regular expression to match word boundaries\n",
    "    words = re.findall(r'\\b\\w+\\b', text.lower())\n",
    "    \n",
    "    # Calculate the frequency of each word using Counter\n",
    "    word_freq = Counter(words)\n",
    "    \n",
    "    # Find the 10 most common words using heapq.nlargest\n",
    "    most_common = heapq.nlargest(10, word_freq, key=word_freq.get)\n",
    "    \n",
    "    # Find the longest word by finding the maximum length of words\n",
    "    longest_word = max(word_freq, key=len)\n",
    "    \n",
    "    # Return the word frequency, most common words, and longest word\n",
    "    return word_freq, most_common, longest_word\n",
    "\n",
    "# Define a function to print the results\n",
    "def print_results(word_freq, most_common, longest_word):\n",
    "    # Print the total number of words\n",
    "    print(\"Total number of words:\", sum(word_freq.values()))\n",
    "    # Print the 10 most common words\n",
    "    print(\"10 most common words:\")\n",
    "    for word in most_common:\n",
    "        print(word, word_freq[word])\n",
    "    # Print the longest word\n",
    "    print(\"Longest word:\", longest_word)\n",
    "\n",
    "# Define the main function\n",
    "def main():\n",
    "    # Specify the filename\n",
    "    filename = 'final_data.txt'\n",
    "    # Read the file\n",
    "    text = read_file(filename)\n",
    "    # Process the text\n",
    "    word_freq, most_common, longest_word = process_text(text)\n",
    "    # Print the results\n",
    "    print_results(word_freq, most_common, longest_word)\n",
    "\n",
    "# If this script is run as the main program, call the main function\n",
    "if __name__ == '__main__':\n",
    "    main()"
   ]
  },
  {
   "cell_type": "code",
   "execution_count": null,
   "id": "580e16ef-53d7-487a-b2b5-45fe96920e00",
   "metadata": {},
   "outputs": [],
   "source": []
  }
 ],
 "metadata": {
  "kernelspec": {
   "display_name": "Python 3 (ipykernel)",
   "language": "python",
   "name": "python3"
  },
  "language_info": {
   "codemirror_mode": {
    "name": "ipython",
    "version": 3
   },
   "file_extension": ".py",
   "mimetype": "text/x-python",
   "name": "python",
   "nbconvert_exporter": "python",
   "pygments_lexer": "ipython3",
   "version": "3.8.18"
  }
 },
 "nbformat": 4,
 "nbformat_minor": 5
}
