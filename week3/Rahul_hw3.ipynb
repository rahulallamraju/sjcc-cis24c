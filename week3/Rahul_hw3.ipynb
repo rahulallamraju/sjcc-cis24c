{
  "cells": [
    {
      "cell_type": "markdown",
      "metadata": {
        "id": "SoWEDNKJFPjL"
      },
      "source": [
        "\n",
        "\n",
        "> Indented block\n",
        "\n",
        "\n",
        "# CIS024C -  Fall 2024 - HW3\n",
        "\n",
        "## Homework 3\n",
        "\n",
        "Homework 3 covers exercises in String Manipulation.\n",
        "\n",
        "For a list of features supported in the string module, please refer to this URL https://docs.python.org/3/library/string.html\n",
        "\n",
        "You will need to download this notebook and use this as a starting point for your homework. You will just need to fill in the content of each code-block (cell) and execute. Once you have completed all the exercises, you will need to save and upload this through Canvas\n",
        "\n",
        "Note also the exercises build on top of one another so you might be able to do the next exercise if you have not completed the previous exercise.\n",
        "\n",
        "**Please refer back to hw1 and slack for instructions on how to setup your computer for developing using Python.**"
      ]
    },
    {
      "cell_type": "markdown",
      "metadata": {
        "id": "5uDowqSiFPjR"
      },
      "source": [
        "### Helpful Jupyter Commands\n",
        "\n",
        "Below are some useful commands to know when using Jupyter\n",
        "\n",
        "1. You can add a new cell by clicking on the \"+\" icon on top.\n",
        "2. You can delete a cell by selecting that cell and clicking on the \"scissors\" icon on top.\n",
        "3. You can execute a cell by either pressing shift+enter or selecting the \"play\" button on top.\n",
        "4. You can create a new file in Jupyter via the File menu->New Notebook option. Make sure to select Python 2 when creating your notebook.\n",
        "5. Also, for your code blocks make sure that Code is selected instead of another option like Markdown.\n",
        "6. Use the Enter key to go to the next line in a cell to enter the next statement.\n",
        "7. You can clear results by clicking on the Cell menu item and selecting Current Output->Clear or All Output->Clear depending on whether you are trying to just clear the output for one cell or for all cells.\n",
        "8. In case your program has crashed for some reason (infinite loop, for example), you can restart your Python session by select Kernel in the menu and selecting Restart.\n"
      ]
    },
    {
      "cell_type": "markdown",
      "metadata": {
        "id": "_LFGHq_mFPjT"
      },
      "source": [
        "#### Check Python Version"
      ]
    },
    {
      "cell_type": "code",
      "execution_count": null,
      "metadata": {
        "id": "O_8L5zzKFPjT",
        "outputId": "af0975e0-e353-47d0-f93c-f8c04098ea5f"
      },
      "outputs": [
        {
          "name": "stdout",
          "output_type": "stream",
          "text": [
            "Python 3.8.5\r\n"
          ]
        }
      ],
      "source": [
        "!python --version"
      ]
    },
    {
      "cell_type": "markdown",
      "metadata": {
        "id": "ia0tPOh2FPjX"
      },
      "source": [
        "#### Exercise 1 -  Using logical operators - and, or and not\n",
        "\n",
        "Write a program that takes in a number from the user, and determines if the number lies between 100 and 200. Note that you can only use a single **if** statement to do this problem. You will have to use one of the logical operators **and**, **or**, or **not** to do this exercise.\n",
        "\n",
        "If the number lies between 100 and 200, use the **print** statement to display \"The number lies between 100 and 200\", else display \"The number does not lie between 100 and 200\"\n"
      ]
    },
    {
      "cell_type": "code",
      "execution_count": null,
      "metadata": {
        "id": "Z2VuThTOFPjY",
        "colab": {
          "base_uri": "https://localhost:8080/"
        },
        "outputId": "2b952f6d-869d-4116-f1ea-d44590e82ee3"
      },
      "outputs": [
        {
          "output_type": "stream",
          "name": "stdout",
          "text": [
            "Enter a number: 202\n",
            "The number does not lie between 100 and 200\n"
          ]
        }
      ],
      "source": [
        "### YOUR CODE GOES BELOW\n",
        "user_number = int(input(\"Enter a number: \"))\n",
        "\n",
        "if 100 <= user_number <= 200:\n",
        "  print(\"The number lies between 100 and 200\")\n",
        "else:\n",
        "  print(\"The number does not lie between 100 and 200\")\n",
        "\n",
        "\n",
        "### END CODE"
      ]
    },
    {
      "cell_type": "markdown",
      "metadata": {
        "id": "VB1FfULoFPjZ"
      },
      "source": [
        "#### Exercise 2 -  Using logical operators - and, or and not\n",
        "\n",
        "Write a program that takes in a number form the user. Use the **not** operator to validate if the number is not equal to 10.\n",
        "\n",
        "If the number is not equal to 10, use the **print** statement to display \"The number is not equal to 10\", else display \"The number is equal to 10\""
      ]
    },
    {
      "cell_type": "code",
      "execution_count": null,
      "metadata": {
        "id": "BvQdkGqhFPja",
        "colab": {
          "base_uri": "https://localhost:8080/"
        },
        "outputId": "f8955a89-b449-4845-9a72-bc19fc713c88"
      },
      "outputs": [
        {
          "output_type": "stream",
          "name": "stdout",
          "text": [
            "Enter a number: 10\n",
            "The number is equal to 10\n"
          ]
        }
      ],
      "source": [
        "### YOUR CODE GOES BELOW\n",
        "\n",
        "user_number = int(input(\"Enter a number: \"))\n",
        "\n",
        "if not user_number == 10:\n",
        "  print(\"The number is not equal to 10\")\n",
        "else:\n",
        "  print(\"The number is equal to 10\")\n",
        "\n",
        "### END CODE"
      ]
    },
    {
      "cell_type": "markdown",
      "metadata": {
        "id": "7JUVZt4sFPjc"
      },
      "source": [
        "#### Exercise 3 -  Using logical operators - and, or and not\n",
        "\n",
        "Write a program that takes in 2 exam scores between 0 and 100 from the user. Use the **or** operator to determine if either of the scores is greater than 80.\n",
        "\n",
        "If either of the scores are greater than 80, use the **print** statement to display \"One of the scores is greater than 80\", else display \"None of the scores are greater than 80\""
      ]
    },
    {
      "cell_type": "code",
      "execution_count": null,
      "metadata": {
        "id": "kI9Uq3TqFPjd",
        "colab": {
          "base_uri": "https://localhost:8080/"
        },
        "outputId": "06e4690f-865a-49c2-990b-02f5129bcf12"
      },
      "outputs": [
        {
          "output_type": "stream",
          "name": "stdout",
          "text": [
            "Enter the first exam score (0-100): 56\n",
            "Enter the second exam score (0-100): 91\n",
            "One of the scores is greater than 80\n"
          ]
        }
      ],
      "source": [
        "### YOUR CODE GOES BELOW\n",
        "\n",
        "score1 = int(input(\"Enter the first exam score (0-100): \"))\n",
        "score2 = int(input(\"Enter the second exam score (0-100): \"))\n",
        "\n",
        "if score1 > 80 or score2 > 80:\n",
        "  print(\"One of the scores is greater than 80\")\n",
        "else:\n",
        "  print(\"None of the scores are greater than 80\")\n",
        "\n",
        "### END CODE"
      ]
    },
    {
      "cell_type": "markdown",
      "metadata": {
        "id": "NbDcdLvQFPjd"
      },
      "source": [
        "#### Exercise 4 -  Using logical operators - and, or and not\n",
        "\n",
        "Write a program with a single **if** statement that asks the user to enter a number. Determine if the number is divisible by 2 or 7. If the number is divisible by 2 or 7, display \"The number is divisible by 2 or 7\", otherwise display \"The number is not divisible by 2 or 7\"."
      ]
    },
    {
      "cell_type": "code",
      "execution_count": null,
      "metadata": {
        "id": "jf0o9XApFPje",
        "colab": {
          "base_uri": "https://localhost:8080/"
        },
        "outputId": "5d5a3493-ca64-430f-bfa4-b233b3c29186"
      },
      "outputs": [
        {
          "output_type": "stream",
          "name": "stdout",
          "text": [
            "Enter a number: 13\n",
            "The number is NOT divisible by 2 or 7\n"
          ]
        }
      ],
      "source": [
        "### YOUR CODE GOES BELOW\n",
        "\n",
        "user_number = int(input(\"Enter a number: \"))\n",
        "\n",
        "if user_number % 2 == 0 or user_number % 7 == 0:\n",
        "  print(\"The number is divisible by 2 or 7\")\n",
        "else:\n",
        "  print(\"The number is NOT divisible by 2 or 7\")\n",
        "\n",
        "### END CODE"
      ]
    },
    {
      "cell_type": "markdown",
      "metadata": {
        "id": "_0l1SJh8FPjf"
      },
      "source": [
        "Exercise 5 -  Using logical operators - and, or and not\n",
        "\n",
        "What is the result of the below python statements\n",
        "```\n",
        "a = 2\n",
        "b = 5\n",
        "print( a == 2 and (not a == 5) )\n",
        "```\n",
        "\n",
        "Your answer must be in the form of True or False"
      ]
    },
    {
      "cell_type": "code",
      "execution_count": null,
      "metadata": {
        "id": "F8ej_W_fFPjf",
        "colab": {
          "base_uri": "https://localhost:8080/"
        },
        "outputId": "d6e43b29-8ad8-44a2-b449-1d849bb2a738"
      },
      "outputs": [
        {
          "output_type": "stream",
          "name": "stdout",
          "text": [
            "True\n"
          ]
        }
      ],
      "source": [
        "### YOUR CODE GOES BELOW\n",
        "a = 2\n",
        "b = 5\n",
        "print( a == 2 and (not a == 5) )\n",
        "\n",
        "### END CODE"
      ]
    },
    {
      "cell_type": "markdown",
      "metadata": {
        "id": "fLgeWbxSFPjg"
      },
      "source": [
        "#### Exercise 6 - Find the length of a given string\n",
        "\n",
        "Ask the user to enter their first and last name as two separate variables **firstName** and **lastName**. Compute the number of characters in each variable. Display the total length of the first and last name.\n",
        "\n",
        "Note that you will need to use the ** len ** function to obtain the number of characters in the string."
      ]
    },
    {
      "cell_type": "code",
      "execution_count": null,
      "metadata": {
        "id": "0q4V1XMBFPjh",
        "colab": {
          "base_uri": "https://localhost:8080/"
        },
        "outputId": "0ca8d2a7-e702-45e9-d0c3-7f31211faecb"
      },
      "outputs": [
        {
          "output_type": "stream",
          "name": "stdout",
          "text": [
            "Enter your first name: rahul\n",
            "Enter your last name: allamraju\n",
            "The length of first and last names is:  14\n"
          ]
        }
      ],
      "source": [
        "### YOUR CODE GOES BELOW\n",
        "\n",
        "firstName = input(\"Enter your first name: \")\n",
        "lastName = input(\"Enter your last name: \")\n",
        "\n",
        "total_length = len(firstName) + len(lastName)\n",
        "\n",
        "print(\"The length of your first and last name is: \", total_length)\n",
        "\n",
        "### END CODE"
      ]
    },
    {
      "cell_type": "markdown",
      "metadata": {
        "id": "fYBsWWdmFPji"
      },
      "source": [
        "Exercise 7 - Reversing a String\n",
        "\n",
        "Use a while loop to ask the user to enter the name of their favorite movie star. Each iteration of the while loop must use the input statement to get the name of the move star. In each iteration, determine the reverse of the movie star's name and use the **print** function to display the reverse.\n",
        "\n",
        "If the user type 'end', terminate the loop and display the message 'Program ended'\n",
        "\n",
        "**Example:**\n",
        "\n",
        "```\n",
        "\n",
        "What is the name of your favorite movie star (type end to exit): Harrison Ford\n",
        "The reverse is droF nosirraH\n",
        "\n",
        "What is the name of your favorite movie star(type end to exit): Dustin Hoffman\n",
        "The reverse is namffoH nitsuD\n",
        "\n",
        "What is the name of your favorite movie star(type end to exit): end\n",
        "Program Ended\n",
        "```\n",
        "\n",
        "\n"
      ]
    },
    {
      "cell_type": "code",
      "execution_count": null,
      "metadata": {
        "id": "ZgXjH8rjFPji",
        "colab": {
          "base_uri": "https://localhost:8080/"
        },
        "outputId": "d9d6ce8c-5d44-4126-fabd-cdf9f721356f"
      },
      "outputs": [
        {
          "output_type": "stream",
          "name": "stdout",
          "text": [
            "Enter the name of your favorite movie star (type end to exit) : christian bale\n",
            "Reversed name is:  elab naitsirhc\n",
            "Enter the name of your favorite movie star (type end to exit) : robert downey jr\n",
            "Reversed name is:  rj yenwod trebor\n",
            "Enter the name of your favorite movie star (type end to exit) : end\n",
            "Program Ended\n"
          ]
        }
      ],
      "source": [
        "### YOUR CODE GOES BELOW\n",
        "\n",
        "while True:\n",
        "  fav_name = input(\"Enter the name of your favorite movie star (type end to exit) : \")\n",
        "  if fav_name == \"end\":\n",
        "    print(\"Program Ended\")\n",
        "    break\n",
        "\n",
        "  print(\"Reversed name is: \", fav_name[::-1])\n",
        "\n",
        "\n",
        "### END CODE"
      ]
    },
    {
      "cell_type": "markdown",
      "metadata": {
        "id": "XrvUiPW2FPjj"
      },
      "source": [
        "#### Exercise 8 - Converting an input string to lower case and looking for a match\n",
        "\n",
        "Use a **while** loop to ask the user to enter a **line of text** and a **search string**.\n",
        "\n",
        "Convert the line of text that the user entered to lower case. Search the resulting text for the search string. Print \"Search String Found\" if the search string was found, otherwise, print \"Search String not found\"\n",
        "\n",
        "Ask the user if the user wants to continue. If no, terminate the loop and display the message 'Program ended'\n",
        "\n",
        "Use the string **find** function to find the text\n",
        "\n",
        "https://www.programiz.com/python-programming/methods/string/find\n",
        "\n",
        "**Example**\n",
        "\n",
        "```\n",
        "Enter a line of text: Jack and Jill went up the hill\n",
        "Enter a search term: and\n",
        "Search term found\n",
        "\n",
        "Do you want to continue (y/n): y\n",
        "\n",
        "Enter a line of text: Mary had a little lamb\n",
        "Enter a search term: Jack\n",
        "Search term not found\n",
        "\n",
        "Do you want to continue (y/n): n\n",
        "Program ended\n"
      ]
    },
    {
      "cell_type": "code",
      "execution_count": null,
      "metadata": {
        "id": "PyIZh4B0FPjj",
        "colab": {
          "base_uri": "https://localhost:8080/"
        },
        "outputId": "af4105fa-563d-4b7b-8ee0-19dc31a17163"
      },
      "outputs": [
        {
          "output_type": "stream",
          "name": "stdout",
          "text": [
            "Enter a line of text: jack and jill\n",
            "Enter a search term: and\n",
            "Search term found\n",
            "Do you want to continue? (y/n)y\n",
            "Enter a line of text: old mcdonald\n",
            "Enter a search term: old\n",
            "Search term found\n",
            "Do you want to continue? (y/n)n\n",
            "Program ended\n"
          ]
        }
      ],
      "source": [
        "### YOUR CODE GOES BELOW\n",
        "while True:\n",
        "  # get user input for text and search string\n",
        "  user_input = input(\"Enter a line of text: \").lower()\n",
        "  search_term = input(\"Enter a search term: \").lower()\n",
        "\n",
        "  # search for he string used in find() in the text string\n",
        "  if user_input.find(search_term) != -1 :\n",
        "    print(\"Search term found\")\n",
        "  else:\n",
        "    print(\"Search term not found\")\n",
        "\n",
        "  # asking user to continue\n",
        "  user_continue = input(\"Do you want to continue? (y/n)\")\n",
        "\n",
        "  if user_continue.lower() == 'n':\n",
        "    print(\"Program ended\")\n",
        "    break\n",
        "\n",
        "\n",
        "### END CODE"
      ]
    },
    {
      "cell_type": "markdown",
      "metadata": {
        "id": "-fwbZ-1lFPjj"
      },
      "source": [
        "#### Exercise 9 - Miscellaneous string functions"
      ]
    },
    {
      "cell_type": "markdown",
      "metadata": {
        "id": "DOuiM6r8FPjj"
      },
      "source": [
        "Use the **input** function to get the name of a country\n",
        "\n",
        "Perform the following operations and display the result\n",
        "\n",
        "* Use the **lower** function Convert the country to all lower case characters and display the result\n",
        "* Use the **upper** function to convert the country to all upper case characters and display the result\n",
        "* Use the **capitalize** function Convert the counry to capitalized form and display the result\n",
        "* Use the **replace** function to replace the first character with the character 'I'"
      ]
    },
    {
      "cell_type": "code",
      "execution_count": null,
      "metadata": {
        "id": "6J86QsZnFPjj",
        "colab": {
          "base_uri": "https://localhost:8080/"
        },
        "outputId": "e02c8a15-1a7d-4227-b1a1-4f6af4292521"
      },
      "outputs": [
        {
          "output_type": "stream",
          "name": "stdout",
          "text": [
            "Enter the name of a country: America\n",
            "america\n",
            "AMERICA\n",
            "America\n",
            "Imerica\n"
          ]
        }
      ],
      "source": [
        "### YOUR CODE GOES BELOW\n",
        "country = input(\"Enter the name of a country: \")\n",
        "\n",
        "lower_case = country.lower()\n",
        "print(lower_case)\n",
        "\n",
        "upper_case = country.upper()\n",
        "print(upper_case)\n",
        "\n",
        "capitalized = country.capitalize()\n",
        "print(capitalized)\n",
        "\n",
        "replaced = country.replace(country[0], \"I\")\n",
        "print(replaced)\n",
        "\n",
        "### END CODE"
      ]
    },
    {
      "cell_type": "markdown",
      "metadata": {
        "id": "m7xpNbOPFPjj"
      },
      "source": [
        "#### Exercise 10 - Parsing a comma separated set of values\n",
        "\n",
        "Use a **while** loop to ask the user to enter a list of items for a grocery list\n",
        "\n",
        "Ensure that each item in the grocery list is separated by a comma. Use the **split** command to extract each token (item) in the grocery list. Print the last item in the list.\n",
        "\n",
        "Ask the user if the user wants to continue. If no, terminate the loop and display the message 'Program ended'\n",
        "\n",
        "**Example**\n",
        "\n",
        "```\n",
        "Enter the grocery list: cookies, cream, sugar\n",
        "Last item: sugar\n",
        "\n",
        "Do you want to continue (y/n): y\n",
        "\n",
        "Enter a line of text: veggies, yogurt\n",
        "Last item: yogurt\n",
        "\n",
        "Do you want to continue (y/n): n\n",
        "Program ended\n"
      ]
    },
    {
      "cell_type": "code",
      "execution_count": null,
      "metadata": {
        "id": "tG4lLfARFPjj",
        "colab": {
          "base_uri": "https://localhost:8080/"
        },
        "outputId": "e37dde59-dac9-4ebc-8f9c-28790b773f17"
      },
      "outputs": [
        {
          "output_type": "stream",
          "name": "stdout",
          "text": [
            "Enter a comma-separated list of grocery items: eggs,  apples,  bananas,   butter \n",
            "The last item in your list is: butter\n",
            "Do you want to continue? (y/n): n\n",
            "Program ended\n"
          ]
        }
      ],
      "source": [
        "### YOUR CODE GOES BELOW\n",
        "while True:\n",
        "  grocery_list = input(\"Enter a comma-separated list of grocery items: \")\n",
        "\n",
        "  items = grocery_list.split(',')\n",
        "\n",
        "  clean_items = [] # initializing an empty list to store items without leading white spaces\n",
        "\n",
        "  for item in items:\n",
        "    clean_items.append(item.strip())\n",
        "\n",
        "  # get the last item in the list\n",
        "  last_item = clean_items[-1]\n",
        "  print(\"The last item in your list is:\", last_item)\n",
        "\n",
        "  # asking user to continue\n",
        "  user_continue = input(\"Do you want to continue? (y/n): \")\n",
        "\n",
        "  if user_continue.lower() == 'n':\n",
        "    print(\"Program ended\")\n",
        "    break\n",
        "\n",
        "### END CODE"
      ]
    },
    {
      "cell_type": "markdown",
      "metadata": {
        "id": "bQmBLE7gFPjj"
      },
      "source": [
        "## OPTIONAL EXERCISES\n",
        "\n",
        "Below is a set of optional exercises. These will not be graded but the solutions will be posted. I would strongly encourage you to try these out if you are done with the mandatory homework exercises to improve your understanding of python."
      ]
    },
    {
      "cell_type": "markdown",
      "metadata": {
        "id": "uMSlaFR2FPjk"
      },
      "source": [
        "#### Exercise 11\n",
        "\n",
        "Ask the user to type in a grocery list and a search item. Ensure that each item in the grocery list is separated by a comma and an arbitrary number of spaces. Use the **split** command to search for the search item in this list.\n",
        "\n",
        "For example, let us say that the user enters \"\"milk ,  bananas,  sugar,  eggs,  cheese  \" (notice the arbitrary spaces between items) and the search term is \"eggs\". You will need to look for \"eggs\" in the grocery list and if found, print the message \"Item found\", otherwise, print \"Item not found\""
      ]
    },
    {
      "cell_type": "code",
      "execution_count": null,
      "metadata": {
        "id": "rzkH0TigFPjk"
      },
      "outputs": [],
      "source": [
        "### YOUR CODE GOES BELOW\n",
        "\n",
        "\n",
        "### END CODE"
      ]
    },
    {
      "cell_type": "markdown",
      "metadata": {
        "id": "1H_yr3w2FPjk"
      },
      "source": [
        "#### Exercise 12\n",
        "\n",
        "Write a python program that takes in a list of words from the user and prints the shortest word in the list. If two words are equal short, just pick the first one that you see.\n"
      ]
    },
    {
      "cell_type": "code",
      "execution_count": null,
      "metadata": {
        "id": "kqdvaSHwFPjk"
      },
      "outputs": [],
      "source": [
        "### YOUR CODE GOES BELOW\n",
        "\n",
        "\n",
        "### END CODE"
      ]
    },
    {
      "cell_type": "markdown",
      "metadata": {
        "id": "PygZ3TGCFPjk"
      },
      "source": [
        "#### Exercise 13\n",
        "\n",
        "Accept a line of text from the user with some repeating words. Ask the user to enter a search term (one of the repeating words). Count the number of times the search term repeats in the text.\n",
        "\n",
        "For example, if the sentence is - \"She sells sea shells on the sea shore\" and the search term is \"sea\", then the program should print the result 2, indicating that two occurrences of the word \"sea\" were found in the text\n"
      ]
    },
    {
      "cell_type": "code",
      "execution_count": null,
      "metadata": {
        "id": "gjSGBcnQFPjk"
      },
      "outputs": [],
      "source": [
        "### YOUR CODE GOES BELOW\n",
        "\n",
        "\n",
        "### END CODE"
      ]
    },
    {
      "cell_type": "markdown",
      "metadata": {
        "id": "s0Io_h4xFPjl"
      },
      "source": [
        "#### Exercise 14\n",
        "\n",
        "Write a python program to get text from the user. Create a new text from the original text with the word \" stranger \" inserted in the middle of the text. Print the resulting new text."
      ]
    },
    {
      "cell_type": "code",
      "execution_count": null,
      "metadata": {
        "id": "errblYppFPjl"
      },
      "outputs": [],
      "source": [
        "### YOUR CODE GOES BELOW\n",
        "\n",
        "\n",
        "### END CODE"
      ]
    },
    {
      "cell_type": "markdown",
      "metadata": {
        "id": "doOqZEtuFPjl"
      },
      "source": [
        "#### Exercise 15\n",
        "\n",
        "Write a python program to get a line of text from the user. Sort each word in the text alphabetically and print it out.\n",
        "\n",
        "For example, if the user enters \"Jack and Jill went up the hill\", the result should be \"and hill Jack Jill the up went\"\n"
      ]
    },
    {
      "cell_type": "code",
      "execution_count": null,
      "metadata": {
        "id": "XG7W0LDgFPjl"
      },
      "outputs": [],
      "source": [
        "### YOUR CODE GOES BELOW\n",
        "\n",
        "\n",
        "### END CODE"
      ]
    },
    {
      "cell_type": "code",
      "execution_count": null,
      "metadata": {
        "id": "K_e2qr41FPjm"
      },
      "outputs": [],
      "source": []
    }
  ],
  "metadata": {
    "kernelspec": {
      "display_name": "Python 3",
      "language": "python",
      "name": "python3"
    },
    "language_info": {
      "codemirror_mode": {
        "name": "ipython",
        "version": 3
      },
      "file_extension": ".py",
      "mimetype": "text/x-python",
      "name": "python",
      "nbconvert_exporter": "python",
      "pygments_lexer": "ipython3",
      "version": "3.8.5"
    },
    "colab": {
      "provenance": []
    }
  },
  "nbformat": 4,
  "nbformat_minor": 0
}