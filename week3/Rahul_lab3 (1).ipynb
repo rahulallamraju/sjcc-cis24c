{
  "cells": [
    {
      "cell_type": "markdown",
      "metadata": {
        "id": "NBk5IZ8GKCEu"
      },
      "source": [
        "# CIS024C -  Fall 2023 - Lab 3\n",
        "\n",
        "> Indented block\n",
        "\n",
        "\n",
        "\n",
        "## Lab 3\n",
        "\n",
        "**Lab 3 the below topics**\n",
        "\n",
        "* String Manipulation\n",
        "\n",
        "Feel free to search the web for how you can solve these exercises.\n",
        "\n",
        "We will review them during class.\n",
        "\n",
        "**Students will be given points for attemping to solve the exercises. It is not required that you have the correct result **\n",
        "\n",
        "You will need to download this notebook and use this as a starting point for your homework. You will just need to fill in the content of each code-block (cell) and execute. Once you have completed all the exercises, you will need to save this notebook and upload it into Canvas.\n",
        "\n",
        "Note also the exercises build on top of one another so you might be able to do the next exercise if you have not completed the previous exercise.\n",
        "\n",
        "Post any questions you have on our Slack discussions channel"
      ]
    },
    {
      "cell_type": "markdown",
      "metadata": {
        "id": "Ep9irVVeKCEv"
      },
      "source": [
        "#### Exercise 1 (20 points)\n",
        "\n",
        "Write a Python program to accept a users name and print it in reverse"
      ]
    },
    {
      "cell_type": "code",
      "execution_count": null,
      "metadata": {
        "id": "0kb00sKWKCEw",
        "colab": {
          "base_uri": "https://localhost:8080/"
        },
        "outputId": "c4f6aef2-8d2c-4250-c59f-e17446c16dbf"
      },
      "outputs": [
        {
          "output_type": "stream",
          "name": "stdout",
          "text": [
            "Enter your name: rahul\n",
            "Reversed name is:  luhar\n"
          ]
        }
      ],
      "source": [
        "### YOUR CODE GOES BELOW\n",
        "\n",
        "user_name = input(\"Enter your name: \")\n",
        "reversed_name = user_name[::-1]\n",
        "print(\"Reversed name is: \", reversed_name)\n",
        "### END CODE"
      ]
    },
    {
      "cell_type": "markdown",
      "metadata": {
        "id": "jECO9L6eKCEw"
      },
      "source": [
        "#### Exercise 2 (20 points)\n",
        "\n",
        "Write a Python program to accept a long string from the user consisting of words that consists of alphabets and numbers. Extract the numbers in the string and display them"
      ]
    },
    {
      "cell_type": "code",
      "execution_count": null,
      "metadata": {
        "id": "hSK-1MdlKCEw",
        "colab": {
          "base_uri": "https://localhost:8080/"
        },
        "outputId": "13c692ed-76ff-4b0a-b22c-6c40927366ff"
      },
      "outputs": [
        {
          "output_type": "stream",
          "name": "stdout",
          "text": [
            "Enter your string including numbers & alphabets: sdahf2397\n",
            "Extracted numbers: 2, 3, 9, 7\n"
          ]
        }
      ],
      "source": [
        "### YOUR CODE GOES BELOW\n",
        "\n",
        "numbers = [] #initialize an empty list to store numbers\n",
        "long_string = input(\"Enter your string including numbers & alphabets: \")\n",
        "\n",
        "for c in long_string:\n",
        "  if c.isdigit():\n",
        "    numbers.append(c)\n",
        "\n",
        "\n",
        "if numbers:\n",
        "  print(\"Extracted numbers:\", \", \".join(numbers))\n",
        "else:\n",
        "  print(\"No numbers found.\")\n",
        "\n",
        "### END CODE"
      ]
    },
    {
      "cell_type": "markdown",
      "metadata": {
        "id": "nLtKyXf9KCEw"
      },
      "source": [
        "#### Exercise 3 (20 points)\n",
        "\n",
        "Write a python program to get input from the user in both upper and lower case.\n",
        "\n",
        "* Convert the input to lower case and display the result.\n",
        "* Convert the input to upper case and display the result.\n",
        "\n"
      ]
    },
    {
      "cell_type": "code",
      "execution_count": null,
      "metadata": {
        "id": "YaEMhdxiKCEx",
        "colab": {
          "base_uri": "https://localhost:8080/"
        },
        "outputId": "d87a3348-62cb-4eed-dd6f-c3f9a7da1847"
      },
      "outputs": [
        {
          "output_type": "stream",
          "name": "stdout",
          "text": [
            "Enter a text in upper and lower case: rahulAllamrajU\n",
            "User input in all lowercase is rahulallamraju\n",
            "User input in all uppercase is RAHULALLAMRAJU\n"
          ]
        }
      ],
      "source": [
        "### YOUR CODE GOES BELOW\n",
        "\n",
        "user_input = input(\"Enter a text in upper and lower case: \")\n",
        "lower_result = user_input.lower()\n",
        "upper_result = user_input.upper()\n",
        "print(\"User input in all lowercase is\", lower_result)\n",
        "print(\"User input in all uppercase is\", upper_result)\n",
        "\n",
        "### END CODE"
      ]
    },
    {
      "cell_type": "markdown",
      "metadata": {
        "id": "Jm_oodPUKCEx"
      },
      "source": [
        "#### Exercise 4 (20 points)\n",
        "\n",
        "Write a python program to get two strings from the user - a string variable named text and another string variable named match. Look for match in text and remove all occurrences of match and display the result.\n",
        "\n",
        "For example, if the string is “It is cold outside” and the search string is “cold”. Your result should be “It is outside”\n"
      ]
    },
    {
      "cell_type": "code",
      "execution_count": null,
      "metadata": {
        "id": "NTiIMqAtKCEx",
        "colab": {
          "base_uri": "https://localhost:8080/"
        },
        "outputId": "60046360-cf8a-4672-810a-ec42f09c9deb"
      },
      "outputs": [
        {
          "output_type": "stream",
          "name": "stdout",
          "text": [
            "Enter a phrase: abcdef\n",
            "Enter a word to be replaced: def\n",
            "The modified text after removing occurrences of 'def' is:\n",
            "abc\n"
          ]
        }
      ],
      "source": [
        "### YOUR CODE GOES BELOW\n",
        "\n",
        "text = input(\"Enter a phrase: \")\n",
        "match = input(\"Enter a word to be replaced: \")\n",
        "\n",
        "result = text.replace(match, \"\")\n",
        "\n",
        "#print the modified text\n",
        "print(\"The modified text after removing occurrences of '\" + match + \"' is:\")\n",
        "print(result)\n",
        "\n",
        "### END CODE"
      ]
    },
    {
      "cell_type": "markdown",
      "metadata": {
        "id": "ObbfpG5NKCEx"
      },
      "source": [
        "#### Exercise 5 (20 points)\n",
        "\n",
        "Write a python program to accept a set of comma separated set of values from the user and display each individual value separately.\n"
      ]
    },
    {
      "cell_type": "code",
      "execution_count": null,
      "metadata": {
        "id": "nGZ2HLE_KCEx",
        "colab": {
          "base_uri": "https://localhost:8080/"
        },
        "outputId": "3a7b6499-63f0-4ba1-b389-615597644645"
      },
      "outputs": [
        {
          "output_type": "stream",
          "name": "stdout",
          "text": [
            "Enter a set of comma-separated values: 1, 2, 3, 4\n",
            "Individual values:\n",
            "1\n",
            "2\n",
            "3\n",
            "4\n"
          ]
        }
      ],
      "source": [
        "### YOUR CODE GOES BELOW\n",
        "input_values = input(\"Enter a set of comma-separated values: \")\n",
        "\n",
        "values_list = input_values.split(\",\")\n",
        "\n",
        "print(\"Individual values:\")\n",
        "for value in values_list:\n",
        "    trimmed_value = value.strip()\n",
        "    print(trimmed_value)\n",
        "\n",
        "\n",
        "### END CODE"
      ]
    },
    {
      "cell_type": "markdown",
      "metadata": {
        "id": "KbwXHYWmKCEx"
      },
      "source": [
        "## When completed, Save, download the notebook and upload into Canvas"
      ]
    },
    {
      "cell_type": "code",
      "execution_count": null,
      "metadata": {
        "id": "_vRbqCE9KCEx"
      },
      "outputs": [],
      "source": []
    }
  ],
  "metadata": {
    "kernelspec": {
      "display_name": "Python 3",
      "language": "python",
      "name": "python3"
    },
    "language_info": {
      "codemirror_mode": {
        "name": "ipython",
        "version": 3
      },
      "file_extension": ".py",
      "mimetype": "text/x-python",
      "name": "python",
      "nbconvert_exporter": "python",
      "pygments_lexer": "ipython3",
      "version": "3.8.5"
    },
    "colab": {
      "provenance": []
    }
  },
  "nbformat": 4,
  "nbformat_minor": 0
}