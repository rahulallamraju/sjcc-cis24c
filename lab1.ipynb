{
 "cells": [
  {
   "cell_type": "markdown",
   "metadata": {
    "id": "HRZK6ne5RFu7"
   },
   "source": [
    "# CIS024C -  Spring 2024\n",
    "\n",
    "## Lab 1\n",
    "\n",
    "Lab 1 covers Python basics that we discussed during the first class.\n",
    "\n",
    "Feel free to search the web for how you can solve these exercises.\n",
    "\n",
    "We will review them during class.\n",
    "\n",
    "**Students will be given points for attemping to solve the exercises. It is not required that you have the correct result **\n",
    "\n",
    "You will need to share the URL of your page in Canvas as the answer of your Lab."
   ]
  },
  {
   "cell_type": "markdown",
   "metadata": {
    "id": "BqNdvde5RFvB"
   },
   "source": [
    "#### Exercise 1\n",
    "\n",
    "Write a Python program to print the following string in a specific format (see the output). Go to the editor\n",
    "\n",
    "```\n",
    "Sample String :\n",
    "\n",
    "\"Twinkle, twinkle, little star, How I wonder what you are! Up above the world so high, Like a diamond in the sky. Twinkle, twinkle, little star, How I wonder what you are\"\n",
    "\n",
    "Output :\n",
    "\n",
    "\n",
    "Twinkle, twinkle, little star,\n",
    "\tHow I wonder what you are!\n",
    "\t\tUp above the world so high,\n",
    "\t\tLike a diamond in the sky.\n",
    "Twinkle, twinkle, little star,\n",
    "\tHow I wonder what you are\n",
    "```\n",
    "\n",
    "Hint:\n",
    "\n",
    "the tab character '\\t' can be used to achieve this effect"
   ]
  },
  {
   "cell_type": "code",
   "execution_count": 7,
   "metadata": {
    "id": "5R_e6v0bRFvC"
   },
   "outputs": [
    {
     "name": "stdout",
     "output_type": "stream",
     "text": [
      "Twinkle, twinkle, little star,\n",
      "\tHow I wonder what you are!\n",
      "\t\tUp above the world so high,\n",
      "\t\tLike a diamond in the sky.\n",
      "Twinkle, twinkle, little star,\n",
      "\tHow I wonder what you are\n"
     ]
    }
   ],
   "source": [
    "### YOUR CODE GOES BELOW\n",
    "print(\"Twinkle, twinkle, little star,\")\n",
    "print(\"\\tHow I wonder what you are!\")\n",
    "print(\"\\t\\tUp above the world so high,\")\n",
    "print(\"\\t\\tLike a diamond in the sky.\")\n",
    "print(\"Twinkle, twinkle, little star,\")\n",
    "print(\"\\tHow I wonder what you are\")\n",
    "### END CODE\n"
   ]
  },
  {
   "cell_type": "markdown",
   "metadata": {
    "id": "55tmvO_hRFvE"
   },
   "source": [
    "#### Exercise 2\n",
    "\n",
    "Write a Python program to get the Python version you are using\n",
    "\n",
    "python --version gives you the version. You will need to use the magic character to run command line programs (!) before you invoke the python command"
   ]
  },
  {
   "cell_type": "code",
   "execution_count": 8,
   "metadata": {
    "id": "FqaWRJLWRFvF"
   },
   "outputs": [
    {
     "name": "stdout",
     "output_type": "stream",
     "text": [
      "Python version using sys: 3.8.18 | packaged by conda-forge | (default, Oct 10 2023, 15:46:56) \n",
      "[Clang 16.0.6 ]\n"
     ]
    }
   ],
   "source": [
    "import sys\n",
    "\n",
    "print(\"Python version using sys:\", sys.version)\n",
    "\n",
    "\n"
   ]
  },
  {
   "cell_type": "markdown",
   "metadata": {
    "id": "K1_f1_ygRFvF"
   },
   "source": [
    "#### Exercise 3\n",
    "\n",
    "Write a Python program to display the current date and time.\n",
    "\n",
    "Hint:\n",
    "\n",
    "Try doing a google search to see if there is a simple way to do this\n",
    "\n"
   ]
  },
  {
   "cell_type": "code",
   "execution_count": 18,
   "metadata": {
    "id": "BpIF6oWmRFvF"
   },
   "outputs": [
    {
     "name": "stdout",
     "output_type": "stream",
     "text": [
      "Formatted date and time is:  02-25-2024 16:47:26\n"
     ]
    }
   ],
   "source": [
    "import datetime\n",
    "\n",
    "now = datetime.datetime.now()\n",
    "\n",
    "formatted_datetime = now.strftime(\"%m-%d-%Y %H:%M:%S\")  # Example format YYYY-MM-DD HH:MM:SS\n",
    "\n",
    "print(\"Formatted date and time is: \", formatted_datetime)\n"
   ]
  },
  {
   "cell_type": "markdown",
   "metadata": {
    "id": "d7vZ2-RcRFvF"
   },
   "source": [
    "#### Exercise 4\n",
    "\n",
    "Write a Python program which accepts the radius of a circle from the user and compute the area"
   ]
  },
  {
   "cell_type": "code",
   "execution_count": 22,
   "metadata": {
    "id": "SXn1-N_tRFvG"
   },
   "outputs": [
    {
     "name": "stdin",
     "output_type": "stream",
     "text": [
      "Enter a value for radius:  6\n"
     ]
    },
    {
     "name": "stdout",
     "output_type": "stream",
     "text": [
      "The circle's area is:  113.03999999999999\n"
     ]
    }
   ],
   "source": [
    "radius = int(input(\"Enter a value for radius: \"))\n",
    "PI = 3.14\n",
    "area = PI * radius * radius\n",
    "\n",
    "print(\"The circle's area is: \", area)"
   ]
  },
  {
   "cell_type": "markdown",
   "metadata": {
    "id": "fmwi_PVORFvG"
   },
   "source": [
    "#### Exercise 5\n",
    "\n",
    "Write a Python program which accepts the user's first and last name and print them in reverse order with a space between them\n",
    "\n",
    "Hint:\n",
    "\n",
    "Use the string.split command to do this, for example if you have a string \"Hello World\" assigned to a variable myString. You can get the first and last words by splitting using a space character like below\n",
    "\n",
    "myString.split(' ')"
   ]
  },
  {
   "cell_type": "code",
   "execution_count": 32,
   "metadata": {
    "id": "h-T-qIShRFvG"
   },
   "outputs": [
    {
     "name": "stdin",
     "output_type": "stream",
     "text": [
      "Enter your first and last name:  rahul allamraju\n"
     ]
    },
    {
     "name": "stdout",
     "output_type": "stream",
     "text": [
      "Reversed Name: allamraju rahul\n"
     ]
    }
   ],
   "source": [
    "full_name = input(\"Enter your first and last name: \")\n",
    "\n",
    "name_list = full_name.split()\n",
    "\n",
    "if len(name_list) == 2:\n",
    "    reversed_name = name_list[1] + ' ' + name_list[0]\n",
    "    print(\"Reversed Name:\", reversed_name)"
   ]
  },
  {
   "cell_type": "markdown",
   "metadata": {
    "id": "D5OooHviRFvH"
   },
   "source": [
    "#### Exercise 6\n",
    "\n",
    "Write a Python program which accepts a sequence of comma-separated numbers from user and generate a list and a tuple with those numbers\n",
    "\n",
    "Hint:\n",
    "\n",
    "See Exercise 5 for usage of split command"
   ]
  },
  {
   "cell_type": "code",
   "execution_count": 37,
   "metadata": {
    "id": "zo34l5ohRFvH"
   },
   "outputs": [
    {
     "name": "stdin",
     "output_type": "stream",
     "text": [
      "Enter a list of comma-separated numbers:  1, 3, 5, 7, 9\n"
     ]
    },
    {
     "name": "stdout",
     "output_type": "stream",
     "text": [
      "List: [1, 3, 5, 7, 9]\n",
      "Tuple: (1, 3, 5, 7, 9)\n"
     ]
    }
   ],
   "source": [
    "num_list = input(\"Enter a list of comma-separated numbers: \")\n",
    "\n",
    "string_list = num_list.split(',')\n",
    "\n",
    "integers_list = [int(num) for num in string_list]\n",
    "\n",
    "tuple_list = tuple(integers_list)\n",
    "\n",
    "print(\"List:\", integers_list)\n",
    "print(\"Tuple:\", tuple_list)\n"
   ]
  },
  {
   "cell_type": "markdown",
   "metadata": {
    "id": "7XBtYUdaRFvI"
   },
   "source": [
    "#### Exercise 7\n",
    "\n",
    "Write a Python program to accept a filename from the user and print the extension of that\n",
    "\n",
    "Hint:\n",
    "\n",
    "See split command\n"
   ]
  },
  {
   "cell_type": "code",
   "execution_count": 39,
   "metadata": {
    "id": "yjofY6LMRFvI"
   },
   "outputs": [
    {
     "name": "stdin",
     "output_type": "stream",
     "text": [
      "Enter a filename with extension:  file.txt\n"
     ]
    },
    {
     "name": "stdout",
     "output_type": "stream",
     "text": [
      "File Extension: txt\n"
     ]
    }
   ],
   "source": [
    "fileName = input(\"Enter a filename with extension: \")\n",
    "\n",
    "# Split the filename into name and extension\n",
    "name, extension = fileName.split('.')\n",
    "\n",
    "# Print the extension\n",
    "print(\"File Extension:\", extension)\n"
   ]
  },
  {
   "cell_type": "markdown",
   "metadata": {
    "id": "KxW7FT4WRFvJ"
   },
   "source": [
    "#### Exercise 8\n",
    "\n",
    "Write a  Python program that accepts an integer (n) and computes the value of n+nn+nnn"
   ]
  },
  {
   "cell_type": "code",
   "execution_count": 44,
   "metadata": {
    "id": "4WPAslYpRFvJ"
   },
   "outputs": [
    {
     "name": "stdin",
     "output_type": "stream",
     "text": [
      "Enter an integer:  1\n"
     ]
    },
    {
     "name": "stdout",
     "output_type": "stream",
     "text": [
      "6\n"
     ]
    }
   ],
   "source": [
    " "
   ]
  }
 ],
 "metadata": {
  "colab": {
   "provenance": []
  },
  "kernelspec": {
   "display_name": "Python 3 (ipykernel)",
   "language": "python",
   "name": "python3"
  },
  "language_info": {
   "codemirror_mode": {
    "name": "ipython",
    "version": 3
   },
   "file_extension": ".py",
   "mimetype": "text/x-python",
   "name": "python",
   "nbconvert_exporter": "python",
   "pygments_lexer": "ipython3",
   "version": "3.8.18"
  }
 },
 "nbformat": 4,
 "nbformat_minor": 4
}
